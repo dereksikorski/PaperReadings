{
 "cells": [
  {
   "attachments": {},
   "cell_type": "markdown",
   "metadata": {},
   "source": [
    "<font size = 6>**Title**:       </font>"
   ]
  },
  {
   "attachments": {},
   "cell_type": "markdown",
   "metadata": {},
   "source": [
    "<font size = 5>**Author(s)**:       </font>\n",
    "\n",
    "<font size = 5>**Date**:       </font>\n",
    "\n",
    "______________"
   ]
  },
  {
   "attachments": {},
   "cell_type": "markdown",
   "metadata": {},
   "source": [
    "<font size = 5> Abstract </font>"
   ]
  }
 ],
 "metadata": {
  "kernelspec": {
   "display_name": "py38",
   "language": "python",
   "name": "python3"
  },
  "language_info": {
   "name": "python",
   "version": "3.8.5"
  },
  "orig_nbformat": 4,
  "vscode": {
   "interpreter": {
    "hash": "dc221fe95b0e25ab6c5eabb7ae10620e452c9910b94a130be58d16d7a7abb398"
   }
  }
 },
 "nbformat": 4,
 "nbformat_minor": 2
}
