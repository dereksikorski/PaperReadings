{
 "cells": [
  {
   "attachments": {},
   "cell_type": "markdown",
   "metadata": {},
   "source": [
    "<font size = 6>**Title**: Black Hole Growth to *z=2* - I : Improved Virial Methods for Measuring $M_{BH}$ & $L/L_{Edd}$     </font>"
   ]
  },
  {
   "attachments": {},
   "cell_type": "markdown",
   "metadata": {},
   "source": [
    "<font size = 5>**Author(s)**: Benny Trakhtenbrot and Hagai Netzer       </font>\n",
    "\n",
    "<font size = 5>**Date**: December 2012       </font>\n",
    "\n",
    "______________"
   ]
  },
  {
   "attachments": {},
   "cell_type": "markdown",
   "metadata": {},
   "source": [
    "<font size = 5> Abstract </font>"
   ]
  },
  {
   "attachments": {},
   "cell_type": "markdown",
   "metadata": {},
   "source": [
    "- Test how Mg $_{II} \\lambda 2798$ and C $_{IV} \\lambda 1549$ emission line complexes can be used to estimate $M_{BH}$, $L_{bol}$, and $(L/L_{Edd})$\n",
    "- Apply these to probe evolution of $(L/L_{Edd})$ to $z \\approx 2$"
   ]
  },
  {
   "attachments": {},
   "cell_type": "markdown",
   "metadata": {},
   "source": [
    "<font size = 5> Introduction </font>"
   ]
  },
  {
   "attachments": {},
   "cell_type": "markdown",
   "metadata": {},
   "source": [
    "- Several studies show that $(L/L_{Edd}) \\propto z$\n",
    "    - Higher redshift SMBHs were larger and had higher *nomarlized accretion rates*\n",
    "- $M_{BH}$ in unobscured, Type-I AGN can be estimated by \"**single-epoch**\" or \"**virial**\" estimators\n",
    "    - Rely on Reverberation-Mapping (RM) experiments\n",
    "        - Provide relation between emissivity-weighted radius of BLR and source Luminosity (**$R_{BLR}-L$**) parameterized as $R_{BLR}\\propto (\\lambda L_{\\lambda})^\\alpha$\n",
    "    - Assuming motion of BLR is virialized:\n",
    "    $$\n",
    "    M_{BH} = fG^{-1}(\\lambda L_\\lambda)^\\alpha V^2_{BLR}\n",
    "    $$\n",
    "    - where $V_{BLR}$ = probe of BLR velocity field and $f$ = factor depending on geometrical dist. of BLR gas"
   ]
  },
  {
   "attachments": {},
   "cell_type": "markdown",
   "metadata": {},
   "source": [
    "- One virial estimator is the \"$H\\beta$ method\" AKA $(M_{BH}[L_{5000}])$\n",
    "    - $R_{BLR}$ estimated from $\\lambda L_\\lambda$ at $5100 \\AA$ \n",
    "    - $V_{BLR}$ = FWHM($H\\beta$)\n",
    "    - $\\alpha = 0.6 \\pm 0.1$"
   ]
  },
  {
   "attachments": {},
   "cell_type": "markdown",
   "metadata": {},
   "source": [
    "- Another virial estimator uses the Mg $_{ II} \\lambda 2798$ line and adjacent continuum luminosity ($L_{3000}$)\n",
    "    - RM-campaigns focused on $R_{BLR}-L_{3000}$ haven't shown robust relation\n",
    "    - Several have instead calibrated Mg $_{II}$ relation using UV spectra of sources w/ $H\\beta$ reverb. data\n"
   ]
  },
  {
   "attachments": {},
   "cell_type": "markdown",
   "metadata": {},
   "source": [
    "- In principle, $M_{BH}$ can be estimated via C $_{IV} \\lambda 1549$ line\n",
    "    - $R_{BLR}$(C $_{IV}$) known from RM\n",
    "    - Would potentially enable study of AGN at $1.5 \\leq z \\leq 5$\n",
    "    - *HOWEVER* there is reason to believe this method may be flawd due to non-virial motion:\n",
    "        - Line is often found to be blueshifted w.r.t AGN rest-frame\n",
    "        - FWHM(C $_{IV}$) often < FWHM($H\\beta$)\n",
    "    - Study suggested empirical correction basedon shape of observed UV-optical SED\n",
    "        - Sometimes the optical is unobservable for high $z$ AGN"
   ]
  },
  {
   "attachments": {},
   "cell_type": "markdown",
   "metadata": {},
   "source": [
    "<font size = 5> Samples Selection </font>"
   ]
  },
  {
   "attachments": {},
   "cell_type": "markdown",
   "metadata": {},
   "source": [
    "- Mg $_{II}$ can be compared to C $_{IV}$ and $H\\beta$ in same spectroscoptic window whereas the latter two must use different surveys"
   ]
  },
  {
   "attachments": {},
   "cell_type": "markdown",
   "metadata": {},
   "source": [
    "Samples summarized below:\n",
    "\n",
    "![Sample](SampleTable.png.png)"
   ]
  }
 ],
 "metadata": {
  "kernelspec": {
   "display_name": "py38",
   "language": "python",
   "name": "python3"
  },
  "language_info": {
   "name": "python",
   "version": "3.8.5 (default, Sep  3 2020, 21:29:08) [MSC v.1916 64 bit (AMD64)]"
  },
  "orig_nbformat": 4,
  "vscode": {
   "interpreter": {
    "hash": "dc221fe95b0e25ab6c5eabb7ae10620e452c9910b94a130be58d16d7a7abb398"
   }
  }
 },
 "nbformat": 4,
 "nbformat_minor": 2
}
