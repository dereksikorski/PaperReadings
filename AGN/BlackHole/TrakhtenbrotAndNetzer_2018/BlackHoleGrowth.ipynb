{
 "cells": [
  {
   "attachments": {},
   "cell_type": "markdown",
   "metadata": {},
   "source": [
    "<font size = 6>**Title**: Black Hole Growth to *z=2* - I : Improved Virial Methods for Measuring $M_{BH}$ & $L/L_{Edd}$     </font>"
   ]
  },
  {
   "attachments": {},
   "cell_type": "markdown",
   "metadata": {},
   "source": [
    "<font size = 5>**Author(s)**: Benny Trakhtenbrot and Hagai Netzer       </font>\n",
    "\n",
    "<font size = 5>**Date**: December 2012       </font>\n",
    "\n",
    "______________"
   ]
  },
  {
   "attachments": {},
   "cell_type": "markdown",
   "metadata": {},
   "source": [
    "<font size = 5> Abstract </font>"
   ]
  },
  {
   "attachments": {},
   "cell_type": "markdown",
   "metadata": {},
   "source": [
    "- Test how Mg $_{II} \\lambda 2798$ and C $_{IV} \\lambda 1549$ emission line complexes can be used to estimate $M_{BH}$, $L_{bol}$, and $(L/L_{Edd})$\n",
    "- Apply these to probe evolution of $(L/L_{Edd})$ to $z \\approx 2$"
   ]
  },
  {
   "attachments": {},
   "cell_type": "markdown",
   "metadata": {},
   "source": [
    "<font size = 5>1. Introduction </font>"
   ]
  },
  {
   "attachments": {},
   "cell_type": "markdown",
   "metadata": {},
   "source": [
    "- Several studies show that $(L/L_{Edd}) \\propto z$\n",
    "    - Higher redshift SMBHs were larger and had higher *nomarlized accretion rates*\n",
    "- $M_{BH}$ in unobscured, Type-I AGN can be estimated by \"**single-epoch**\" or \"**virial**\" estimators\n",
    "    - Rely on Reverberation-Mapping (RM) experiments\n",
    "        - Provide relation between emissivity-weighted radius of BLR and source Luminosity (**$R_{BLR}-L$**) parameterized as $R_{BLR}\\propto (\\lambda L_{\\lambda})^\\alpha$\n",
    "    - Assuming motion of BLR is virialized:\n",
    "    $$\n",
    "    M_{BH} = fG^{-1}(\\lambda L_\\lambda)^\\alpha V^2_{BLR}\n",
    "    $$\n",
    "    - where $V_{BLR}$ = probe of BLR velocity field and $f$ = factor depending on geometrical dist. of BLR gas"
   ]
  },
  {
   "attachments": {},
   "cell_type": "markdown",
   "metadata": {},
   "source": [
    "- One virial estimator is the \"$H\\beta$ method\" AKA $(M_{BH}[L_{5000}])$\n",
    "    - $R_{BLR}$ estimated from $\\lambda L_\\lambda$ at $5100 \\AA$ \n",
    "    - $V_{BLR}$ = FWHM($H\\beta$)\n",
    "    - $\\alpha = 0.6 \\pm 0.1$"
   ]
  },
  {
   "attachments": {},
   "cell_type": "markdown",
   "metadata": {},
   "source": [
    "- Another virial estimator uses the Mg $_{ II} \\lambda 2798$ line and adjacent continuum luminosity ($L_{3000}$)\n",
    "    - RM-campaigns focused on $R_{BLR}-L_{3000}$ haven't shown robust relation\n",
    "    - Several have instead calibrated Mg $_{II}$ relation using UV spectra of sources w/ $H\\beta$ reverb. data\n"
   ]
  },
  {
   "attachments": {},
   "cell_type": "markdown",
   "metadata": {},
   "source": [
    "- In principle, $M_{BH}$ can be estimated via C $_{IV} \\lambda 1549$ line\n",
    "    - $R_{BLR}$(C $_{IV}$) known from RM\n",
    "    - Would potentially enable study of AGN at $1.5 \\leq z \\leq 5$\n",
    "    - *HOWEVER* there is reason to believe this method may be flawd due to non-virial motion:\n",
    "        - Line is often found to be blueshifted w.r.t AGN rest-frame\n",
    "        - FWHM(C $_{IV}$) often < FWHM($H\\beta$)\n",
    "    - Study suggested empirical correction basedon shape of observed UV-optical SED\n",
    "        - Sometimes the optical is unobservable for high $z$ AGN"
   ]
  },
  {
   "attachments": {},
   "cell_type": "markdown",
   "metadata": {},
   "source": [
    "<font size = 5>2. Samples Selection </font>"
   ]
  },
  {
   "attachments": {},
   "cell_type": "markdown",
   "metadata": {},
   "source": [
    "- Mg $_{II}$ can be compared to C $_{IV}$ and $H\\beta$ in same spectroscoptic window whereas the latter two must use different surveys"
   ]
  },
  {
   "attachments": {},
   "cell_type": "markdown",
   "metadata": {},
   "source": [
    "<img src=\"SampleTable.png\" alt=\"Samples\" width=\"1000\"/>"
   ]
  },
  {
   "attachments": {},
   "cell_type": "markdown",
   "metadata": {},
   "source": [
    "<font size=5>3. Line and Continuum Fitting </font>"
   ]
  },
  {
   "attachments": {},
   "cell_type": "markdown",
   "metadata": {},
   "source": [
    "- Linear continuum model fitted to flux densities in two $20 \\AA$-wide \"bands\" on both sides of relevant emission line\n",
    "\n",
    "|Line|Band 1 center ($\\AA$)|Band 2 center ($\\AA$)|\n",
    "|:---:|:---:|:---:|\n",
    "|$H\\beta$|4435|5110|\n",
    "|Mg II|2655| 3020|\n",
    "|C IV| 1450| 1690|\n",
    "\n",
    "- Next, for Mg II and C IV, subtract a template of Fe II and Fe III emission lines\n",
    "    - Choose based on best-fit broadened/shifted template based on either:\n",
    "        - Boroson & Green (1992)\n",
    "        - Vestergaard (2004)\n",
    "    - For Mg II, can add flux in wl range under the emission line itself\n"
   ]
  },
  {
   "attachments": {},
   "cell_type": "markdown",
   "metadata": {},
   "source": [
    "- Emission line itself if modeled by combo of **two broad** and **one narrow** Gaussians.\n",
    "    - For Mg II and C IV, model is duplicated *for each* doublet component\n",
    "    - **See Appendix C** for\n",
    "        - Ranges of relevant params\n",
    "        - Narrow ($\\leq 1000$ km/s) components of all lines\n",
    "        - Improved iron template for Mg II spectral complex/scaling\n",
    "        - Difference between paper's fitted $L_{3000}$ continuum and \"real\" power-law continuum\n",
    "        - Emission features surronding C IV line"
   ]
  },
  {
   "attachments": {},
   "cell_type": "markdown",
   "metadata": {},
   "source": [
    "- For $L_{5100}$ around $H \\beta$ need to find:\n",
    "    - FWHM\n",
    "    - line dispersion $\\sigma$ (following Peterson et al. 2004)\n",
    "    - inter-percentile velocity (following Croom et al. 2004)"
   ]
  },
  {
   "attachments": {},
   "cell_type": "markdown",
   "metadata": {},
   "source": [
    "- For $H\\beta$, use:\n",
    "$$\n",
    "R_{BLR} (H\\beta) = 538.2 (\\frac{L_{5100}}{10^{46}\\text{ erg s}^{-1}} )^{0.65} \\text{ lt-days}\n",
    "$$\n",
    "and, assuming $f = 1$, then:\n",
    "$$\n",
    "M_{BH}(H\\beta) = 1.05 \\cdot 10^8 (\\frac{L_{5100}}{10^{46}\\text{ erg s}^{-1}} )^{0.65} [\\frac{\\text{FWHM}(H\\beta)}{10^3 \\text{ km s}^{-1}}]^2 \\text{  }M_\\odot\n",
    "$$"
   ]
  },
  {
   "attachments": {},
   "cell_type": "markdown",
   "metadata": {},
   "source": [
    "- For C IV, use:\n",
    "$$\n",
    "R_{BLR}(C IV) = 107.2(\\frac{L_{1450}}{10^{46} \\text{ erg s}^{-1}})^{0.55} \\text{ lt-days}\n",
    "$$"
   ]
  },
  {
   "attachments": {},
   "cell_type": "markdown",
   "metadata": {},
   "source": [
    "<font size = 5>4. Luminosities and Bolometric Corrections </font>"
   ]
  },
  {
   "attachments": {},
   "cell_type": "markdown",
   "metadata": {},
   "source": [
    "**4.1 Monochromatic Luminosities and SED Shapes**"
   ]
  },
  {
   "attachments": {},
   "cell_type": "markdown",
   "metadata": {},
   "source": [
    "- The UV-optical continuum between $1300-5000 \\AA$ described well by $f_\\nu = \\nu^{-0.5}$"
   ]
  },
  {
   "attachments": {},
   "cell_type": "markdown",
   "metadata": {},
   "source": [
    "**4.2 Bolometric Corrections**"
   ]
  },
  {
   "attachments": {},
   "cell_type": "markdown",
   "metadata": {},
   "source": [
    "- Need to assign a bolometric correction factor: $f_{bol}(\\lambda) = L_{bol}/\\lambda L_\\lambda$\n",
    "- Previous studies have assumed const. $f_{bol}(3000)$, which *is not right*\n",
    "    - Const. $f_{bol}$ based on total *observed* X-ray to MIR SED of AGN, which double counts part of AGN radiation\n",
    "        - MIR originates from re-processing of the UV-optical radiation\n",
    "    - Shape of SED is Luminosity-dependent, and is most dependent in X-ray (and maybe UV) regime.\n",
    "        - In general, $L_X \\propto 1/L_{UV-opt}$"
   ]
  },
  {
   "attachments": {},
   "cell_type": "markdown",
   "metadata": {},
   "source": [
    "- New prescription presented by paper is:\n",
    "$$\n",
    "f_{bol}(3000) = 4.12 - 2.13\\mathcal{L}_{3000,45} + 1.76\\mathcal{L}_{3000,45}^2 - 0.54\\mathcal{L}_{3000,45}^3\n",
    "$$\n",
    "- where $\\mathcal{L}_{3000,45} = \\log{L_{3000}/10^{45} \\text{ erg s}^{-1}}$\n",
    "    - **Caution**: Do not use this bol. correction for sources w/ $L_{3000} \\leq 10^{44}$ erg/s\n",
    "        - Case where emission from host galaxy is comparable to AGN's and where the spectroscopic aperture affects determination of host emission"
   ]
  },
  {
   "attachments": {},
   "cell_type": "markdown",
   "metadata": {},
   "source": [
    "- Real uncertainties in estimates of $L_{bol}$ goverened by:\n",
    "    - the range of global SED variations between sources\n",
    "    - Assumed physical/empirical model for the UV SED"
   ]
  },
  {
   "attachments": {},
   "cell_type": "markdown",
   "metadata": {},
   "source": [
    "<font size = 5>5. Virial $M_{BH}$ Estimates: Basic Considerations</font>"
   ]
  },
  {
   "attachments": {},
   "cell_type": "markdown",
   "metadata": {},
   "source": [
    "Four critical points to be considered:"
   ]
  },
  {
   "attachments": {},
   "cell_type": "markdown",
   "metadata": {},
   "source": [
    "(i)\n",
    "- Emissivity-weighted radius ($R_{BLR}$) known from direct RM measurements almost exlusively only for $H\\beta$ and C IV emission lines, and to a much lesser extent Mg II\n",
    "    - Equations given in **Section 3**\n",
    "        - Assume no reddening-related or other corrections required\n",
    "- $\\alpha$ in ($R_{BLR} \\propto L^\\alpha)$ is empircally determined s.t. $\\alpha \\in [0.5,0.7]$\n",
    "    - Unclear if this is ind. of L"
   ]
  },
  {
   "attachments": {},
   "cell_type": "markdown",
   "metadata": {},
   "source": [
    "(ii)\n",
    "- Mean ratio of RM-based $H\\beta$ and C IV radii is about 3.7\n",
    "    - May vary significantly for individual sources\n",
    "- Mean ratio (in this study) of luminosities is $L_{1450}/L_{5100} \\approx 1.9$\n",
    "    - Assumption is that this represents pop. of un-reddend type I AGN well\n",
    "    - Corrections cannot be applied to sources varying significantly from this number"
   ]
  },
  {
   "attachments": {},
   "cell_type": "markdown",
   "metadata": {},
   "source": [
    "(iii)\n",
    "- Predict that FWHM(C IV) / FWHM($H\\beta) \\approx \\sqrt{3.7}$, which is based on:\n",
    "    - virial motion of BLR\n",
    "    - Use of line FWHMs as gas velocity indicator\n",
    "    - assumption that global geometry of $H\\beta$ and C IV parts of the BLR are similar (two spheres of different radii)"
   ]
  },
  {
   "attachments": {},
   "cell_type": "markdown",
   "metadata": {},
   "source": [
    "(iv)\n",
    "- Best value for the geometrical factor is $f = 1.0$\n",
    "    - Average obtained in studies\n",
    "    - Based on $H\\beta$ (no good estimate based *solely* on C IV)"
   ]
  },
  {
   "attachments": {},
   "cell_type": "markdown",
   "metadata": {},
   "source": [
    "<font size = 5>6. Estimating $M_{BH}$ with Mg II $\\lambda 2798$ </font>"
   ]
  },
  {
   "attachments": {},
   "cell_type": "markdown",
   "metadata": {},
   "source": [
    "- Must calibrate against $M_{BH}(H\\beta)$ using the assumption that $R_{BLR}(Mg II) = R_{BLR} (H\\beta)$"
   ]
  },
  {
   "attachments": {},
   "cell_type": "markdown",
   "metadata": {},
   "source": [
    "**6.1 Using $L_{3000}$ to Estimate $R_{BLR}$**"
   ]
  },
  {
   "attachments": {},
   "cell_type": "markdown",
   "metadata": {},
   "source": [
    "- There is a high-correlation between these values\n",
    "    - Reflects the narrow dist. of UV-optical continuum slopes\n",
    "\n",
    "Come up with relation:\n",
    "$$\n",
    "\\log{R_{BLR}} = \\alpha \\log{(\\frac{L_{3000}}{10^{44} \\text{ erg s}^{-1}})} + \\beta\n",
    "$$\n",
    "where $\\alpha \\approx 0.615$ and $\\beta \\approx 1.33$"
   ]
  },
  {
   "attachments": {},
   "cell_type": "markdown",
   "metadata": {},
   "source": [
    "Can estimate:\n",
    "$$\n",
    "R_{BLR} (L_{3000}) = 21.38(\\frac{L_{3000}}{10^{44} \\text{erg s}^{-1}})^{0.62} \\text{ lt-days}\n",
    "$$\n",
    "- **Caution**: Do not use for $L_{3000} < 10^45$ erg/s"
   ]
  },
  {
   "attachments": {},
   "cell_type": "markdown",
   "metadata": {},
   "source": [
    "**6.2 Using L(Mg II) to estimate $R_{BLR}$**"
   ]
  },
  {
   "attachments": {},
   "cell_type": "markdown",
   "metadata": {},
   "source": [
    "Shows more scatter than previous relation. This is given by:\n",
    "$$\n",
    "\\log{R_{BLR}} = \\alpha\\log(\\frac{L(\\text{Mg II})}{10^{42} \\text{erg s}^{-1}}) + \\beta\n",
    "$$\n",
    "- To use this, need to correct for the adjacent Fe II and Fe III lines which means you need to essentially find the continuum anyways!"
   ]
  },
  {
   "attachments": {},
   "cell_type": "markdown",
   "metadata": {},
   "source": [
    "**6.3 The Width of the Mg II $\\lambda 2798$ line**"
   ]
  },
  {
   "attachments": {},
   "cell_type": "markdown",
   "metadata": {},
   "source": [
    "- At large widths (FWHM(Mg II) $\\leq 4000$ km/s), the width of the line is much larger than the separation between the two components"
   ]
  },
  {
   "attachments": {},
   "cell_type": "markdown",
   "metadata": {},
   "source": [
    "Simple relation:\n",
    "$$\n",
    "\\text{FWHM(MgII, single)} = 1.01\\cdot \\text{FWHM(MgII,total)} - 304\\text{ km s}^{-1}\n",
    "$$"
   ]
  },
  {
   "attachments": {},
   "cell_type": "markdown",
   "metadata": {},
   "source": [
    "Also relate to $H\\beta$:\n",
    "$$\n",
    "\\log{\\text{FWHM(MgII)}} = (0.803 \\pm 0.007)\\log{\\text{FWHM}(H\\beta)} + (0.628\\pm 0.027)\n",
    "$$"
   ]
  },
  {
   "attachments": {},
   "cell_type": "markdown",
   "metadata": {},
   "source": [
    "**6.4 Determination of $M_{BH}$(MgII)**"
   ]
  },
  {
   "attachments": {},
   "cell_type": "markdown",
   "metadata": {},
   "source": [
    "Determine \"emprical scaling factor\":\n",
    "$$\n",
    "\\mu(\\text{Mg II}) = \\frac{1}{G}R_{BLR}(L_{3000})\\text{FWHM(Mg II)}^2\n",
    "$$\n",
    "with $R_{BLR}$ given above"
   ]
  },
  {
   "attachments": {},
   "cell_type": "markdown",
   "metadata": {},
   "source": [
    "The normalization factor is then:\n",
    "$$\n",
    "f(MgII) = \\frac{M_{BH}(H\\beta)}{\\mu(MgII)} = 1.33\n",
    "$$"
   ]
  },
  {
   "attachments": {},
   "cell_type": "markdown",
   "metadata": {},
   "source": [
    "**THUS**\n",
    "$$\n",
    "M_{BH}(\\text{Mg II}) = (5.6\\cdot 10^6)(\\frac{L_{3000}}{10^44 \\text{ erg s}^{-1}})^{0.62} (\\frac{\\text{FWHM(MgII)}}{10^3 \\text{ km s}^{-1}})^{2} \\text{ }M_\\odot\n",
    "$$\n",
    "or\n",
    "$$\n",
    "M_{BH}(\\text{Mg II}) = (6.79\\cdot 10^6)(\\frac{L(\\text{Mg II})}{10^{42} \\text{ erg s}^{-1}})^{0.62} (\\frac{\\text{FWHM(MgII)}}{10^3 \\text{ km s}^{-1}})^{2} \\text{ }M_\\odot\n",
    "$$"
   ]
  }
 ],
 "metadata": {
  "kernelspec": {
   "display_name": "py38",
   "language": "python",
   "name": "python3"
  },
  "language_info": {
   "codemirror_mode": {
    "name": "ipython",
    "version": 3
   },
   "file_extension": ".py",
   "mimetype": "text/x-python",
   "name": "python",
   "nbconvert_exporter": "python",
   "pygments_lexer": "ipython3",
   "version": "3.8.5"
  },
  "orig_nbformat": 4,
  "vscode": {
   "interpreter": {
    "hash": "dc221fe95b0e25ab6c5eabb7ae10620e452c9910b94a130be58d16d7a7abb398"
   }
  }
 },
 "nbformat": 4,
 "nbformat_minor": 2
}
