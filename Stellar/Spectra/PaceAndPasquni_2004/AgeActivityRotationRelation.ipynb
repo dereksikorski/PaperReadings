{
 "cells": [
  {
   "attachments": {},
   "cell_type": "markdown",
   "metadata": {},
   "source": [
    "<font size = 6>**Title**:  The Age-Activity-Rotation Relation in Solar-Type Stars     </font>"
   ]
  },
  {
   "attachments": {},
   "cell_type": "markdown",
   "metadata": {},
   "source": [
    "<font size = 5>**Author(s)**:   G. Pace and L. Pasquini    </font>\n",
    "\n",
    "<font size = 5>**Date**: 2004      </font>\n",
    "\n",
    "______________"
   ]
  },
  {
   "attachments": {},
   "cell_type": "markdown",
   "metadata": {},
   "source": [
    "<font size = 5> Abstract </font>"
   ]
  },
  {
   "attachments": {},
   "cell_type": "markdown",
   "metadata": {},
   "source": [
    "- Use Ca II K line chromospheric fluxes in 35 G dwarf stars in 5 open clusters to determine the age-activity-rotation relationship from the young Hyades and Praesepe (0.6 Gyr) to the old M 67 (∼ 4.5 Gyr) through the two intermediate age clusters IC 4651 and NGC 3680 (∼ 1.7\n",
    "Gyr).\n",
    "- Shows that a dramatic decrease in chromospheric activity takes place\n",
    "among solar stars between the Hyades and the IC4651 age, in about 1 Gyr. Afterwards, activity remains virtually\n",
    "constant for more than 3 Gyr\n",
    "- Also measured *vsini* for all of our stars and the average rotational velocity shows the same trend as the chromospheric–activity index. "
   ]
  },
  {
   "attachments": {},
   "cell_type": "markdown",
   "metadata": {},
   "source": [
    "<font size = 5> 1. Introduction </font>"
   ]
  },
  {
   "attachments": {},
   "cell_type": "markdown",
   "metadata": {},
   "source": [
    "- Chromospheric Activity\n",
    "    - Powered by rotation in the presence of a deep convective envelope\n",
    "- Rotational velocity and activity of star decreases with age\n",
    "    - **Basis of Age-Activity-Rotation relation**\n",
    "    - Rotation braking caused by magnetised stellar wind\n",
    "    - *Unless* Ang. Mom. sustained by tidal interaction\n",
    "        - Short period binary"
   ]
  },
  {
   "attachments": {},
   "cell_type": "markdown",
   "metadata": {},
   "source": [
    "- The decaying law of chromospheric activity is key to understand ages of M.S. stars\n",
    "- Also used to study SFR and chemical enrichment of the Galaxy"
   ]
  },
  {
   "attachments": {},
   "cell_type": "markdown",
   "metadata": {},
   "source": [
    "- Flux emission in the core of the K-line of Ca II is the most effective tracer to probe the chromospheric activity of solar-type stars\n",
    "    - **Intend to use equivalent width of line emission core, corrected for the underlying stellar photospheric contribution and transformed into flux at the stellar surface $(F_k')$ to index level of chromospheric activity.**"
   ]
  },
  {
   "attachments": {},
   "cell_type": "markdown",
   "metadata": {},
   "source": [
    "- Work has been done to study field stars, but this is one of the first efforts to examine this relation in clusters."
   ]
  },
  {
   "attachments": {},
   "cell_type": "markdown",
   "metadata": {},
   "source": [
    "<font size = 5> 2. Observations and data sample </font>"
   ]
  },
  {
   "attachments": {},
   "cell_type": "markdown",
   "metadata": {},
   "source": [
    "- Based on spectra of 35 strs in 5 open clusters, and on solar data \n",
    "    - Prasepe, NGC 3680, IC 4651, and M 67 observations obtained with UVES spectrograph at VLT Keuyen telescope\n",
    "        - Blue slit resolving power ~ 60,000\n",
    "        - Red slit resolving power ~ 100,000\n",
    "        - SNR ranged from 10-30 \n",
    "    - Hyades spectra obtained with HIRES at Keck\n",
    "        - Resolving power ~60,000\n",
    "        - SNR in range of 20-30\n",
    "\n"
   ]
  },
  {
   "attachments": {},
   "cell_type": "markdown",
   "metadata": {},
   "source": [
    "- Together the data allows for 3 different age ranges of data:\n",
    "    - Hyades and Praesepe (0.6 Gyr)\n",
    "    - IC 4651 and NGC 3680 (1.6 and 1.8 Gyr)\n",
    "    - M 67 and the Sun (4.8 and 4.48 Gyr)\n",
    "- **If each pair has the same chromospheric-activity level, then chromospheric activity is likely age-driven**"
   ]
  },
  {
   "attachments": {},
   "cell_type": "markdown",
   "metadata": {},
   "source": [
    "- Also have stars with various X-ray emission\n",
    "    - Allows to check correlation between chromospheric activity and coronal activity."
   ]
  },
  {
   "attachments": {},
   "cell_type": "markdown",
   "metadata": {},
   "source": [
    "<font size = 5> 3. Analysis </font>"
   ]
  },
  {
   "attachments": {},
   "cell_type": "markdown",
   "metadata": {},
   "source": [
    "**3.1 Ca II Fluxes**"
   ]
  },
  {
   "attachments": {},
   "cell_type": "markdown",
   "metadata": {},
   "source": [
    "Below is a picture of the averaged spectra for the different groups. The K-line can be see strongly in the young spectra, but weaker in the older spectra.\n",
    "\n",
    "The K-line is a wide absorption line, which has a smaller emission component which is related to the hotter parts of the star being hot enough to allow for Ca II in emission. The temperature is correlated to the magnetic field strength of the star, which in turn is related to the rotation speed of the star.\n",
    "\n",
    "There is also some self-absorption at this level, which is the small absoption component within the emissions component. So, the K-line generally is a small absorption component within a small emission component within a very broad absorption component. And that emission component narrows with age.\n",
    "\n",
    "<img src = K_lines.png width = 200>"
   ]
  },
  {
   "attachments": {},
   "cell_type": "markdown",
   "metadata": {},
   "source": [
    "- In general, the most sensitive area is that comprised between the line K1 mimima\n",
    "    - These are hardly seen in low-activity stars or intermediate SNR spectra"
   ]
  },
  {
   "attachments": {},
   "cell_type": "markdown",
   "metadata": {},
   "source": [
    "- The \"$1-\\AA$ index\"\n",
    "    - The area of the $1 -\\AA$ band centered in the line core\n",
    "        - This measures between the minima on the left and right side of the emission component. It is easily seen in the spectrum below:\n",
    "    - roughly corresponds to the separation between the K1 mimima for an active star\n",
    "    - About 30% larger than the K1 mimima separation for a star as active as the Sun\n",
    "\n",
    "<img src=K1_minima.png width = 600 />\n",
    "\n"
   ]
  },
  {
   "attachments": {},
   "cell_type": "markdown",
   "metadata": {},
   "source": [
    "- Steps to get the final fluxes from the observed spectra:\n",
    "    - Spectra normalization & rectification\n",
    "    - Subtraction of the Interstellar (IS) line\n",
    "    - Index measurement\n",
    "    - Subtraction of the photospheric contribution\n",
    "    - Calibration in fluxes"
   ]
  },
  {
   "attachments": {},
   "cell_type": "markdown",
   "metadata": {},
   "source": [
    "- For the subtraction of the IS line, they observed a reference star in each cluster with an easily recognizable Ca II IS contribution"
   ]
  },
  {
   "attachments": {},
   "cell_type": "markdown",
   "metadata": {},
   "source": [
    "- Extracting the fluxes:\n",
    "    - First, computed the V-R colors from the B-V ones: $\\to V-R = 0.618\\cdot(B-V)^2 - 0.183\\cdot(B-V) + 0.375$\n",
    "    - Used a calibration between the V-R color and the flux at the stellar surface of the pseudo-continuum radiation at $3950.5 \\AA$: $\\to \\log F_{3950.5}=8.459-2.833\\cdot(V-R)$\n",
    "    - Finally, multiply the equivalent widths for $F_{3950.5}$ to get the fluxes"
   ]
  },
  {
   "attachments": {},
   "cell_type": "markdown",
   "metadata": {},
   "source": [
    "- The SNR is not the limiting factor in the accuracy\n",
    "    - Because the integrated on $1 \\AA$\n",
    "        - Namely, ~ 48 pixels and ~ 37 for the HIRES spectra"
   ]
  },
  {
   "attachments": {},
   "cell_type": "markdown",
   "metadata": {},
   "source": [
    "- The error in $F_k'$ comes from 3 major sources\n",
    "    - Uncertainty in the equivalent width measurements\n",
    "    - Uncertainty in the V-R vs B_V calibration\n",
    "    - Uncertainty in the B-V colors"
   ]
  },
  {
   "attachments": {},
   "cell_type": "markdown",
   "metadata": {},
   "source": [
    "Can find the maximum error in the single star measurement ranges from $15\\%-20\\%$"
   ]
  },
  {
   "attachments": {},
   "cell_type": "markdown",
   "metadata": {},
   "source": [
    "**3.2 Determination of the $vsini$**"
   ]
  },
  {
   "attachments": {},
   "cell_type": "markdown",
   "metadata": {},
   "source": [
    "- Line broadening is caused by several factors\n",
    "    - thermal motions\n",
    "    - micro/macro turblence\n",
    "    - The Stark effect\n",
    "    - The Zeeman effect\n",
    "    - Natural Broadening\n",
    "    - Instrumental response\n",
    "    - Rotational Veloctity"
   ]
  },
  {
   "attachments": {},
   "cell_type": "markdown",
   "metadata": {},
   "source": [
    "Make 2 assumptions:\n",
    "- Assumption 1:\n",
    "    - The sum of all of the above effects results in a gaussian\n",
    "        - reasonable for solar-type stars\n",
    "- Assumption 2:\n",
    "    - The difference in broadening due to the stars in this sample is due *only* to rotation\n",
    "        - Reasonable because, since the stars are close to the same types, it is reasonable to assume the quoted effects will contribute equally."
   ]
  },
  {
   "attachments": {},
   "cell_type": "markdown",
   "metadata": {},
   "source": [
    "Hence, can find the *sigma* of the cross-correlation profile (provided it is gaussian):\n",
    "$$\n",
    "\\sigma_{CCP} = \\sqrt{\\sigma_{vsini}^2 + \\sigma_{0}^2}\n",
    "$$\n",
    "By assumption 2, $\\sigma_0 =$ constant. Furthermore, $\\sigma_{CCP}$ and $\\sigma_{visini}$ are both proportional to the FWHM of the cross-section profile. Thus, can assume:\n",
    "$$\n",
    "\\text{vsini} = A\\cdot \\sqrt{FWHM^2 - B^2}\n",
    "$$"
   ]
  },
  {
   "attachments": {},
   "cell_type": "markdown",
   "metadata": {},
   "source": [
    "Results in:\n",
    "$$\n",
    "\\boxed{\n",
    "\\text{vsini} = 0.72\\cdot \\sqrt{FWHM^2 - 9.05^2}\n",
    "}\n",
    "$$\n",
    "Used the spectral ranges of 588-680 nm, spectral resolution of R=100000, and rebinning step of $0.0174\\AA$"
   ]
  },
  {
   "attachments": {},
   "cell_type": "markdown",
   "metadata": {},
   "source": [
    "Note that the fit is also *not* good for slower rotators as other effects can become more important. That is in the case of $\\text{vsini} < 2$ km/s"
   ]
  },
  {
   "attachments": {},
   "cell_type": "markdown",
   "metadata": {},
   "source": [
    "<img src=FWHM_fit.png width=600>"
   ]
  },
  {
   "attachments": {},
   "cell_type": "markdown",
   "metadata": {},
   "source": [
    "<font size = 5> 4. Discussion </font>"
   ]
  },
  {
   "attachments": {},
   "cell_type": "markdown",
   "metadata": {},
   "source": [
    "**4.1 Variability Within Each Cluster**"
   ]
  },
  {
   "attachments": {},
   "cell_type": "markdown",
   "metadata": {},
   "source": [
    "- The level of solar chormospheric activity varies of $~\\pm 10\\%$ (peak-to-peak) during the 11-year solar cycle.\n",
    "    - Actually $~\\pm 20\\%$ once photospheric contribution is accounted for\n",
    "- There are similar cycles for other solar-type stars\n",
    "    - This poses a problem when examining a single-spectrum, and causes scatter for stars of the same age\n"
   ]
  },
  {
   "attachments": {},
   "cell_type": "markdown",
   "metadata": {},
   "source": [
    "**4.2 Hyades vs Praesepe, IC 4651 vs NGC 3680, M 67 vs Sun**"
   ]
  },
  {
   "attachments": {},
   "cell_type": "markdown",
   "metadata": {},
   "source": [
    "- Hyades and Praesepe:\n",
    "    - stars in these clusters span the same range of chromospheric activity and vsini\n",
    "    - Praesepe stars have a significantly lower (less than half) mean X-ray luminosity\n",
    "    - See no clear correlation between $L_x$ and chromospheric activity (left plot) or rotation (right plot)\n",
    "        - Could be because the X-ray observations were taken at a much earlier date, and the variablity mentioned in **4.1** will have changed the activity in this period\n",
    "\n",
    "<img src = HvP.png width=1000 />"
   ]
  },
  {
   "attachments": {},
   "cell_type": "markdown",
   "metadata": {},
   "source": [
    "On the other hand, in the cases of IC 4651 vs NGC 3680, and M 67 vs Sun, there are significant similarties "
   ]
  },
  {
   "attachments": {},
   "cell_type": "markdown",
   "metadata": {},
   "source": [
    "**4.3 The Age-activity-rotation relationship**"
   ]
  },
  {
   "attachments": {},
   "cell_type": "markdown",
   "metadata": {},
   "source": [
    "- When stars of about $1 M_\\odot$ reach the ZAMS, they show high dispersion in rotational velocity and thus chromospheric activity\n",
    "    - Due to different pre-MS histories\n",
    "- By 600 Myr (youngest stars in this study), the magnetic braking already makes the rotation very unifrom\n"
   ]
  },
  {
   "attachments": {},
   "cell_type": "markdown",
   "metadata": {},
   "source": [
    "- The intermediate-aged clusters showed very similar levels of chromospheric-activity to M 67 and the Sun\n",
    "    - both had much less than Hyades and Praesepe\n",
    "    - Suggests sharp fall of activity between 600 Myr and 1.5 Gyr, before the rate of change sharply decreases.\n",
    "    "
   ]
  },
  {
   "attachments": {},
   "cell_type": "markdown",
   "metadata": {},
   "source": [
    "- Actually, when fit by pretty much any model, the intermediate-aged cluster is not fit well by any model!\n",
    "    - Suggests the decline in activity is extremely abrupt, almost as if a discontinuity!\n",
    "        - Possible explanation for the Vaughan-Preston gap"
   ]
  },
  {
   "attachments": {},
   "cell_type": "markdown",
   "metadata": {},
   "source": [
    "**4.4 Impact of our results on determination of ages and on the age of galactic population**\n"
   ]
  },
  {
   "attachments": {},
   "cell_type": "markdown",
   "metadata": {},
   "source": [
    "- Stars can be divided into 3 categories on the basis of chromospheric-activity:\n",
    "    - Youngest stars with $F'_K > 12.6\\cdot 10^6 \\text{erg cm}^{-2} \\text{ sec}^{-1}$\n",
    "    - stars with $F'_K$ between 0.7 and 1.2 $\\cdot 10^6\\text{erg cm}^{-2} \\text{ sec}^{-1}$\n",
    "    - Oldest stars with $F'_K < 0.7\\cdot 10^6 \\text{erg cm}^{-2} \\text{ sec}^{-1}$\n",
    "\n",
    "    - Note: $F'_K$ is the measure of the chromospheric Ca II line, which correlates to the chromospheric-activity\n",
    "\n",
    "- Out of the clusters observed, Hyades and Praesepe fall in the first, and the other 4 fall in the third\n",
    "- Unsure about the time-period which spans the 2nd group\n",
    "- Suggests that an accurate measure of age for stars older than 1.5 Gyr may be unrealistic"
   ]
  }
 ],
 "metadata": {
  "kernelspec": {
   "display_name": "py38",
   "language": "python",
   "name": "python3"
  },
  "language_info": {
   "name": "python",
   "version": "3.8.5"
  },
  "orig_nbformat": 4,
  "vscode": {
   "interpreter": {
    "hash": "dc221fe95b0e25ab6c5eabb7ae10620e452c9910b94a130be58d16d7a7abb398"
   }
  }
 },
 "nbformat": 4,
 "nbformat_minor": 2
}
