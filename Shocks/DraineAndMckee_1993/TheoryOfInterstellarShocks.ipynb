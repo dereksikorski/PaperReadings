{
 "cells": [
  {
   "attachments": {},
   "cell_type": "markdown",
   "metadata": {},
   "source": [
    "<font size = 6>**Title**: Theory of Interstellar Shocks     </font>"
   ]
  },
  {
   "attachments": {},
   "cell_type": "markdown",
   "metadata": {},
   "source": [
    "<font size = 5>**Author(s)**: Bruce T. Draine and Christopher F. McKee  </font>\n",
    "\n",
    "<font size = 5>**Date**:  1993     </font>\n",
    "\n",
    "______________"
   ]
  },
  {
   "attachments": {},
   "cell_type": "markdown",
   "metadata": {},
   "source": [
    "<font size = 5> 1. Introduction </font>\n"
   ]
  },
  {
   "attachments": {},
   "cell_type": "markdown",
   "metadata": {},
   "source": [
    "- A shock wave is an *irreversible, pressure-driven* fluid-dynamical disturbance.\n",
    "    - *Irreversible* b/c entropy generation when ordered KE is dissipated into heat.\n",
    "\n",
    "**Dissipation in different enviornments:**\n",
    "- Neutral gas:\n",
    "    - Due to molecular viscosity in the shock transition\n",
    "- Low-density plasma\n",
    "    - Can be collisionless and due to collective motions of the charged particles and resulting EM fields.\n",
    "- Partially ionized gas\n",
    "    - Can be primarily due to \"friction\" associated w/ neutral-ion \"slip\"\n",
    "\n",
    "- Shock wave is *always* compressive \n",
    "\n",
    "**Assumptions to make the calculations easier:**\n",
    "- Idealized in the limit s.t. they are steady\n",
    "    - Therefore, can adpot a frame s.t. the flow is stationary ($\\frac{\\partial}{\\partial t} = 0$)\n",
    "- Idealize the flow as plane parallel\n",
    "    - Can assume that $\\frac{\\partial}{\\partial y} = \\frac{\\partial}{\\partial z} = 0$\n",
    "\n",
    "**Gas travelling through shock**\n",
    "- Gas is compressed by a factor of ~4 as it flows through the shock transition.\n",
    "- Velocity also *decreases* by ~4\n",
    "    - Decrease in ordered KE is associated with increase in thermal energy (i.e. entropy)\n",
    "\n",
    "<img src = \"Schematic.png\" width=500 />"
   ]
  },
  {
   "attachments": {},
   "cell_type": "markdown",
   "metadata": {},
   "source": [
    "<font size = 5> 2. Single Fluid Shocks </font>\n"
   ]
  },
  {
   "attachments": {},
   "cell_type": "markdown",
   "metadata": {},
   "source": [
    "- Single fluid refers to flows where all components (i.e. atoms, ions, electrons) are approximated to have a common flow velocity"
   ]
  },
  {
   "attachments": {},
   "cell_type": "markdown",
   "metadata": {},
   "source": [
    "<font size = 5> 2.1 - Fluid Equations </font>\n"
   ]
  },
  {
   "attachments": {},
   "cell_type": "markdown",
   "metadata": {},
   "source": [
    "**The fluid motion is dictated by conservation laws**\n",
    "- Mass conservation looks like:\n",
    "$$\n",
    "\\frac{\\partial \\rho}{\\partial t} + \\frac{\\partial }{\\partial x_k} (\\rho v_k) = 0        \\qquad \\text{(2.1)}\n",
    "$$\n",
    "- Momentum Conservation looks like:\n",
    "$$\n",
    "\\frac{\\partial }{\\partial t}(\\rho v_j) + \\frac{\\partial }{\\partial x_k} \\left( \\rho v_j v_k + P\\delta_{jk} - \\sigma_{jk} + \\frac{B^2}{8\\pi}\\delta_{jk} - \\frac{1}{4\\pi}B_jB_k     \\right) = 0           \\qquad \\text{(2.2)}\n",
    "$$\n",
    "- Energy Conservation looks like:\n",
    "$$\n",
    "\\frac{\\partial }{\\partial t}u + \\frac{\\partial}{\\partial x_k}(uv_k + q_k) + (P\\delta_{jk} - \\sigma_{jk})\\frac{\\partial v_j}{\\partial x_k} + \\frac{\\partial F_k}{\\partial x_k}=0\n",
    "\\qquad \\text{(2.3)}\n",
    "$$"
   ]
  },
  {
   "attachments": {},
   "cell_type": "markdown",
   "metadata": {},
   "source": [
    "Where:\n",
    "$$\n",
    "\\begin{cases}\n",
    "\\rho = \\text{density}\\\\\n",
    "\\mathbf{v} = \\text{velocity} \\\\\n",
    "P = \\text{Pressure} \\\\\n",
    "\\mathbf{B} = \\text{Magnetic Field} \\\\\n",
    "u = \\frac{3}{2}P + u_{interal} = \\text{fluid energy density} \\\\\n",
    "\\mathbf{q} = \\text{heat flux due to thermal conduction} \\\\\n",
    "\\mathbf{F} = \\text{radiative flux}  \\\\\n",
    "\\sigma_{jk} = \\text{viscous stress tensor}\n",
    "\\end{cases}\n",
    "$$"
   ]
  },
  {
   "attachments": {},
   "cell_type": "markdown",
   "metadata": {},
   "source": [
    "- Assume electrical conductivity $\\to \\infty$  \n",
    "    - Entire fluid is electrically neutral\n",
    "- Divergence of the radiative flux is given by:\n",
    "$$\n",
    "\\mathbf{\\nabla}\\cdot \\mathbf{F} = \\Lambda\n",
    "$$\n",
    "-\n",
    "    - net rate of energy removal due to radiative cooling/heating per volume"
   ]
  },
  {
   "attachments": {},
   "cell_type": "markdown",
   "metadata": {},
   "source": [
    "Can then eliminate $u_{internal}$ via:\n",
    "$$\n",
    "\\Lambda_{eff} = \\Lambda + \\frac{\\partial}{\\partial x_k}(u_{int}v_k) + \\frac{\\partial}{\\partial t}u_{int}\n",
    "$$\n",
    "which is an \"Effective\" loss function.\n",
    "\n",
    "\n",
    "Now, $\\Lambda_{eff}$ contains energy \"losses\" (i.e. ionization or dissociation). So **Eq'n (2.3)** becomes:\n",
    "$$\n",
    "\\frac{\\partial}{\\partial t}(\\frac{3}{2}P) + \\frac{\\partial}{\\partial x_k}(\\frac{3}{2}Pv_k + q_k) + (P\\delta_{jk} - \\sigma_{jk})\\frac{\\partial v_j}{\\partial x_k} + \\Lambda_{eff} = 0\n",
    "$$"
   ]
  },
  {
   "attachments": {},
   "cell_type": "markdown",
   "metadata": {},
   "source": [
    "Assuming the E-field in the fluid frame vanishes, then:\n",
    "$$\n",
    "\\mathbf{E} + \\frac{1}{c}\\mathbf{v} \\times \\mathbf{B} = 0\n",
    "$$\n",
    "and the B-field is given by:\n",
    "$$\n",
    "\\frac{\\partial}{\\partial t}B_j + \\frac{\\partial }{\\partial x_k}(v_k B_j - v_j B_k)  = 0\n",
    "$$"
   ]
  },
  {
   "attachments": {},
   "cell_type": "markdown",
   "metadata": {},
   "source": [
    "Therefore, can establish a new form for the energy equation:\n",
    "$$\n",
    "\\frac{\\partial}{\\partial t}\\left(\\frac{1}{2}\\rho v^2 + u + \\frac{B^2}{8\\pi} \\right) + \\frac{\\partial}{\\partial x_k}\\times \\left[\\left(\\frac{1}{2}\\rho v^2 + u + P+ \\frac{B^2}{8\\pi} \\right)v_k - \\sigma_{kj}v_j - \\frac{B_jB_k}{4\\pi}v_j + F_k \\right] = 0\n",
    "$$\n",
    "This equation is restricted to components w/ a common flow velocity $\\mathbf{v}$"
   ]
  },
  {
   "attachments": {},
   "cell_type": "markdown",
   "metadata": {},
   "source": [
    "<font size = 5> 2.2 - Jump Conditions </font>\n"
   ]
  },
  {
   "attachments": {},
   "cell_type": "markdown",
   "metadata": {},
   "source": [
    "Obtaining \"Jump conditions\"\n",
    "- Assume a shock \"front\" is locally plane-parallel and steady \n",
    "    - Steady = time scale for variation longer than time to flow across the front\n",
    "- IF locally plane-parallel & steady: integrate the equations from **section 2.1** across the shock front to obtain \"jump conditions\""
   ]
  },
  {
   "attachments": {},
   "cell_type": "markdown",
   "metadata": {},
   "source": [
    "- Assume viscous stress and conductive heat flux are negligible on either side of the shock front\n",
    "- Take \"parallel\" direction to be normal to the shock front"
   ]
  },
  {
   "attachments": {},
   "cell_type": "markdown",
   "metadata": {},
   "source": [
    "**Jump Conditions**\n",
    "\n",
    "*Note*: $[f] = f(x_2) - f(x_1)$ where 1/2 denotes up/down-stream of the shock transition\n",
    "\n",
    "$$\n",
    "[\\rho v_\\parallel] = 0      \\qquad \\text{(2.8)}\n",
    "$$\n",
    "$$\n",
    "[B_\\parallel] = 0       \\qquad \\text{(2.9)}\n",
    "$$\n",
    "$$\n",
    "[v_\\parallel \\mathbf{B}_\\perp - B_\\parallel \\mathbf{v}_\\perp] = 0       \\qquad \\text{(2.10)}\n",
    "$$\n",
    "$$\n",
    "[\\rho v_\\parallel^2 + P + \\frac{1}{8\\pi}B_\\perp^2] = 0          \\qquad \\text{(2.11)}\n",
    "$$\n",
    "$$\n",
    "[\\rho v_\\parallel \\mathbf{v}_\\perp - \\frac{1}{4\\pi} B_\\parallel \\mathbf{B}_\\perp] = 0       \\qquad \\text{(2.12)}\n",
    "$$\n",
    "$$\n",
    "\\left[  v_\\parallel\\left( \\frac{1}{2}\\rho v^2 + P + u \\right) + \\frac{1}{4\\pi} (B_\\perp^2 v_\\parallel - B_\\parallel \\mathbf{B}_\\perp \\cdot \\mathbf{v}_\\perp) + F_\\parallel \\right] = 0      \\qquad \\text{(2.13)}\n",
    "$$\n",
    "\n",
    "Jump Conditions must be complimented with eqn to determine the internal energy:\n",
    "$$\n",
    "u_{int} = u - \\frac{3}{2}P\n",
    "$$\n",
    "\n",
    "In some cases, can take $u = P/(\\gamma - 1)$, where $\\gamma$ is the \"adiabatic index\".\n",
    "- Assume $\\gamma = \\text{const}$ across the shock"
   ]
  },
  {
   "attachments": {},
   "cell_type": "markdown",
   "metadata": {},
   "source": [
    "- MHD fluid supports 3 wave modes: s\n",
    "    - slow: speed $u_s$\n",
    "    - intermediate: speed $u_I$\n",
    "    - fast: speed $u_f$\n",
    "\n",
    "These are described by:\n",
    "$$\n",
    "u_f = \\frac{1}{\\sqrt{2}}\\left[(v_A^2 + c_s^2) + (v_A^4 + c_s^4 - 2v_A^2c_s^2\\cos 2\\theta)^{1/2} \\right]^{1/2}       \\qquad \\text{(2.14a)}\n",
    "$$\n",
    "$$\n",
    "u_I = v_A\\cos \\theta        \\qquad \\text{(2.15)}\n",
    "$$\n",
    "$$\n",
    "u_s = \\frac{1}{\\sqrt{2}}\\left[(v_A^2 + c_s^2) - (v_A^4 + c_s^4 - 2v_A^2c_s^2\\cos 2\\theta)^{1/2} \\right]^{1/2}       \\qquad \\text{(2.14b)}\n",
    "$$\n",
    "$$\n",
    "v_A = \\frac{B}{\\sqrt{4\\pi\\rho}}     \\qquad \\text{(2.16)}\n",
    "$$\n",
    "$$\n",
    "c_S = \\sqrt{\\frac{\\gamma P}{\\rho}}      \\qquad \\text{(2.17)}\n",
    "$$\n",
    "- $v_a$ and $c_s$ are the Alfven speeds\n",
    "- $\\theta$ is the angle between the angle of propogation and $\\mathbf{B}$\n",
    "\n",
    "Note:\n",
    "- *Fast* and *Slow* modes are compressive\n",
    "    - Can change the magnitude of the field but not the polarization\n",
    "- *Intermediate* mode is non-compressive\n",
    "    - Can change the plane of polarization of the field but not its magnityde"
   ]
  },
  {
   "attachments": {},
   "cell_type": "markdown",
   "metadata": {},
   "source": [
    "Combine **equations (2.8)-(2.10), and (2.12)** and then plug into **equation (2.15)** to find:\n",
    "$$\n",
    "\\left[ \\frac{v_\\parallel^2}{u_I^2}\\mathbf{B}_\\perp   \\right] = 0        \\qquad  \\text{(2.18)}\n",
    "$$\n",
    "Consequences of (2.18)\n",
    "- Thus, only *intermediate* waves $(v_\\parallel = u_I)$ can cause $\\mathbf{B}_\\perp$ to move out of its original phase\n",
    "    - i.e. a general shock *cannont*. It happens only when $v_\\parallel = u_I$\n",
    "    - This means shocks are *coplanar*\n",
    "        - The plane defined by $\\mathbf{B}$ and the shock normal is invariant across the shock \n",
    "    - Sign of $\\mathbf{B}_\\perp$ changes across the shock iff shock makes a transition from super- to sub-intermediate flow\n",
    "        - super-intermediate: $v_{\\parallel 1} > u_{I1}$\n",
    "        - sub-intermediate: $v_{\\parallel 2} < u_{I2}$"
   ]
  },
  {
   "attachments": {},
   "cell_type": "markdown",
   "metadata": {},
   "source": [
    "**MHD waves cause the flow velocity to jump from above the given phase velocity of a wave to below it**\n",
    "\n",
    "Can then classify the flow state in order of *decreasing* velocity:\n",
    "- Type 1 (highest velocity)\n",
    "    - $u_F < v_\\parallel$\n",
    "- Type 2\n",
    "    - $u_I < v_\\parallel < u_F$\n",
    "- Type 3\n",
    "    - $u_s < v_\\parallel < u_I$\n",
    "- Type 4 (lowest velocity)\n",
    "    - $v_\\parallel < u_s$\n",
    "\n",
    "This leads to 6 distinct types of MHD shocks:\n",
    "- Fast:\n",
    "    - type $1\\to 2$\n",
    "- Intermediate:\n",
    "    - type $1\\to 3$\n",
    "    - type $2 \\to 3$\n",
    "    - type $1 \\to 4$\n",
    "    - type $2 \\to 4$\n",
    "- Slow:\n",
    "    - type $3\\to 4$\n",
    "    "
   ]
  }
 ],
 "metadata": {
  "kernelspec": {
   "display_name": "py38",
   "language": "python",
   "name": "python3"
  },
  "language_info": {
   "name": "python",
   "version": "3.8.5"
  },
  "orig_nbformat": 4,
  "vscode": {
   "interpreter": {
    "hash": "dc221fe95b0e25ab6c5eabb7ae10620e452c9910b94a130be58d16d7a7abb398"
   }
  }
 },
 "nbformat": 4,
 "nbformat_minor": 2
}
