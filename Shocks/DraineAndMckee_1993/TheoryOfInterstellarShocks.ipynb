{
 "cells": [
  {
   "attachments": {},
   "cell_type": "markdown",
   "metadata": {},
   "source": [
    "<font size = 7>**Title**: Theory of Interstellar Shocks     </font>"
   ]
  },
  {
   "attachments": {},
   "cell_type": "markdown",
   "metadata": {},
   "source": [
    "<font size = 6>**Author(s)**: Bruce T. Draine and Christopher F. McKee  </font>\n",
    "\n",
    "<font size = 6>**Date**:  1993     </font>\n",
    "\n",
    "______________"
   ]
  },
  {
   "attachments": {},
   "cell_type": "markdown",
   "metadata": {},
   "source": [
    "1|  Introduction\n",
    "---\n",
    "---"
   ]
  },
  {
   "attachments": {},
   "cell_type": "markdown",
   "metadata": {},
   "source": [
    "- A shock wave is an *irreversible, pressure-driven* fluid-dynamical disturbance.\n",
    "    - *Irreversible* b/c entropy generation when ordered KE is dissipated into heat.\n",
    "\n",
    "**Dissipation in different enviornments:**\n",
    "- Neutral gas:\n",
    "    - Due to molecular viscosity in the shock transition\n",
    "- Low-density plasma\n",
    "    - Can be collisionless and due to collective motions of the charged particles and resulting EM fields.\n",
    "- Partially ionized gas\n",
    "    - Can be primarily due to \"friction\" associated w/ neutral-ion \"slip\"\n",
    "\n",
    "- Shock wave is *always* compressive \n",
    "\n",
    "**Assumptions to make the calculations easier:**\n",
    "- Idealized in the limit s.t. they are steady\n",
    "    - Therefore, can adpot a frame s.t. the flow is stationary ($\\frac{\\partial}{\\partial t} = 0$)\n",
    "- Idealize the flow as plane parallel\n",
    "    - Can assume that $\\frac{\\partial}{\\partial y} = \\frac{\\partial}{\\partial z} = 0$\n",
    "\n",
    "**Gas travelling through shock**\n",
    "- Gas is compressed by a factor of ~4 as it flows through the shock transition.\n",
    "- Velocity also *decreases* by ~4\n",
    "    - Decrease in ordered KE is associated with increase in thermal energy (i.e. entropy)\n",
    "\n",
    "<img src = \"Schematic.png\" width=500 />"
   ]
  },
  {
   "attachments": {},
   "cell_type": "markdown",
   "metadata": {},
   "source": [
    "2| Single Fluid Shocks\n",
    "-----\n",
    "-----"
   ]
  },
  {
   "attachments": {},
   "cell_type": "markdown",
   "metadata": {},
   "source": [
    "- Single fluid refers to flows where all components (i.e. atoms, ions, electrons) are approximated to have a common flow velocity"
   ]
  },
  {
   "attachments": {},
   "cell_type": "markdown",
   "metadata": {},
   "source": [
    "<font size = 6> 2.1 - Fluid Equations </font>"
   ]
  },
  {
   "attachments": {},
   "cell_type": "markdown",
   "metadata": {},
   "source": [
    "**The fluid motion is dictated by conservation laws**\n",
    "- Mass conservation looks like:\n",
    "$$\n",
    "\\frac{\\partial \\rho}{\\partial t} + \\frac{\\partial }{\\partial x_k} (\\rho v_k) = 0        \\qquad \\text{(2.1)}\n",
    "$$\n",
    "- Momentum Conservation looks like:\n",
    "$$\n",
    "\\frac{\\partial }{\\partial t}(\\rho v_j) + \\frac{\\partial }{\\partial x_k} \\left( \\rho v_j v_k + P\\delta_{jk} - \\sigma_{jk} + \\frac{B^2}{8\\pi}\\delta_{jk} - \\frac{1}{4\\pi}B_jB_k     \\right) = 0           \\qquad \\text{(2.2)}\n",
    "$$\n",
    "- Energy Conservation looks like:\n",
    "$$\n",
    "\\frac{\\partial }{\\partial t}u + \\frac{\\partial}{\\partial x_k}(uv_k + q_k) + (P\\delta_{jk} - \\sigma_{jk})\\frac{\\partial v_j}{\\partial x_k} + \\frac{\\partial F_k}{\\partial x_k}=0\n",
    "\\qquad \\text{(2.3)}\n",
    "$$"
   ]
  },
  {
   "attachments": {},
   "cell_type": "markdown",
   "metadata": {},
   "source": [
    "Where:\n",
    "$$\n",
    "\\begin{cases}\n",
    "\\rho = \\text{density}\\\\\n",
    "\\mathbf{v} = \\text{velocity} \\\\\n",
    "P = \\text{Pressure} \\\\\n",
    "\\mathbf{B} = \\text{Magnetic Field} \\\\\n",
    "u = \\frac{3}{2}P + u_{interal} = \\text{fluid energy density} \\\\\n",
    "\\mathbf{q} = \\text{heat flux due to thermal conduction} \\\\\n",
    "\\mathbf{F} = \\text{radiative flux}  \\\\\n",
    "\\sigma_{jk} = \\text{viscous stress tensor}\n",
    "\\end{cases}\n",
    "$$"
   ]
  },
  {
   "attachments": {},
   "cell_type": "markdown",
   "metadata": {},
   "source": [
    "- Assume electrical conductivity $\\to \\infty$  \n",
    "    - Entire fluid is electrically neutral\n",
    "- Divergence of the radiative flux is given by:\n",
    "$$\n",
    "\\mathbf{\\nabla}\\cdot \\mathbf{F} = \\Lambda\n",
    "$$\n",
    "-\n",
    "    - net rate of energy removal due to radiative cooling/heating per volume"
   ]
  },
  {
   "attachments": {},
   "cell_type": "markdown",
   "metadata": {},
   "source": [
    "Can then eliminate $u_{internal}$ via:\n",
    "$$\n",
    "\\Lambda_{eff} = \\Lambda + \\frac{\\partial}{\\partial x_k}(u_{int}v_k) + \\frac{\\partial}{\\partial t}u_{int}\n",
    "$$\n",
    "which is an \"Effective\" loss function.\n",
    "\n",
    "\n",
    "Now, $\\Lambda_{eff}$ contains energy \"losses\" (i.e. ionization or dissociation). So **Eq'n (2.3)** becomes:\n",
    "$$\n",
    "\\frac{\\partial}{\\partial t}(\\frac{3}{2}P) + \\frac{\\partial}{\\partial x_k}(\\frac{3}{2}Pv_k + q_k) + (P\\delta_{jk} - \\sigma_{jk})\\frac{\\partial v_j}{\\partial x_k} + \\Lambda_{eff} = 0\n",
    "$$"
   ]
  },
  {
   "attachments": {},
   "cell_type": "markdown",
   "metadata": {},
   "source": [
    "Assuming the E-field in the fluid frame vanishes, then:\n",
    "$$\n",
    "\\mathbf{E} + \\frac{1}{c}\\mathbf{v} \\times \\mathbf{B} = 0\n",
    "$$\n",
    "and the B-field is given by:\n",
    "$$\n",
    "\\frac{\\partial}{\\partial t}B_j + \\frac{\\partial }{\\partial x_k}(v_k B_j - v_j B_k)  = 0\n",
    "$$"
   ]
  },
  {
   "attachments": {},
   "cell_type": "markdown",
   "metadata": {},
   "source": [
    "Therefore, can establish a new form for the energy equation:\n",
    "$$\n",
    "\\frac{\\partial}{\\partial t}\\left(\\frac{1}{2}\\rho v^2 + u + \\frac{B^2}{8\\pi} \\right) + \\frac{\\partial}{\\partial x_k}\\times \\left[\\left(\\frac{1}{2}\\rho v^2 + u + P+ \\frac{B^2}{8\\pi} \\right)v_k - \\sigma_{kj}v_j - \\frac{B_jB_k}{4\\pi}v_j + F_k \\right] = 0\n",
    "$$\n",
    "This equation is restricted to components w/ a common flow velocity $\\mathbf{v}$"
   ]
  },
  {
   "attachments": {},
   "cell_type": "markdown",
   "metadata": {},
   "source": [
    "<font size = 6> 2.2 - Jump Conditions </font>\n"
   ]
  },
  {
   "attachments": {},
   "cell_type": "markdown",
   "metadata": {},
   "source": [
    "Obtaining \"Jump conditions\"\n",
    "- Assume a shock \"front\" is locally plane-parallel and steady \n",
    "    - Steady = time scale for variation longer than time to flow across the front\n",
    "- IF locally plane-parallel & steady: integrate the equations from **section 2.1** across the shock front to obtain \"jump conditions\""
   ]
  },
  {
   "attachments": {},
   "cell_type": "markdown",
   "metadata": {},
   "source": [
    "- Assume viscous stress and conductive heat flux are negligible on either side of the shock front\n",
    "- Take \"parallel\" direction to be normal to the shock front"
   ]
  },
  {
   "attachments": {},
   "cell_type": "markdown",
   "metadata": {},
   "source": [
    "**Jump Conditions**\n",
    "\n",
    "*Note*: $[f] = f(x_2) - f(x_1)$ where 1/2 denotes up/down-stream of the shock transition\n",
    "\n",
    "$$\n",
    "[\\rho v_\\parallel] = 0      \\qquad \\text{(2.8)}\n",
    "$$\n",
    "$$\n",
    "[B_\\parallel] = 0       \\qquad \\text{(2.9)}\n",
    "$$\n",
    "$$\n",
    "[v_\\parallel \\mathbf{B}_\\perp - B_\\parallel \\mathbf{v}_\\perp] = 0       \\qquad \\text{(2.10)}\n",
    "$$\n",
    "$$\n",
    "[\\rho v_\\parallel^2 + P + \\frac{1}{8\\pi}B_\\perp^2] = 0          \\qquad \\text{(2.11)}\n",
    "$$\n",
    "$$\n",
    "[\\rho v_\\parallel \\mathbf{v}_\\perp - \\frac{1}{4\\pi} B_\\parallel \\mathbf{B}_\\perp] = 0       \\qquad \\text{(2.12)}\n",
    "$$\n",
    "$$\n",
    "\\left[  v_\\parallel\\left( \\frac{1}{2}\\rho v^2 + P + u \\right) + \\frac{1}{4\\pi} (B_\\perp^2 v_\\parallel - B_\\parallel \\mathbf{B}_\\perp \\cdot \\mathbf{v}_\\perp) + F_\\parallel \\right] = 0      \\qquad \\text{(2.13)}\n",
    "$$\n",
    "\n",
    "**NOTE**: Parallel is in the direction normal to the shock-plane. Perpendicular is in the shock plane.\n",
    "\n",
    "Jump Conditions must be complimented with eqn to determine the internal energy:\n",
    "$$\n",
    "u_{int} = u - \\frac{3}{2}P\n",
    "$$\n",
    "\n",
    "In some cases, can take $u = P/(\\gamma - 1)$, where $\\gamma$ is the \"adiabatic index\".\n",
    "- Assume $\\gamma = \\text{const}$ across the shock"
   ]
  },
  {
   "attachments": {},
   "cell_type": "markdown",
   "metadata": {},
   "source": [
    "- MHD fluid supports 3 wave modes: \n",
    "    - slow: speed $u_s$\n",
    "    - intermediate: speed $u_I$\n",
    "    - fast: speed $u_f$\n",
    "\n",
    "These are described by:\n",
    "$$\n",
    "u_f = \\frac{1}{\\sqrt{2}}\\left[(v_A^2 + c_s^2) + (v_A^4 + c_s^4 - 2v_A^2c_s^2\\cos 2\\theta)^{1/2} \\right]^{1/2}       \\qquad \\text{(2.14a)}\n",
    "$$\n",
    "$$\n",
    "u_I = v_A\\cos \\theta        \\qquad \\text{(2.15)}\n",
    "$$\n",
    "$$\n",
    "u_s = \\frac{1}{\\sqrt{2}}\\left[(v_A^2 + c_s^2) - (v_A^4 + c_s^4 - 2v_A^2c_s^2\\cos 2\\theta)^{1/2} \\right]^{1/2}       \\qquad \\text{(2.14b)}\n",
    "$$\n",
    "where  $\\theta$ is the angle between the angle of propogation and $\\mathbf{B}$, and $v_A$ and $c_s$ are the Alfven and sound speeds respectively, described by:\n",
    "$$\n",
    "v_A = \\frac{B}{\\sqrt{4\\pi\\rho}}     \\qquad \\text{(2.16)}\n",
    "$$\n",
    "$$\n",
    "c_S = \\sqrt{\\frac{\\gamma P}{\\rho}}      \\qquad \\text{(2.17)}\n",
    "$$\n",
    "\n",
    "Note:\n",
    "- *Fast* and *Slow* modes are compressive\n",
    "    - Can change the magnitude of the field but not the polarization\n",
    "- *Intermediate* mode is non-compressive\n",
    "    - Can change the plane of polarization of the field but not its magnityde"
   ]
  },
  {
   "attachments": {},
   "cell_type": "markdown",
   "metadata": {},
   "source": [
    "Combine **equations (2.8)-(2.10), and (2.12)** and then plug into **equation (2.15)** to find:\n",
    "$$\n",
    "\\left[ \\frac{v_\\parallel^2}{u_I^2}\\mathbf{B}_\\perp   \\right] = 0        \\qquad  \\text{(2.18)}\n",
    "$$\n",
    "Consequences of (2.18)\n",
    "- Thus, only *intermediate* waves $(v_\\parallel = u_I)$ can cause $\\mathbf{B}_\\perp$ to move out of its original phase\n",
    "    - i.e. a general shock *cannont*. It happens only when $v_\\parallel = u_I$\n",
    "    - This means shocks are *coplanar*\n",
    "        - The plane defined by $\\mathbf{B}$ and the shock normal is invariant across the shock \n",
    "    - Sign of $\\mathbf{B}_\\perp$ changes across the shock iff shock makes a transition from super- to sub-intermediate flow\n",
    "        - super-intermediate: $v_{\\parallel 1} > u_{I1}$\n",
    "        - sub-intermediate: $v_{\\parallel 2} < u_{I2}$"
   ]
  },
  {
   "attachments": {},
   "cell_type": "markdown",
   "metadata": {},
   "source": [
    "**MHD waves cause the flow velocity to jump from above the given phase velocity of a wave to below it**\n",
    "\n",
    "Can then classify the flow state in order of *decreasing* velocity:\n",
    "- Type 1 (highest velocity)\n",
    "    - $u_F < v_\\parallel$\n",
    "- Type 2\n",
    "    - $u_I < v_\\parallel < u_F$\n",
    "- Type 3\n",
    "    - $u_s < v_\\parallel < u_I$\n",
    "- Type 4 (lowest velocity)\n",
    "    - $v_\\parallel < u_s$\n",
    "\n",
    "This leads to 6 distinct types of MHD shocks:\n",
    "- Fast:\n",
    "    - type $1\\to 2$\n",
    "    - Flow is super-intermediate (i.e. $v_s > u_I$) both sides of shock\n",
    "    - B-field increases in magnitude, but doesn't reverse direction\n",
    "- Intermediate:\n",
    "    - type $1\\to 3$, or  $2 \\to 3$, or $1 \\to 4$, or $2 \\to 4$\n",
    "    - Flow-rate transitions from super-intermediate $\\to$ sub-intermediate\n",
    "    - $B_\\perp$ changes sign, and may increase or decrease in magnitude\n",
    "- Slow:\n",
    "    - type $3\\to 4$\n",
    "    - Flow is sub-intermediate (i.e. $v_s < u_I$) on both sides of shock\n",
    "    - B-field decreases in magnitude, but doesn't reverse direction\n",
    "\n",
    "Note that intermediate shocks *can* occur at the same velocity as fast shocks as both begin at a super-intermediate velocity upstream. Slow shocks are unique in the fact they begin upstream with a sub-intermediate velocity"
   ]
  },
  {
   "attachments": {},
   "cell_type": "markdown",
   "metadata": {},
   "source": [
    "**The Angle Characterizing the shock** is given by:\n",
    "$$\n",
    "\\theta_1 = \\tan^{-1}(\\frac{B_{\\perp 1}}{B_{\\parallel 1}})\n",
    "$$\n",
    "i.e., that betweeen $\\mathbf{B}$ and the shock normal"
   ]
  },
  {
   "attachments": {},
   "cell_type": "markdown",
   "metadata": {},
   "source": [
    "<font size=5>2.2.1 - Perpendicular shocks </font>($\\theta_1 = \\pi/2$) "
   ]
  },
  {
   "attachments": {},
   "cell_type": "markdown",
   "metadata": {},
   "source": [
    "This is the special case of a fluid with $ u = P/(\\gamma - 1)$ and $B_\\parallel = 0$\n",
    "\n",
    "Compression ratio given by:\n",
    "$$\n",
    "\\frac{\\rho_2}{\\rho_1} = \\frac{2(\\gamma + 1)}{D + [D^2 + 4(\\gamma + 1)(2-\\gamma)M_A^-2]^{1/2}}\n",
    "$$\n",
    "and $D$ is defined as:\n",
    "$$\n",
    "D \\equiv (\\gamma -1) + (2M^{-2} + \\gamma M_A^{-2})\n",
    "$$\n",
    "Here, $M_A \\equiv v_s/v_{A1}$ is the \"Alfven Mach number\" and $M \\equiv v_s/c_{s1}$ is the regular Mach number"
   ]
  },
  {
   "attachments": {},
   "cell_type": "markdown",
   "metadata": {},
   "source": [
    "Here, *only* possible shock is a fast shock:\n",
    "$$\n",
    "v_s > u_{F1} = (v_{A1}^2 + c_{s1}^2)^{1/2}\n",
    "$$"
   ]
  },
  {
   "attachments": {},
   "cell_type": "markdown",
   "metadata": {},
   "source": [
    "<font size=5>2.2.2 - Parallel Shocks </font>($\\theta_1 = 0$) "
   ]
  },
  {
   "attachments": {},
   "cell_type": "markdown",
   "metadata": {},
   "source": [
    "This is the special case when $B_\\perp = 0$"
   ]
  },
  {
   "attachments": {},
   "cell_type": "markdown",
   "metadata": {},
   "source": [
    "Here:\n",
    "$$\n",
    "\\begin{cases}\n",
    "u_F = \\max(c_s, v_A)    \\\\\n",
    "u_S = \\min(c_s, v_A)\n",
    "\\end{cases}\n",
    "$$"
   ]
  },
  {
   "attachments": {},
   "cell_type": "markdown",
   "metadata": {},
   "source": [
    "**Solution I: $c_{s1} < v_s$**\n",
    "\n",
    "In this case, $B_\\perp = 0$ throughout --> The B-field has no dynamic role and $M_A^{-2} = 0$. Thus, the compression ratio is given by:\n",
    "$$\n",
    "\\frac{\\rho_2}{\\rho_1} = \\frac{\\gamma + 1}{\\gamma - 1 + 2M^{-2}}\n",
    "$$\n",
    "--> If $v_{A1} < c_{s1}$: *always* a fast shock\n",
    "\n",
    "--> If $c_{s1} < v_{A1}$: Can be slow, intermediate, or fast depending on velocity"
   ]
  },
  {
   "attachments": {},
   "cell_type": "markdown",
   "metadata": {},
   "source": [
    "**Solution II --> *\"Switch-on Shock\"*:**\n",
    "\n",
    "In this case, postshock flow acquires transverse B-field and transverse velocity.\n",
    "\n",
    "Switch-on shock is a fast shock, but **requires** that the hydrodynamic shock be an intermediate one\n",
    "\n",
    "------> This requirement means the postshock is sub-intermediate\n",
    "        \n",
    "This implies the switch-on solution exists provided\n",
    "$$\n",
    "c_{s1} < v_{A1} < v_{s} < v_{crit} \\equiv \\left[  \\frac{(\\gamma + 1)v_{A1}^2 - 2c_{s1}^2}{\\gamma - 1}   \\right]^{1/2}\n",
    "$$\n",
    "---> For $\\gamma = 5/3$, switch-on shocks restricted to $1 < M_A \\leq 2$\n",
    "\n",
    "---> For radiative shocks ($\\gamma \\approx 1$), there is a much larger allowed range for $M_A$"
   ]
  },
  {
   "attachments": {},
   "cell_type": "markdown",
   "metadata": {},
   "source": [
    "For a switch-on shock, the compression ratio is just:\n",
    "$$\n",
    "\\frac{\\rho_2}{\\rho_1} = M_A^2\n",
    "$$\n",
    "From **Equation (2.18)**, know that $v_{\\parallel2} = u_{I2}$"
   ]
  },
  {
   "attachments": {},
   "cell_type": "markdown",
   "metadata": {},
   "source": [
    "<font size = 5> 2.2.3 - General Case </font> ($0 < \\theta_1 < \\pi/2$)"
   ]
  },
  {
   "attachments": {},
   "cell_type": "markdown",
   "metadata": {},
   "source": [
    "Now considering cases where $B_\\parallel, B_\\perp \\neq 0$\n",
    "\n",
    "**Case I: Strong Shocks**\n",
    "\n",
    "These are cases where $M_A >> 1, M>> 1$\n",
    "\n",
    "-------> Here, it is possible to approx. the jump conditions\n",
    "\n",
    "When $\\gamma = 5/3 \\Rightarrow$ B-field becomes *unimportant* for high $M_A$\n",
    "\n",
    "--------> For $M_A>6$, terms involving B-field in jump conditions can be omitted w/o affecting downstream densities/temperatures too much\n",
    "\n",
    "For $\\gamma > 1$, compression ratio given by:\n",
    "$$\n",
    "\\lim_{M,M_A \\to \\infty} \\frac{\\rho_2}{\\rho_1} = \\frac{\\gamma + 1}{\\gamma -1}        \\qquad (= 4 \\text{ for } \\gamma = 5/3)\n",
    "$$\n",
    "and temperature is given by:\n",
    "$$\n",
    "\\lim_{M,M_A \\to \\infty} T_{2}^{eq} = \\frac{2(\\gamma - 1)}{(\\gamma + 1)^2} \\frac{\\mu v_s^2}{k}       \\qquad (= \\frac{3}{16} \\frac{\\mu v_s^2}{k} \\text{ for } \\gamma = 5/3)\n",
    "$$\n",
    "$$\n",
    "= 1.38\\cdot 10^5 v_{s7}^2 K     \\qquad (\\text{ for } \\mu= [1.4/2.3]m_H)\n",
    "$$\n",
    "-----> $\\mu$ is mass-per-particle and $v_{s7} \\equiv v_s/10^7 \\text{ cm s}^{-1}$\n",
    "\n",
    "**Case II: Weaker Shocks**\n",
    "\n",
    "- For $u_S < v_s < u_I$\n",
    "    - slow shock possible\n",
    "        - gas compressed and B-field strength decreases\n",
    "    - In limit of $v_s \\to u_I$, becomes *\"Switch-off shock*\n",
    "        - $B_{\\perp 2} \\to 0$\n",
    "- For $v_s = u_I$\n",
    "    - Admit finite amp., noncompressive, nondissipative Alfven wave\n",
    "    - This is reversible, so not bona fide shock\n",
    "- $u_{I1} < v_s < v_{crit}(\\theta_1)$\n",
    "    - jump conditions admit intermediate shocks\n",
    "        - $B_\\perp$ changes sign across the shock\n",
    "\n",
    "\n",
    "Intermediate shocks are much harder to find direct evidence of."
   ]
  },
  {
   "attachments": {},
   "cell_type": "markdown",
   "metadata": {},
   "source": [
    "<font size = 6> 2.3 - Collisionless Shocks </font>"
   ]
  },
  {
   "attachments": {},
   "cell_type": "markdown",
   "metadata": {},
   "source": [
    "Dissaption of the relative energy of shocked & unshocked gas occurs in shock front.\n",
    "\n",
    "- In ISM, distance a proton travels before $90^o$ deflection is large\n",
    "    - For solar wind, must travel farther than Earth-Sun-distance\n",
    "    - For young SNe in ISM, distance exceeds the thickness of the cold gas disk of Galaxy\n",
    "- In either case, the dissipation is effected by interaction between the particles and E&M fields \n",
    "    - Shocks form on much smaller length scales than described above\n",
    "    - Because particle-field interactions cause shocks, they are said to be collisionless"
   ]
  },
  {
   "attachments": {},
   "cell_type": "markdown",
   "metadata": {},
   "source": [
    "<font size = 5> 2.3.1 - Shock Structure </font>"
   ]
  },
  {
   "attachments": {},
   "cell_type": "markdown",
   "metadata": {},
   "source": [
    "The nature of the shock front in collisionless shock deteremined by $\\theta_1$ between the shock normal and preshock B-field\n",
    "\n",
    "- *Quasi-Perpendicular* ($\\theta_1 \\geq 45-50^o$)\n",
    "    - B-field insulates upstream region from downstream region\n",
    "    - Motion of charged particles is gyration around field (not along it)\n",
    "    - If $M_A$ exceeds a critical value between 1 & 3, then dissipation is associated with ions reflected by the compressed B-field before being transmitted downstream.\n",
    "- *Quasi-Parallel*\n",
    "    - Much thicker than quasi-perpendicular shocks\n",
    "    - generally unsteady\n",
    "\n",
    "Structure of shock is strongly connected with how the shock formed"
   ]
  },
  {
   "attachments": {},
   "cell_type": "markdown",
   "metadata": {},
   "source": [
    "<font size = 5> 2.3.2 - Electron/Ion Temperature Ratio </font>"
   ]
  },
  {
   "attachments": {},
   "cell_type": "markdown",
   "metadata": {},
   "source": [
    "The shock jump conditions determine the mean temp. behind the shock front ($T^{eq}_2$) but **not** the temp of individual species.\n",
    "\n",
    "Electrons are generally responsible for cooling plasma, so the electron temp $T_{e2}$ is critical to understanding shock dynamics\n",
    "\n",
    "- $T_e = T_i$: Plasma in *Equipartition*\n",
    "- Measure deviations from equipartition in fully ionized cosmic plasma via:\n",
    "$$\n",
    "\\frac{T_{e2}}{T^{eq}_2} = \\frac{2.09(T_{e2}/T_{i2})}{1 + 1.09(T_{e2}/T_{i2})}\n",
    "$$\n",
    "- Most energy in the preshock flow contained in the **ions**\n",
    "    - KE of electrons less than 1/2000 of total!\n",
    "- Min. energy transferred to electrons from ions is due to adiabatic compression of the electrons in the shock\n",
    "    - Greater heating possible if electrons interact w/ rapidly varying fields\n",
    "- In theory, collisionless heating could result in equipartition\n"
   ]
  },
  {
   "attachments": {},
   "cell_type": "markdown",
   "metadata": {},
   "source": [
    "<font size = 6> 2.4 - Radiative shocks </font>"
   ]
  },
  {
   "attachments": {},
   "cell_type": "markdown",
   "metadata": {},
   "source": [
    "A shock if *radiative* if a shock wave has propogated long enough that radiative losses have cooled the first-shocked material to a small fraction of its initial postshock temperature\n",
    "\n",
    "- For cooling function $\\Lambda \\propto \\rho^2 f(T)$:\n",
    "    - can show shock must propogate certain col. density $N_{rad}$ before it becomes *radiative*\n",
    "        - For strong shocks ($M, M_A >> 1$), increased preshock B-field (decreased $M_A$) leads to increased $N_{rad}$\n",
    "            - B/c magnetic pressure limits density increase in postshock zone, increasing radiative cooling time\n"
   ]
  },
  {
   "attachments": {},
   "cell_type": "markdown",
   "metadata": {},
   "source": [
    "<font size = 5> 2.4.1 - Radiative Precursors </font>"
   ]
  },
  {
   "attachments": {},
   "cell_type": "markdown",
   "metadata": {},
   "source": [
    "The *\"Radiative Precursor*\" is a region ahead of the shock where the gas temp. and composition is altered due to ionizing radiation created by the shocked gas\n",
    "\n",
    "Emission from the shocked gas depends upon the composition (and kinda temp.) of the material just ahead of the shock transition"
   ]
  },
  {
   "attachments": {},
   "cell_type": "markdown",
   "metadata": {},
   "source": [
    "<font size = 5> 2.4.2 - Isothermal Jump Conditions </font>"
   ]
  },
  {
   "attachments": {},
   "cell_type": "markdown",
   "metadata": {},
   "source": [
    "Once radiative cooling has removed the bulk of the thermal energy from the postshock fluid, often is useful to assume the postshock fluid has been cooled to a temperature equal to the *preshock* temp. $T_1$\n",
    "\n",
    "Cold Postshock fluid will have same density, pressure, and flow velocity as a fluid with the adiabatic index $\\gamma = 1$. Then the isothermal jump conditions for perpendicular shocks are:\n",
    "$$\n",
    "\\frac{\\rho_2}{\\rho_1} = \\frac{4}{2M^{-2} + M_A^{-2} + [(2M^{-2} + M_A^{-2})^2 + 8M_A^{-2}]^{1/2}}\n",
    "$$\n",
    "which reduces to:\n",
    "$$\n",
    "\\frac{\\rho_2}{\\rho_1} \\to\n",
    "\\begin{cases}\n",
    "2^{1/2}M_A & \\text{ for } 1 << M_A << M^2    \\\\\n",
    "M^2 & \\text{ for } 1 \\leq M^2 << M_A\n",
    "\\end{cases}\n",
    "$$"
   ]
  },
  {
   "attachments": {},
   "cell_type": "markdown",
   "metadata": {},
   "source": [
    "<font size = 5> 2.4.3 - Atomic and Molecular Processes </font>"
   ]
  },
  {
   "attachments": {},
   "cell_type": "markdown",
   "metadata": {},
   "source": [
    "- Structure of interstellar shock wave depends on atomic processes affecting composition of gas and energy content.\n",
    "    - Need to know the ionization, the molecular content, and the energy loss from the gas\n",
    "- Uncertainties in collisionless shocks have nothing to do with atomic processes, but rather\n",
    "    - unknown electron temp\n",
    "    - unknown fraction of shock energy going into particle acceleration\n",
    "    - uncertain degree to which grains have been vaporized\n"
   ]
  },
  {
   "attachments": {},
   "cell_type": "markdown",
   "metadata": {},
   "source": [
    "<font size = 5> 2.4.4 - Spectral Diagnostics </font>"
   ]
  },
  {
   "attachments": {},
   "cell_type": "markdown",
   "metadata": {},
   "source": [
    "Detailed emission spectrum of radiative shock depends on the shock speed and the physical conditions ofthe preshock material\n",
    "\n",
    "Therefore, emission lines can give important diagnostics about the shock and the preshock-material\n",
    "\n",
    "*This section lists spectal features important to shocks in different ISM phases*"
   ]
  },
  {
   "attachments": {},
   "cell_type": "markdown",
   "metadata": {},
   "source": [
    "<font size = 5> 2.4.5 - \"Incomplete\" or \"Truncated\" Shocks </font>"
   ]
  },
  {
   "attachments": {},
   "cell_type": "markdown",
   "metadata": {},
   "source": [
    "A shock which has not propogated long enough to become radiative will have a different emission spectrum\n",
    "\n",
    "If the shock has accumulated a col. density $N_H$, then to good approx. the emission can be taken to be same as the emission from the portion of the radiative shock having the same $N_H$\n",
    "\n",
    "------> Referred to as a **radiative** or **truncated** shock\n",
    "\n",
    "Cooling time to $10^4$ K is $t_{cool} = N_{rad}/n_0v_s \\approx 10^3v_{s7}^3/n_0 $\n",
    "\n",
    "------> Shocks younger than $t_{cool}$ will be incomplete"
   ]
  },
  {
   "attachments": {},
   "cell_type": "markdown",
   "metadata": {},
   "source": [
    "<font size = 5> 2.4.6 - Time-Dependent Shocks </font>"
   ]
  },
  {
   "attachments": {},
   "cell_type": "markdown",
   "metadata": {},
   "source": [
    "Assumption of a steady-state may not always be valid\n",
    "\n",
    "**Consider plane, perp. shock compressing gas by a factor $\\chi$:\n",
    "\n",
    "Shock vel. is $v_s$ and is time-dependent b/c the pressure driving the shock changes in a time $t_p$\n",
    "\n",
    "The assumption that the acceleration of the shocked gas is position-independent is valid if the shock waves are short compared to $t_p$ (i.e. fast waves)\n",
    "\n",
    "So, the momentum jump condition from **Equation (2.11)** becomes:\n",
    "$$\n",
    "\\left[ \\rho v_\\parallel^2 + P + \\frac{1}{8\\pi}B_\\perp^2  \\right ]  - \\dot{v}_s \\int_0^x \\rho(x')dx' =0\n",
    "$$\n",
    "----> Note that x=0 is the point just in front of the shock. So this is evaluated from just in front of the shock to just behind it\n",
    "\n",
    "In the usual case of a decelerating shock, the pressure drops behind the shock front in order to ensure the shocked gas decelerates at the same rate\n",
    "\n",
    "In steady shocks, the density increases behind the shock. But in non-steady cases, the density can decrease, increasing the cooling time thus the likelihood that the shock will be observed to be truncated"
   ]
  },
  {
   "attachments": {},
   "cell_type": "markdown",
   "metadata": {},
   "source": [
    "<font size = 5> 2.4.7 - Thermal Conduction </font>"
   ]
  },
  {
   "attachments": {},
   "cell_type": "markdown",
   "metadata": {},
   "source": [
    "Radiative cooling creates a thermal gradient behind the shock front, making it possible for thermal conduction to affect the structure/spectrum of radiative stellar shocks\n",
    "\n",
    "Condition for conduction to be imporant is $N_{cond} = n_2\\kappa_2 T_2/(\\rho_1v_s^3/2) > N_{rad}$\n",
    "\n",
    "------> Here, $N_{Cond}$ is the characteristic col. density for conduction behind the shock\n",
    "\n",
    "For normal abundances, $N_{cond}/N_{rad} \\approx 0.005$\n",
    "\n",
    "- Conduction can have a:\n",
    "    - Modest effect when nonequilibrium ionization is taken into account\n",
    "    - Major effect if cooling rate is enhanced by high metal abundaces\n",
    "    - Substantial effect on very fast shocks $v_s \\geq 3\\cdot 10^4$ km/s"
   ]
  },
  {
   "attachments": {},
   "cell_type": "markdown",
   "metadata": {},
   "source": [
    "<font size = 6> 2.5 - Example: Supernova Blast Wave </font>"
   ]
  },
  {
   "attachments": {},
   "cell_type": "markdown",
   "metadata": {},
   "source": [
    "Consider SNe w/ $E_0 = 10^{51} E_{51}$ ergs, where ejecta have rms velocity of $10^4 (E_{51}/M_0)^{1/2}$ km/s ($M_0$ is ejecta mass in solar units).\n",
    "\n",
    "By a few days, the ejecta are \"cold\" (cooled by adiabatic expansion)\n",
    "\n",
    "As the outer edge of ejecta run into ambient interstellar material, **two** shocks are formed\n",
    "\n",
    "-----> One shock propogating into ambient material, and one propogating back into the ejecta, heating it\n",
    "\n",
    "Outer shock decelerates as reverse shock decelerates more and more of the ejecta\n",
    "\n",
    "By time $t_M$, the blast will have shocked mass of ambient gas equal to mass of the ejecta, the bulk of the ejecta will have been decelerated by the reverse shock, and ~2/3 of the KE will have been thermalized\n",
    "\n",
    "During the \"Sedov-Taylor phase\", the shock is said to be \"non-radiative\"\n",
    "\n",
    "------> Non-radiative even though we can see significant emission to gain diagnostics\n",
    "\n",
    "The expansion velocity is $v_s \\propto (E_{51}n_0)^{1/5}t^{-3/5}$ and the mean temp. is $T\\propto (E_{51}/n_0)^{2/5}t^{-6/5}$ where $t$ is the age of the blast wave\n",
    "\n",
    "For $v_s \\leq 180(n_0^2 E_{51})^{1/14}$ km/s, radiative losses due to collisions are sufficient to cool some gas, and a dense shell forms\n",
    "\n",
    "------> At this point, the shock is \"radiative\""
   ]
  }
 ],
 "metadata": {
  "kernelspec": {
   "display_name": "py38",
   "language": "python",
   "name": "python3"
  },
  "language_info": {
   "name": "python",
   "version": "3.8.5"
  },
  "orig_nbformat": 4,
  "vscode": {
   "interpreter": {
    "hash": "dc221fe95b0e25ab6c5eabb7ae10620e452c9910b94a130be58d16d7a7abb398"
   }
  }
 },
 "nbformat": 4,
 "nbformat_minor": 2
}
