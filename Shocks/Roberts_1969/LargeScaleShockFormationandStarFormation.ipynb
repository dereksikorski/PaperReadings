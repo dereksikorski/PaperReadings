{
 "cells": [
  {
   "attachments": {},
   "cell_type": "markdown",
   "metadata": {},
   "source": [
    "<font size = 7>**Title**: Large-Scale Shock Formation in Sprial Galaxies and its Implications on Star Formation      </font>"
   ]
  },
  {
   "attachments": {},
   "cell_type": "markdown",
   "metadata": {},
   "source": [
    "<font size = 6>**Author(s)**: W. W. Roberts      </font>\n",
    "\n",
    "<font size = 6>**Date**: 1969      </font>\n",
    "\n",
    "______________"
   ]
  },
  {
   "attachments": {},
   "cell_type": "markdown",
   "metadata": {},
   "source": [
    "Abstract\n",
    "---"
   ]
  },
  {
   "attachments": {},
   "cell_type": "markdown",
   "metadata": {},
   "source": [
    "- Examine the dynamics of shock formation and star formation in normal spiral galaxies"
   ]
  },
  {
   "attachments": {},
   "cell_type": "markdown",
   "metadata": {},
   "source": [
    "1|  Introduction\n",
    "---\n",
    "---"
   ]
  },
  {
   "attachments": {},
   "cell_type": "markdown",
   "metadata": {},
   "source": [
    "<font size = 6> 1.a Grand Design of Spiral Structure </font>"
   ]
  },
  {
   "attachments": {},
   "cell_type": "markdown",
   "metadata": {},
   "source": [
    "- Two theories suggested to account for grand design feature:\n",
    "    - i) Associates each spiral arm w/ a specified body of matter throughout arms evolution\n",
    "        - Problem with this is winding dilemma associated with disrupting influence of differential rotation\n",
    "    - ii) Density-wave theory"
   ]
  },
  {
   "attachments": {},
   "cell_type": "markdown",
   "metadata": {},
   "source": [
    "<font size = 6> 1.b Large Scale Galactic Shocks </font>"
   ]
  },
  {
   "attachments": {},
   "cell_type": "markdown",
   "metadata": {},
   "source": [
    "Want to establish a *two-armed* galactic shock pattern via large-scale shocks\n",
    "\n",
    "Large-scale shocks are on the scale of a few kpc (rather than at most 10 pc for small-scale shocks)"
   ]
  },
  {
   "attachments": {},
   "cell_type": "markdown",
   "metadata": {},
   "source": [
    "2|  Dynamics of A Disk-Shaped Galaxy\n",
    "---\n",
    "---"
   ]
  },
  {
   "attachments": {},
   "cell_type": "markdown",
   "metadata": {},
   "source": [
    "- Dynamics of the galactic disk mainly governed by intertial force associated with rotation of the disk and the smoothed gravitational force of the system as a whole\n",
    "- Need to include gasesous \"pressure\" and hydromagnetic forces due to B-fields when considering gas dynamics\n",
    "    - Also need to include effects due to CRs, SNe, and stellar radiation"
   ]
  },
  {
   "attachments": {},
   "cell_type": "markdown",
   "metadata": {},
   "source": [
    "<font size = 6> 2.a Dynamical Equations Governing the Gaseous Disk </font>"
   ]
  },
  {
   "attachments": {},
   "cell_type": "markdown",
   "metadata": {},
   "source": [
    "Fundamental equations of motion for gas flow about a circular disk for observer in intertial frame are:\n",
    "$$\n",
    "\\frac{\\partial \\sigma}{\\partial t} + \\frac{1}{\\omega}\\frac{\\partial (\\sigma u_\\omega \\omega)}{\\partial \\omega} + \\frac{1}{\\omega} \\frac{\\partial (\\sigma u_\\theta)}{\\partial \\theta} = 0        \\qquad (1)\n",
    "$$\n",
    "$$\n",
    "\\frac{\\partial u_\\omega}{\\partial t} + u_\\omega\\frac{\\partial u_\\omega}{\\partial \\omega} + \\frac{u_\\theta}{\\omega}\\frac{\\partial u_\\omega}{\\partial \\theta} - \\frac{u_\\theta^2}{\\omega} = - \\frac{a^2}{\\sigma}\\frac{\\partial \\sigma}{\\partial \\omega} - \\frac{\\partial\\mathcal{U}}{\\partial \\omega} \\qquad (2)\n",
    "$$\n",
    "$$\n",
    "\\frac{\\partial u_\\theta}{\\partial t} + u_\\omega \\frac{\\partial u_\\theta}{\\partial \\omega} + \\frac{u_\\theta}{\\omega}\\frac{\\partial u_\\theta}{\\partial \\theta} + \\frac{u_\\omega u_\\theta}{\\omega} = - \\frac{a^2}{\\sigma\\omega}\\frac{\\partial \\sigma}{\\partial \\theta} - \\frac{1}{\\omega} \\frac{\\partial\\mathcal{U}}{\\partial \\theta} \\qquad (3)\n",
    "$$\n",
    "where:\n",
    "$$\n",
    "\\begin{cases}\n",
    "\\sigma(\\omega, \\theta, t) = \\text{ gas density of galactic disk}        \\\\\n",
    "a = \\text{ mean turbulent dispersion speed of the gas}  \\\\\n",
    "\\mathcal{U}(\\omega, \\theta, t) = \\text{ total gravitational potential}\n",
    "\\end{cases}\n",
    "$$"
   ]
  },
  {
   "attachments": {},
   "cell_type": "markdown",
   "metadata": {},
   "source": [
    "<font size = 6> 2.b Base State of Motion </font>"
   ]
  },
  {
   "attachments": {},
   "cell_type": "markdown",
   "metadata": {},
   "source": [
    "Take base state of motion to be equilibrium state of purely circular gas flow\n",
    "\n",
    "---> Total smoothed central gravitational force field is exactly balanced by the inertial force associated with the rotation of the disk as a whole\n",
    "$$\n",
    "\\Rightarrow \\Omega^2(\\omega)\\omega = \\frac{d \\mathcal{U{_0(\\omega)}}}{d\\omega}\n",
    "$$\n",
    "where $u_\\omega = 0$, $u_\\theta = \\Omega(\\omega)\\omega$."
   ]
  },
  {
   "attachments": {},
   "cell_type": "markdown",
   "metadata": {},
   "source": [
    "<font size = 6> 2.c Perturbed State </font>"
   ]
  },
  {
   "attachments": {},
   "cell_type": "markdown",
   "metadata": {},
   "source": [
    "Divide total gravitational potential into two parts:\n",
    "$$\n",
    "\\mathcal{U}(\\omega, \\theta,t) = \\mathcal{U}_0(\\omega) + \\mathcal{U}_1(\\omega, \\theta, t)\n",
    "$$\n",
    "where $\\mathcal{U}_0(\\omega)$ is associated with the smoothed model of the MW and $\\mathcal{U}_1(\\omega, \\theta, t)$ is associated with the two-armed spiral patter of the MW.\n",
    "\n",
    "take:\n",
    "$$\n",
    "\\Rightarrow \\mathcal{U}_1(\\omega, \\theta, t) = A(\\omega, \\theta)\\cos \\left[   2\\Omega_p t - 2\\left[\\frac{1}{\\tan i}\\ln\\left(\\frac{\\omega}{\\omega_0} \\right) + \\theta \\right] - \\phi  \\right]\n",
    "$$\n",
    "\n",
    "in a similar way, split the other physical variables into two corresponding components:\n",
    "\n",
    "<img src = Perturbs.png width = 700 />\n",
    "\n",
    "It is more convenient to examine the dynamics from the rotating frame of the spiral arms since the spiral pattern rotates as a rigid structure. Given the spiral pattern rotates at a angular velocity $\\Omega_p$, the new coordinates are then:\n",
    "\n",
    "<img src = NewCoords.png width=700>"
   ]
  },
  {
   "attachments": {},
   "cell_type": "markdown",
   "metadata": {},
   "source": [
    "<font size = 6> 2.d Asymptotic Theory </font>"
   ]
  },
  {
   "attachments": {},
   "cell_type": "markdown",
   "metadata": {},
   "source": [
    "Perturbation analysis allows the formulation of:\n",
    "\n",
    "<img src = Asymp1.png width = 700 />\n",
    "\n",
    "<img src = Asymp2.png width = 700 />\n",
    "\n",
    "---> Solution of the system of 4 equations determines a gas streamtube and the gas flow at every point along the streamtube\n"
   ]
  },
  {
   "attachments": {},
   "cell_type": "markdown",
   "metadata": {},
   "source": [
    "<font size = 6> 2.e Gas Streamtube through Two Periodically Located Shocks </font>"
   ]
  },
  {
   "attachments": {},
   "cell_type": "markdown",
   "metadata": {},
   "source": [
    "Interested in solution of the nonlinear gas flow equations which satisfy three requirements:\n",
    "1. Should permit gas to pass through 2 periodically located shock waves lying coincident with spiral equipotential curves in the disk\n",
    "2. Should describe gas flow along a narrow, nearly concentric streamtube band about the galactic center\n",
    "    - Streamtube shuld repeat itself through every half-revolution of gas flow about the disk\n",
    "3. Should insure closure of the gas streamtube\n",
    "    - No net radial transfer of mass, energy, or mom. across the streamtube\n",
    "\n",
    "\n",
    "There are **five** basic independent parameters which govern the nature of the solution:\n",
    "$$\n",
    "\\begin{cases}\n",
    "i & \\text{;  angle of inclination of a spiral arm to the circumferential direction }        \\\\\n",
    "\\Omega_p & \\text{;  Ang. speed of the spiral patter }        \\\\\n",
    "F & \\text{;  Amplitude of spiral gravitational field taken as fixed fraction of smoothed grav. field }        \\\\\n",
    "\\omega & \\text{;  average radius of streamtube }        \\\\\n",
    "a(\\omega) & \\text{;  mean turbulent dispersion speed of gas along streamtube }        \\\\\n",
    "\\end{cases}\n",
    "$$\n",
    "\n",
    "A typical solution may look like:\n",
    "\n",
    "<img src=TypicalSoln.png width = 700>"
   ]
  },
  {
   "attachments": {},
   "cell_type": "markdown",
   "metadata": {},
   "source": [
    "3| Results\n",
    "---\n",
    "---"
   ]
  },
  {
   "attachments": {},
   "cell_type": "markdown",
   "metadata": {},
   "source": [
    "<font size = 6> 3.a Stationary Two-Armed Spiral Shock Pattern </font>"
   ]
  },
  {
   "attachments": {},
   "cell_type": "markdown",
   "metadata": {},
   "source": [
    "Observations show a number of typical gas clouds may not be far from the critical condition where gravitational collapse becomes possible.\n",
    "\n",
    "------> Galactic shocks may be the triggering mechanism for the gravitational collapse of the clouds, leading to SF. \n",
    "\n",
    "\n",
    "It is not so wild to think that the compression from the shock could increase the gas density so that it gravitationally collapses.\n",
    "\n",
    "----> As the gas leaves the shock region, it is quickly decompressed and SF stops\n",
    "\n",
    "In the numerical simulations, the shocks from on the inner edges of the spiral arms. This corresponds to observations of HII regions (Westerhout, 1968) on the inner parts of the spiral arms:\n",
    "\n",
    "<img src = GalaxyShock.png width=900 />\n",
    "\n",
    "\n",
    "*Note*, when refereing to the shock, it can be refered to in two different ways:\n",
    "1. Shock Strength \n",
    "    - $\\sigma(2)/\\sigma(1)$\n",
    "    - density contrast on either side of the shock\n",
    "2. effective gas compression\n",
    "    - $\\sigma(2)/\\sigma_0$\n",
    "    - ratio of maximum gas density to the average gas density"
   ]
  },
  {
   "attachments": {},
   "cell_type": "markdown",
   "metadata": {},
   "source": [
    "<font size = 6> 3.c Limit of Weak Shock Strength and Weak Spiral Gravitational Field </font>"
   ]
  },
  {
   "attachments": {},
   "cell_type": "markdown",
   "metadata": {},
   "source": [
    "Given set parameters (see paper), it is shown that a limit is found for the field strength (F) below which no solution is possible. This is given as:\n",
    "$$\n",
    "\\frac{\\sigma(2)}{\\sigma(1)} = 1.4       \\qquad M_1 = 1.2 = \\text{ Mach number (supersonic)}\n",
    "$$\n",
    "which corresponds to $F= 1.04\\%$, which means the spiral gravitational field is 1.04% that of the normal symmetric gravitational field. Note, "
   ]
  }
 ],
 "metadata": {
  "kernelspec": {
   "display_name": "py38",
   "language": "python",
   "name": "python3"
  },
  "language_info": {
   "name": "python",
   "version": "3.8.5"
  },
  "orig_nbformat": 4,
  "vscode": {
   "interpreter": {
    "hash": "dc221fe95b0e25ab6c5eabb7ae10620e452c9910b94a130be58d16d7a7abb398"
   }
  }
 },
 "nbformat": 4,
 "nbformat_minor": 2
}
