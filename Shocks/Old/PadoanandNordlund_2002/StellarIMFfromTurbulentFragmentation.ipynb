{
 "cells": [
  {
   "attachments": {},
   "cell_type": "markdown",
   "metadata": {},
   "source": [
    "<font size = 7>**Title**: The Stellar IMF from Turbulent Fragmentation       </font>"
   ]
  },
  {
   "attachments": {},
   "cell_type": "markdown",
   "metadata": {},
   "source": [
    "<font size = 6>**Author(s)**:  Paolo Padoan and Ake Nordlund     </font>\n",
    "\n",
    "<font size = 6>**Date**:   2002    </font>\n",
    "\n",
    "______________"
   ]
  },
  {
   "attachments": {},
   "cell_type": "markdown",
   "metadata": {},
   "source": [
    "Abstract\n",
    "---"
   ]
  },
  {
   "attachments": {},
   "cell_type": "markdown",
   "metadata": {},
   "source": [
    "Super–sonic turbulence fragments MCs into dense sheets, filaments and cores and large low density “voids”, via the action of highly radiative shocks. We refer to this process as turbulent fragmentation.\n",
    "\n"
   ]
  },
  {
   "attachments": {},
   "cell_type": "markdown",
   "metadata": {},
   "source": [
    "1|  Introduction\n",
    "---\n",
    "---"
   ]
  },
  {
   "attachments": {},
   "cell_type": "markdown",
   "metadata": {},
   "source": [
    "- Define \"Turbulent Fragmentation\" as the formation of dense corse in molecular clouds via super-sonic turbulence, provided the motions are also super-Alfvenic.\n",
    "- Assume:\n",
    "    - approx self-similarity of the super-sonic and super-Alfvenic velocity field\n",
    "        - expressed by a power law shape of the power spectrum of turbulence\n",
    "    - that the jump conditions for isothermal MHD shocks determine the scaling of the typical size of protostellar cores."
   ]
  },
  {
   "attachments": {},
   "cell_type": "markdown",
   "metadata": {},
   "source": [
    "2| The Origin of Dense Cores in Super-Sonic Turbulence\n",
    "---\n",
    "---"
   ]
  },
  {
   "attachments": {},
   "cell_type": "markdown",
   "metadata": {},
   "source": [
    " Assuming that the magnetic pressure in the postshock gas\n",
    "exceeds the thermal pressure (this is the case for a\n",
    "large range of values of the preshock magnetic field\n",
    "strength, even when the flow is super–Alfvenic), the\n",
    "isothermal shock jump conditions are:\n",
    "\n",
    "<img src=jumpConditions.png width = 800 />\n",
    "\n",
    "------> $lambda$ is the sheet thickness of the postshock gas and L is the linear extension of the gas before the shock (measured in the direction perpendicular to the shock surface). \n",
    "\n",
    "-----> Relevant B-fields are parallel to the shock surface because the perpendicular component does not provide pressure support against the compression and it is not amplified by the compression."
   ]
  },
  {
   "attachments": {},
   "cell_type": "markdown",
   "metadata": {},
   "source": [
    "3| The Power Spectrum of the Super-Sonic Turbulence\n",
    "---\n",
    "---"
   ]
  },
  {
   "attachments": {},
   "cell_type": "markdown",
   "metadata": {},
   "source": [
    "Assume:\n",
    "$$\n",
    "E(k) \\propto k^{-\\beta}\n",
    "$$\n",
    "where k is the wave–number, and the spectral index is β ≈ 5/3 for incompressible turbulence (Kolmogorov power spectrum) (Kolmogorov 1941), and β ≈ 2 for pressureless turbulence (Burgers power\n",
    "spectrum) (Burgers 1974; Gotoh & Kraichnan 1993).\n",
    "The β = 2 power spectrum has often been assumed\n",
    "to be the correct power spectrum of super-sonic turbulence, at least for the compressional component of\n",
    "the velocity field.\n"
   ]
  },
  {
   "attachments": {},
   "cell_type": "markdown",
   "metadata": {},
   "source": [
    "<font size = 6> 3.1 - The Power Spectrum in Numerical Simulations </font>"
   ]
  },
  {
   "attachments": {},
   "cell_type": "markdown",
   "metadata": {},
   "source": [
    "The power spectrum reported in numerous numerical simulations are not consistent with each other and predict a wide-range of values for $\\beta$"
   ]
  },
  {
   "attachments": {},
   "cell_type": "markdown",
   "metadata": {},
   "source": [
    "<font size = 6> 3.2 - The Power Spectrum from Observational Data </font>"
   ]
  },
  {
   "attachments": {},
   "cell_type": "markdown",
   "metadata": {},
   "source": [
    "Many observational studies show $\\beta \\approx 1.8$"
   ]
  },
  {
   "attachments": {},
   "cell_type": "markdown",
   "metadata": {},
   "source": [
    "4| The PDF of Mass Density\n",
    "---\n",
    "---"
   ]
  },
  {
   "attachments": {},
   "cell_type": "markdown",
   "metadata": {},
   "source": [
    "A highly radiative turbulent flow develops a complex system of interacting shocks that are able to fragment the mass\n",
    "distribution into a random network of dense cores,\n",
    "filaments and sheets and low density “voids”, with a\n",
    "large density contrast\n",
    "\n"
   ]
  },
  {
   "attachments": {},
   "cell_type": "markdown",
   "metadata": {},
   "source": [
    "5| The Mass Distribution of Dense Cores \n",
    "---\n",
    "---"
   ]
  },
  {
   "attachments": {},
   "cell_type": "markdown",
   "metadata": {},
   "source": [
    "Derive mass dist. using the following assumptions:\n",
    "1. The power spectrum of turbulence is a power law\n",
    "2. The typical size of a dense core scales as the thickness of the postshock gas\n",
    "\n",
    "so:\n",
    "$$\n",
    "m \\approx \\rho_1\\lambda^3 = \\rho_0 M_A \\left(\\frac{L}{M_A}\\right)^3 = \\frac{\\rho_0L^3}{M_A^2}\n",
    "$$\n",
    "----> The numerator is essentially the available mass\n",
    "\n",
    "Given the power spectrum, the rms shock velocity on the scale $L$ is $\\sigma_v \\propto L^\\alpha$ where $\\alpha = \\frac{\\beta - 1}{2}$. Therefore:\n",
    "$$\n",
    "m \\approx \\frac{\\rho_0 L_0^3}{M_{A, 0}^2}\\left(  \\frac{L}{L_0}  \\right)^{4 - \\beta}\n",
    "$$\n",
    "where $L_0$ is the (large) scale where the turbulent velocity is $v_0$ and the RMS velocity is $M_{A, 0}$. \n",
    "\n",
    "\n",
    "Smallest scale where there are significant density fluctuations is approximately the scale where $M_A$ is order unity. Thus:\n",
    "$$\n",
    "m_{\\min} \\approx \\frac{\\rho_0 L_0^3}{M_{a, 0}^{6/(\\beta - 1)}}\n",
    "$$\n",
    "In MCs w/ mass $M_0 = \\rho_0 L_0^3 = 10^4M_\\odot$, the mach number is $M_{a, 0} \\approx 10$, which means $m_{\\min} \\approx 0.0003 M_\\odot$ in the case $\\beta = 1.8$\n",
    "\n",
    "The largest case is when we take $L= L_0$, so:\n",
    "$$\n",
    "m_{\\max} \\approx \\frac{\\rho_0 L_0^3}{m_{A, 0}^2}\n",
    "$$\n",
    "where $M_{A, 0}$ is the rms mach number on the largest turblence scale. In the case of  $M_0 = \\rho_0 L_0^3 = 10^4M_\\odot$ and $M_{A,0}$, this corresponds to $m_{\\max} \\approx 100M_\\odot$."
   ]
  },
  {
   "attachments": {},
   "cell_type": "markdown",
   "metadata": {},
   "source": [
    "6| The Mass Distribution of Collapsing Cores\n",
    "---\n",
    "---"
   ]
  },
  {
   "attachments": {},
   "cell_type": "markdown",
   "metadata": {},
   "source": [
    "Assumes:\n",
    "1. Preshock density of $n_0$\n",
    "2. Postshock density of $M_A n_0$\n",
    "\n",
    "Find the mass distribution of collapsing cores is then:\n",
    "$$\n",
    "N(m)d\\ln m \\propto m^{-3/(4-\\beta)}\\left[ \\int_0^m p(m_j)dm_j  \\right] d\\ln m\n",
    "$$\n",
    "where:\n",
    "\n",
    "<img src=SupportEqs.png width = 400 />\n",
    "\n",
    "This results in:\n",
    "\n",
    "<img src = MassDists.png width = 450 />"
   ]
  },
  {
   "attachments": {},
   "cell_type": "markdown",
   "metadata": {},
   "source": [
    "7| The Stellar IMF\n",
    "---\n",
    "---"
   ]
  },
  {
   "attachments": {},
   "cell_type": "markdown",
   "metadata": {},
   "source": [
    "8| Discussion\n",
    "---\n",
    "---\n"
   ]
  },
  {
   "attachments": {},
   "cell_type": "markdown",
   "metadata": {},
   "source": [
    "Conclude that with how well the models fit the IMF, it is hard to imagine that turbulent fragmentation isn't the dominant effect in the collapse of molecular clouds."
   ]
  }
 ],
 "metadata": {
  "kernelspec": {
   "display_name": "py38",
   "language": "python",
   "name": "python3"
  },
  "language_info": {
   "name": "python",
   "version": "3.8.5"
  },
  "orig_nbformat": 4,
  "vscode": {
   "interpreter": {
    "hash": "dc221fe95b0e25ab6c5eabb7ae10620e452c9910b94a130be58d16d7a7abb398"
   }
  }
 },
 "nbformat": 4,
 "nbformat_minor": 2
}
