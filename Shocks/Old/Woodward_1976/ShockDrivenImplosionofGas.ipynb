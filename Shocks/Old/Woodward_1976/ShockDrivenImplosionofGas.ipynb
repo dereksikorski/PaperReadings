{
 "cells": [
  {
   "attachments": {},
   "cell_type": "markdown",
   "metadata": {},
   "source": [
    "<font size = 7>**Title**:Shock-Driven Implosion of Interstellar Gas Clouds and Star Formation       </font>"
   ]
  },
  {
   "attachments": {},
   "cell_type": "markdown",
   "metadata": {},
   "source": [
    "<font size = 6>**Author(s)**: Paul R. Woodward      </font>\n",
    "\n",
    "<font size = 6>**Date**:  1976     </font>\n",
    "\n",
    "______________"
   ]
  },
  {
   "attachments": {},
   "cell_type": "markdown",
   "metadata": {},
   "source": [
    "Abstract\n",
    "---\n",
    "\n",
    "- This paper is largely a follow-up to Roberts 1969 paper about SF in the spiral arms of spiral galaxies.\n",
    "- Uses numerical simulations to show how shocks can cause the observed SF in spiral galaxies.\n",
    "- Although this is mainly motivated by sprial wave theory, the results should also be indicative of the evolution of a cloud struck, for example, by a supernova shock"
   ]
  },
  {
   "attachments": {},
   "cell_type": "markdown",
   "metadata": {},
   "source": [
    "1|  Introduction\n",
    "---\n",
    "---"
   ]
  },
  {
   "attachments": {},
   "cell_type": "markdown",
   "metadata": {},
   "source": [
    "2| Statement of the Problem\n",
    "---\n",
    "---"
   ]
  },
  {
   "attachments": {},
   "cell_type": "markdown",
   "metadata": {},
   "source": [
    "<font size = 6>2.a - Two-Phase Medium </font>"
   ]
  },
  {
   "attachments": {},
   "cell_type": "markdown",
   "metadata": {},
   "source": [
    "Consider the ISM being composed of two phases:\n",
    "1. Cold, dense clouds\n",
    "    - T~20-140 K and n ~1.5-100 atoms/cm^3\n",
    "2. Hot, tenuous intercloud medium\n",
    "    - T~10000K and n~0.015-0.2 H atoms/cm^3"
   ]
  }
 ],
 "metadata": {
  "kernelspec": {
   "display_name": "py38",
   "language": "python",
   "name": "python3"
  },
  "language_info": {
   "name": "python",
   "version": "3.8.5"
  },
  "orig_nbformat": 4,
  "vscode": {
   "interpreter": {
    "hash": "dc221fe95b0e25ab6c5eabb7ae10620e452c9910b94a130be58d16d7a7abb398"
   }
  }
 },
 "nbformat": 4,
 "nbformat_minor": 2
}
