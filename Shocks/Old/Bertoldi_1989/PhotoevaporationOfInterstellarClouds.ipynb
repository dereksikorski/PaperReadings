{
 "cells": [
  {
   "attachments": {},
   "cell_type": "markdown",
   "metadata": {},
   "source": [
    "<font size = 7>**Title**:  The Photoevaporation of Interstellar Clouds I . Radiation Driven Implosion     </font>"
   ]
  },
  {
   "attachments": {},
   "cell_type": "markdown",
   "metadata": {},
   "source": [
    "<font size = 6>**Author(s)**: Frank Bertoldi      </font>\n",
    "\n",
    "<font size = 6>**Date**:  1989     </font>\n",
    "\n",
    "______________"
   ]
  },
  {
   "attachments": {},
   "cell_type": "markdown",
   "metadata": {},
   "source": [
    "Abstract\n",
    "---"
   ]
  },
  {
   "attachments": {},
   "cell_type": "markdown",
   "metadata": {},
   "source": [
    "Develop analytical solution to a neutral cloud exposed to the ionizing radiation of a new, young star."
   ]
  },
  {
   "attachments": {},
   "cell_type": "markdown",
   "metadata": {},
   "source": [
    "1|  Introduction\n",
    "---\n",
    "---"
   ]
  },
  {
   "attachments": {},
   "cell_type": "markdown",
   "metadata": {},
   "source": [
    "When hot O-type star forms, it will create a rapidly expanding ionized bubble surronded by a thin, neutral shell. The neutral shell shows irregularities associated with dense, neutral clumps.\n",
    "\n",
    "The dense shell around H II regions as well as the neutral globules of gas have been theorized to be sites for new star formation."
   ]
  },
  {
   "attachments": {},
   "cell_type": "markdown",
   "metadata": {},
   "source": [
    "2| Classification of Photoevaporating Clouds\n",
    "---\n",
    "---"
   ]
  },
  {
   "attachments": {},
   "cell_type": "markdown",
   "metadata": {},
   "source": [
    "<font size = 6>2.a - Initial Cloud Parameters</font>"
   ]
  },
  {
   "cell_type": "markdown",
   "metadata": {},
   "source": []
  }
 ],
 "metadata": {
  "kernelspec": {
   "display_name": "py38",
   "language": "python",
   "name": "python3"
  },
  "language_info": {
   "name": "python",
   "version": "3.8.5"
  },
  "orig_nbformat": 4,
  "vscode": {
   "interpreter": {
    "hash": "dc221fe95b0e25ab6c5eabb7ae10620e452c9910b94a130be58d16d7a7abb398"
   }
  }
 },
 "nbformat": 4,
 "nbformat_minor": 2
}
