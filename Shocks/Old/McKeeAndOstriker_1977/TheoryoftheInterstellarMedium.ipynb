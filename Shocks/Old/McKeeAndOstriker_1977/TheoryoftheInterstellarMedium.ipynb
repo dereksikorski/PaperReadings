{
 "cells": [
  {
   "attachments": {},
   "cell_type": "markdown",
   "metadata": {},
   "source": [
    "<font size = 7>**Title**: A Theory of the Interstellar Medium: Three Components Regulated by Supernova Explosions in an Inhomogeneous Substrate      </font>"
   ]
  },
  {
   "attachments": {},
   "cell_type": "markdown",
   "metadata": {},
   "source": [
    "<font size = 6>**Author(s)**: Christopher McKee and Jeremiah Ostriker      </font>\n",
    "\n",
    "<font size = 6>**Date**: 1977      </font>\n",
    "\n",
    "______________"
   ]
  },
  {
   "attachments": {},
   "cell_type": "markdown",
   "metadata": {},
   "source": [
    "Abstract\n",
    "---"
   ]
  },
  {
   "attachments": {},
   "cell_type": "markdown",
   "metadata": {},
   "source": [
    "1|  Introduction\n",
    "---\n",
    "---"
   ]
  },
  {
   "attachments": {},
   "cell_type": "markdown",
   "metadata": {},
   "source": [
    "Observations suggest presence of large amount of hot, low-density gas in disk of MW\n",
    "\n",
    "Earlier models of two-phase models don't account for hot components of ISM, which have a very high volume-filling factor. This can be seen by simply finding how much of the ISM is occupied by SNR.\n",
    "\n",
    "Basic structure developed (with (n,T) given for each phase) is:\n",
    "1. HIM:\n",
    "    - moderately inhomogeneous as blast waves from SNe if various ages pass a given point\n",
    "    - Filling factor ~0.7-0.8\n",
    "2. CNM\n",
    "    - Cold, neutral, relatively dense clouds embedded in the HIM\n",
    "    - Filling factor ~0.02-0.04\n",
    "3. Warm Medium\n",
    "    - Surrounds the cold clouds\n",
    "    - WIM\n",
    "        - Exterior shell w/ fractional ionization ~0.7 mostly heated by B-type stars\n",
    "    - WNM\n",
    "        - Interior shell with fractional ionization ~0.1 mostly maintained via SNRs\n",
    "\n",
    "All components in rough pressure equilibrium"
   ]
  },
  {
   "attachments": {},
   "cell_type": "markdown",
   "metadata": {},
   "source": [
    "2| SNR Evolution\n",
    "---\n",
    "---"
   ]
  },
  {
   "attachments": {},
   "cell_type": "markdown",
   "metadata": {},
   "source": [
    "<font size = 6>2.a Early Phases </font>"
   ]
  },
  {
   "attachments": {},
   "cell_type": "markdown",
   "metadata": {},
   "source": [
    "Thermal conduction has two effects:\n",
    "1. The interior temp. is approx uniform and equal to the mean temp. in the remanant\n",
    "2. Any cold clouds and WIM will tend to be evaporated inside the hot interior of the SNR\n",
    "\n",
    "-----> These all assume the B-field in the hot gas is connected to that in the clouds\n",
    "\n",
    "To describe the dynamics of an SNR in the presence of evaporation in the early adiabatic phases, use the following approxes:\n",
    "1. Density and Temp inside the SNR are ind. of position\n",
    "2. Blast wave vel. is proportional to the isothermal sound speed $c_h$ inside the SNR\n",
    "    - i.e. $\\dot{R} \\equiv v_b = \\alpha c_h$\n",
    "3. the only effects of the clouds on the expansion is to alter the density inside the remnant and to alter the value of $\\alpha$ from the value of 1.68 it has for the Sedov solution\n",
    "\n",
    "\n",
    "Radiative losses occur in two diffent ways:\n",
    "1. directly via radiation from the hot gas\n",
    "2. indirectly via isothermal shocks driven into the clouds"
   ]
  }
 ],
 "metadata": {
  "kernelspec": {
   "display_name": "py38",
   "language": "python",
   "name": "python3"
  },
  "language_info": {
   "name": "python",
   "version": "3.8.5"
  },
  "orig_nbformat": 4,
  "vscode": {
   "interpreter": {
    "hash": "dc221fe95b0e25ab6c5eabb7ae10620e452c9910b94a130be58d16d7a7abb398"
   }
  }
 },
 "nbformat": 4,
 "nbformat_minor": 2
}
