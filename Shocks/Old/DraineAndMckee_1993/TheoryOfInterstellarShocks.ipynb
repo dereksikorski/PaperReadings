{
 "cells": [
  {
   "attachments": {},
   "cell_type": "markdown",
   "metadata": {},
   "source": [
    "<font size = 7>**Title**: Theory of Interstellar Shocks     </font>"
   ]
  },
  {
   "attachments": {},
   "cell_type": "markdown",
   "metadata": {},
   "source": [
    "<font size = 6>**Author(s)**: Bruce T. Draine and Christopher F. McKee  </font>\n",
    "\n",
    "<font size = 6>**Date**:  1993     </font>\n",
    "\n",
    "______________"
   ]
  },
  {
   "attachments": {},
   "cell_type": "markdown",
   "metadata": {},
   "source": [
    "1|  Introduction\n",
    "---\n",
    "---"
   ]
  },
  {
   "attachments": {},
   "cell_type": "markdown",
   "metadata": {},
   "source": [
    "- A shock wave is an *irreversible, pressure-driven* fluid-dynamical disturbance.\n",
    "    - *Irreversible* b/c entropy generation when ordered KE is dissipated into heat.\n",
    "\n",
    "**Dissipation in different enviornments:**\n",
    "- Neutral gas:\n",
    "    - Due to molecular viscosity in the shock transition\n",
    "- Low-density plasma\n",
    "    - Can be collisionless and due to collective motions of the charged particles and resulting EM fields.\n",
    "- Partially ionized gas\n",
    "    - Can be primarily due to \"friction\" associated w/ neutral-ion \"slip\"\n",
    "\n",
    "- Shock wave is *always* compressive \n",
    "\n",
    "**Assumptions to make the calculations easier:**\n",
    "- Idealized in the limit s.t. they are steady\n",
    "    - Therefore, can adpot a frame s.t. the flow is stationary ($\\frac{\\partial}{\\partial t} = 0$)\n",
    "- Idealize the flow as plane parallel\n",
    "    - Can assume that $\\frac{\\partial}{\\partial y} = \\frac{\\partial}{\\partial z} = 0$\n",
    "\n",
    "**Gas travelling through shock**\n",
    "- Gas is compressed by a factor of ~4 as it flows through the shock transition.\n",
    "- Velocity also *decreases* by ~4\n",
    "    - Decrease in ordered KE is associated with increase in thermal energy (i.e. entropy)\n",
    "\n",
    "<img src = \"Schematic.png\" width=500 />"
   ]
  },
  {
   "attachments": {},
   "cell_type": "markdown",
   "metadata": {},
   "source": [
    "2| Single Fluid Shocks\n",
    "-----\n",
    "-----"
   ]
  },
  {
   "attachments": {},
   "cell_type": "markdown",
   "metadata": {},
   "source": [
    "- Single fluid refers to flows where all components (i.e. atoms, ions, electrons) are approximated to have a common flow velocity"
   ]
  },
  {
   "attachments": {},
   "cell_type": "markdown",
   "metadata": {},
   "source": [
    "<font size = 6> 2.1 - Fluid Equations </font>"
   ]
  },
  {
   "attachments": {},
   "cell_type": "markdown",
   "metadata": {},
   "source": [
    "**The fluid motion is dictated by conservation laws**\n",
    "- Mass conservation looks like:\n",
    "$$\n",
    "\\frac{\\partial \\rho}{\\partial t} + \\frac{\\partial }{\\partial x_k} (\\rho v_k) = 0        \\qquad \\text{(2.1)}\n",
    "$$\n",
    "- Momentum Conservation looks like:\n",
    "$$\n",
    "\\frac{\\partial }{\\partial t}(\\rho v_j) + \\frac{\\partial }{\\partial x_k} \\left( \\rho v_j v_k + P\\delta_{jk} - \\sigma_{jk} + \\frac{B^2}{8\\pi}\\delta_{jk} - \\frac{1}{4\\pi}B_jB_k     \\right) = 0           \\qquad \\text{(2.2)}\n",
    "$$\n",
    "- Energy Conservation looks like:\n",
    "$$\n",
    "\\frac{\\partial }{\\partial t}u + \\frac{\\partial}{\\partial x_k}(uv_k + q_k) + (P\\delta_{jk} - \\sigma_{jk})\\frac{\\partial v_j}{\\partial x_k} + \\frac{\\partial F_k}{\\partial x_k}=0\n",
    "\\qquad \\text{(2.3)}\n",
    "$$"
   ]
  },
  {
   "attachments": {},
   "cell_type": "markdown",
   "metadata": {},
   "source": [
    "Where:\n",
    "$$\n",
    "\\begin{cases}\n",
    "\\rho = \\text{density}\\\\\n",
    "\\mathbf{v} = \\text{velocity} \\\\\n",
    "P = \\text{Pressure} \\\\\n",
    "\\mathbf{B} = \\text{Magnetic Field} \\\\\n",
    "u = \\frac{3}{2}P + u_{interal} = \\text{fluid energy density} \\\\\n",
    "\\mathbf{q} = \\text{heat flux due to thermal conduction} \\\\\n",
    "\\mathbf{F} = \\text{radiative flux}  \\\\\n",
    "\\sigma_{jk} = \\text{viscous stress tensor}\n",
    "\\end{cases}\n",
    "$$"
   ]
  },
  {
   "attachments": {},
   "cell_type": "markdown",
   "metadata": {},
   "source": [
    "- Assume electrical conductivity $\\to \\infty$  \n",
    "    - Entire fluid is electrically neutral\n",
    "- Divergence of the radiative flux is given by:\n",
    "$$\n",
    "\\mathbf{\\nabla}\\cdot \\mathbf{F} = \\Lambda\n",
    "$$\n",
    "-\n",
    "    - net rate of energy removal due to radiative cooling/heating per volume"
   ]
  },
  {
   "attachments": {},
   "cell_type": "markdown",
   "metadata": {},
   "source": [
    "Can then eliminate $u_{internal}$ via:\n",
    "$$\n",
    "\\Lambda_{eff} = \\Lambda + \\frac{\\partial}{\\partial x_k}(u_{int}v_k) + \\frac{\\partial}{\\partial t}u_{int}\n",
    "$$\n",
    "which is an \"Effective\" loss function.\n",
    "\n",
    "\n",
    "Now, $\\Lambda_{eff}$ contains energy \"losses\" (i.e. ionization or dissociation). So **Eq'n (2.3)** becomes:\n",
    "$$\n",
    "\\frac{\\partial}{\\partial t}(\\frac{3}{2}P) + \\frac{\\partial}{\\partial x_k}(\\frac{3}{2}Pv_k + q_k) + (P\\delta_{jk} - \\sigma_{jk})\\frac{\\partial v_j}{\\partial x_k} + \\Lambda_{eff} = 0\n",
    "$$"
   ]
  },
  {
   "attachments": {},
   "cell_type": "markdown",
   "metadata": {},
   "source": [
    "Assuming the E-field in the fluid frame vanishes, then:\n",
    "$$\n",
    "\\mathbf{E} + \\frac{1}{c}\\mathbf{v} \\times \\mathbf{B} = 0\n",
    "$$\n",
    "and the B-field is given by:\n",
    "$$\n",
    "\\frac{\\partial}{\\partial t}B_j + \\frac{\\partial }{\\partial x_k}(v_k B_j - v_j B_k)  = 0\n",
    "$$"
   ]
  },
  {
   "attachments": {},
   "cell_type": "markdown",
   "metadata": {},
   "source": [
    "Therefore, can establish a new form for the energy equation:\n",
    "$$\n",
    "\\frac{\\partial}{\\partial t}\\left(\\frac{1}{2}\\rho v^2 + u + \\frac{B^2}{8\\pi} \\right) + \\frac{\\partial}{\\partial x_k}\\times \\left[\\left(\\frac{1}{2}\\rho v^2 + u + P+ \\frac{B^2}{8\\pi} \\right)v_k - \\sigma_{kj}v_j - \\frac{B_jB_k}{4\\pi}v_j + F_k \\right] = 0\n",
    "$$\n",
    "This equation is restricted to components w/ a common flow velocity $\\mathbf{v}$"
   ]
  },
  {
   "attachments": {},
   "cell_type": "markdown",
   "metadata": {},
   "source": [
    "<font size = 6> 2.2 - Jump Conditions </font>\n"
   ]
  },
  {
   "attachments": {},
   "cell_type": "markdown",
   "metadata": {},
   "source": [
    "Obtaining \"Jump conditions\"\n",
    "- Assume a shock \"front\" is locally plane-parallel and steady \n",
    "    - Steady = time scale for variation longer than time to flow across the front\n",
    "- IF locally plane-parallel & steady: integrate the equations from **section 2.1** across the shock front to obtain \"jump conditions\""
   ]
  },
  {
   "attachments": {},
   "cell_type": "markdown",
   "metadata": {},
   "source": [
    "- Assume viscous stress and conductive heat flux are negligible on either side of the shock front\n",
    "- Take \"parallel\" direction to be normal to the shock front"
   ]
  },
  {
   "attachments": {},
   "cell_type": "markdown",
   "metadata": {},
   "source": [
    "**Jump Conditions**\n",
    "\n",
    "*Note*: $[f] = f(x_2) - f(x_1)$ where 1/2 denotes up/down-stream of the shock transition\n",
    "\n",
    "$$\n",
    "[\\rho v_\\parallel] = 0      \\qquad \\text{(2.8)}\n",
    "$$\n",
    "$$\n",
    "[B_\\parallel] = 0       \\qquad \\text{(2.9)}\n",
    "$$\n",
    "$$\n",
    "[v_\\parallel \\mathbf{B}_\\perp - B_\\parallel \\mathbf{v}_\\perp] = 0       \\qquad \\text{(2.10)}\n",
    "$$\n",
    "$$\n",
    "[\\rho v_\\parallel^2 + P + \\frac{1}{8\\pi}B_\\perp^2] = 0          \\qquad \\text{(2.11)}\n",
    "$$\n",
    "$$\n",
    "[\\rho v_\\parallel \\mathbf{v}_\\perp - \\frac{1}{4\\pi} B_\\parallel \\mathbf{B}_\\perp] = 0       \\qquad \\text{(2.12)}\n",
    "$$\n",
    "$$\n",
    "\\left[  v_\\parallel\\left( \\frac{1}{2}\\rho v^2 + P + u \\right) + \\frac{1}{4\\pi} (B_\\perp^2 v_\\parallel - B_\\parallel \\mathbf{B}_\\perp \\cdot \\mathbf{v}_\\perp) + F_\\parallel \\right] = 0      \\qquad \\text{(2.13)}\n",
    "$$\n",
    "\n",
    "**NOTE**: Parallel is in the direction normal to the shock-plane. Perpendicular is in the shock plane.\n",
    "\n",
    "Jump Conditions must be complimented with eqn to determine the internal energy:\n",
    "$$\n",
    "u_{int} = u - \\frac{3}{2}P\n",
    "$$\n",
    "\n",
    "In some cases, can take $u = P/(\\gamma - 1)$, where $\\gamma$ is the \"adiabatic index\".\n",
    "- Assume $\\gamma = \\text{const}$ across the shock"
   ]
  },
  {
   "attachments": {},
   "cell_type": "markdown",
   "metadata": {},
   "source": [
    "- MHD fluid supports 3 wave modes: \n",
    "    - slow: speed $u_s$\n",
    "    - intermediate: speed $u_I$\n",
    "    - fast: speed $u_f$\n",
    "\n",
    "These are described by:\n",
    "$$\n",
    "u_f = \\frac{1}{\\sqrt{2}}\\left[(v_A^2 + c_s^2) + (v_A^4 + c_s^4 - 2v_A^2c_s^2\\cos 2\\theta)^{1/2} \\right]^{1/2}       \\qquad \\text{(2.14a)}\n",
    "$$\n",
    "$$\n",
    "u_I = v_A\\cos \\theta        \\qquad \\text{(2.15)}\n",
    "$$\n",
    "$$\n",
    "u_s = \\frac{1}{\\sqrt{2}}\\left[(v_A^2 + c_s^2) - (v_A^4 + c_s^4 - 2v_A^2c_s^2\\cos 2\\theta)^{1/2} \\right]^{1/2}       \\qquad \\text{(2.14b)}\n",
    "$$\n",
    "where  $\\theta$ is the angle between the angle of propogation and $\\mathbf{B}$, and $v_A$ and $c_s$ are the Alfven and sound speeds respectively, described by:\n",
    "$$\n",
    "v_A = \\frac{B}{\\sqrt{4\\pi\\rho}}     \\qquad \\text{(2.16)}\n",
    "$$\n",
    "$$\n",
    "c_S = \\sqrt{\\frac{\\gamma P}{\\rho}}      \\qquad \\text{(2.17)}\n",
    "$$\n",
    "\n",
    "Note:\n",
    "- *Fast* and *Slow* modes are compressive\n",
    "    - Can change the magnitude of the field but not the polarization\n",
    "- *Intermediate* mode is non-compressive\n",
    "    - Can change the plane of polarization of the field but not its magnityde"
   ]
  },
  {
   "attachments": {},
   "cell_type": "markdown",
   "metadata": {},
   "source": [
    "Combine **equations (2.8)-(2.10), and (2.12)** and then plug into **equation (2.15)** to find:\n",
    "$$\n",
    "\\left[ \\frac{v_\\parallel^2}{u_I^2}\\mathbf{B}_\\perp   \\right] = 0        \\qquad  \\text{(2.18)}\n",
    "$$\n",
    "Consequences of (2.18)\n",
    "- Thus, only *intermediate* waves $(v_\\parallel = u_I)$ can cause $\\mathbf{B}_\\perp$ to move out of its original phase\n",
    "    - i.e. a general shock *cannont*. It happens only when $v_\\parallel = u_I$\n",
    "    - This means shocks are *coplanar*\n",
    "        - The plane defined by $\\mathbf{B}$ and the shock normal is invariant across the shock \n",
    "    - Sign of $\\mathbf{B}_\\perp$ changes across the shock iff shock makes a transition from super- to sub-intermediate flow\n",
    "        - super-intermediate: $v_{\\parallel 1} > u_{I1}$\n",
    "        - sub-intermediate: $v_{\\parallel 2} < u_{I2}$"
   ]
  },
  {
   "attachments": {},
   "cell_type": "markdown",
   "metadata": {},
   "source": [
    "**MHD shocks cause the flow velocity to jump from above the given phase velocity of a wave to below it**\n",
    "\n",
    "Can then classify the flow state in order of *decreasing* velocity:\n",
    "- Type 1 (highest velocity)\n",
    "    - $u_F < v_\\parallel$\n",
    "- Type 2\n",
    "    - $u_I < v_\\parallel < u_F$\n",
    "- Type 3\n",
    "    - $u_s < v_\\parallel < u_I$\n",
    "- Type 4 (lowest velocity)\n",
    "    - $v_\\parallel < u_s$\n",
    "\n",
    "This leads to 6 distinct types of MHD shocks:\n",
    "- Fast:\n",
    "    - type $1\\to 2$\n",
    "    - Flow is super-intermediate (i.e. $v_s > u_I$) both sides of shock\n",
    "    - B-field increases in magnitude, but doesn't reverse direction\n",
    "- Intermediate:\n",
    "    - type $1\\to 3$, or  $2 \\to 3$, or $1 \\to 4$, or $2 \\to 4$\n",
    "    - Flow-rate transitions from super-intermediate $\\to$ sub-intermediate\n",
    "    - $B_\\perp$ changes sign, and may increase or decrease in magnitude\n",
    "- Slow:\n",
    "    - type $3\\to 4$\n",
    "    - Flow is sub-intermediate (i.e. $v_s < u_I$) on both sides of shock\n",
    "    - B-field decreases in magnitude, but doesn't reverse direction\n",
    "\n",
    "Note that intermediate shocks *can* occur at the same velocity as fast shocks as both begin at a super-intermediate velocity upstream. Slow shocks are unique in the fact they begin upstream with a sub-intermediate velocity"
   ]
  },
  {
   "attachments": {},
   "cell_type": "markdown",
   "metadata": {},
   "source": [
    "**The Angle Characterizing the shock** is given by:\n",
    "$$\n",
    "\\theta_1 = \\tan^{-1}(\\frac{B_{\\perp 1}}{B_{\\parallel 1}})\n",
    "$$\n",
    "i.e., that betweeen $\\mathbf{B}$ and the shock normal"
   ]
  },
  {
   "attachments": {},
   "cell_type": "markdown",
   "metadata": {},
   "source": [
    "<font size=5>2.2.1 - Perpendicular shocks </font>($\\theta_1 = \\pi/2$) "
   ]
  },
  {
   "attachments": {},
   "cell_type": "markdown",
   "metadata": {},
   "source": [
    "This is the special case of a fluid with $ u = P/(\\gamma - 1)$ and $B_\\parallel = 0$\n",
    "\n",
    "Compression ratio given by:\n",
    "$$\n",
    "\\frac{\\rho_2}{\\rho_1} = \\frac{2(\\gamma + 1)}{D + [D^2 + 4(\\gamma + 1)(2-\\gamma)M_A^-2]^{1/2}}\n",
    "$$\n",
    "and $D$ is defined as:\n",
    "$$\n",
    "D \\equiv (\\gamma -1) + (2M^{-2} + \\gamma M_A^{-2})\n",
    "$$\n",
    "Here, $M_A \\equiv v_s/v_{A1}$ is the \"Alfven Mach number\" and $M \\equiv v_s/c_{s1}$ is the regular Mach number"
   ]
  },
  {
   "attachments": {},
   "cell_type": "markdown",
   "metadata": {},
   "source": [
    "Here, *only* possible shock is a fast shock:\n",
    "$$\n",
    "v_s > u_{F1} = (v_{A1}^2 + c_{s1}^2)^{1/2}\n",
    "$$"
   ]
  },
  {
   "attachments": {},
   "cell_type": "markdown",
   "metadata": {},
   "source": [
    "<font size=5>2.2.2 - Parallel Shocks </font>($\\theta_1 = 0$) "
   ]
  },
  {
   "attachments": {},
   "cell_type": "markdown",
   "metadata": {},
   "source": [
    "This is the special case when $B_\\perp = 0$"
   ]
  },
  {
   "attachments": {},
   "cell_type": "markdown",
   "metadata": {},
   "source": [
    "Here:\n",
    "$$\n",
    "\\begin{cases}\n",
    "u_F = \\max(c_s, v_A)    \\\\\n",
    "u_S = \\min(c_s, v_A)\n",
    "\\end{cases}\n",
    "$$"
   ]
  },
  {
   "attachments": {},
   "cell_type": "markdown",
   "metadata": {},
   "source": [
    "**Solution I: $c_{s1} < v_s$**\n",
    "\n",
    "In this case, $B_\\perp = 0$ throughout --> The B-field has no dynamic role and $M_A^{-2} = 0$. Thus, the compression ratio is given by:\n",
    "$$\n",
    "\\frac{\\rho_2}{\\rho_1} = \\frac{\\gamma + 1}{\\gamma - 1 + 2M^{-2}}\n",
    "$$\n",
    "--> If $v_{A1} < c_{s1}$: *always* a fast shock\n",
    "\n",
    "--> If $c_{s1} < v_{A1}$: Can be slow, intermediate, or fast depending on velocity"
   ]
  },
  {
   "attachments": {},
   "cell_type": "markdown",
   "metadata": {},
   "source": [
    "**Solution II --> *\"Switch-on Shock\"*:**\n",
    "\n",
    "In this case, postshock flow acquires transverse B-field and transverse velocity.\n",
    "\n",
    "Switch-on shock is a fast shock, but **requires** that the hydrodynamic shock be an intermediate one\n",
    "\n",
    "------> This requirement means the postshock is sub-intermediate\n",
    "        \n",
    "This implies the switch-on solution exists provided\n",
    "$$\n",
    "c_{s1} < v_{A1} < v_{s} < v_{crit} \\equiv \\left[  \\frac{(\\gamma + 1)v_{A1}^2 - 2c_{s1}^2}{\\gamma - 1}   \\right]^{1/2}\n",
    "$$\n",
    "---> For $\\gamma = 5/3$, switch-on shocks restricted to $1 < M_A \\leq 2$\n",
    "\n",
    "---> For radiative shocks ($\\gamma \\approx 1$), there is a much larger allowed range for $M_A$"
   ]
  },
  {
   "attachments": {},
   "cell_type": "markdown",
   "metadata": {},
   "source": [
    "For a switch-on shock, the compression ratio is just:\n",
    "$$\n",
    "\\frac{\\rho_2}{\\rho_1} = M_A^2\n",
    "$$\n",
    "From **Equation (2.18)**, know that $v_{\\parallel2} = u_{I2}$"
   ]
  },
  {
   "attachments": {},
   "cell_type": "markdown",
   "metadata": {},
   "source": [
    "<font size = 5> 2.2.3 - General Case </font> ($0 < \\theta_1 < \\pi/2$)"
   ]
  },
  {
   "attachments": {},
   "cell_type": "markdown",
   "metadata": {},
   "source": [
    "Now considering cases where $B_\\parallel, B_\\perp \\neq 0$\n",
    "\n",
    "**Case I: Strong Shocks**\n",
    "\n",
    "These are cases where $M_A >> 1, M>> 1$\n",
    "\n",
    "-------> Here, it is possible to approx. the jump conditions\n",
    "\n",
    "When $\\gamma = 5/3 \\Rightarrow$ B-field becomes *unimportant* for high $M_A$\n",
    "\n",
    "--------> For $M_A>6$, terms involving B-field in jump conditions can be omitted w/o affecting downstream densities/temperatures too much\n",
    "\n",
    "For $\\gamma > 1$, compression ratio given by:\n",
    "$$\n",
    "\\lim_{M,M_A \\to \\infty} \\frac{\\rho_2}{\\rho_1} = \\frac{\\gamma + 1}{\\gamma -1}        \\qquad (= 4 \\text{ for } \\gamma = 5/3)\n",
    "$$\n",
    "and temperature is given by:\n",
    "$$\n",
    "\\lim_{M,M_A \\to \\infty} T_{2}^{eq} = \\frac{2(\\gamma - 1)}{(\\gamma + 1)^2} \\frac{\\mu v_s^2}{k}       \\qquad (= \\frac{3}{16} \\frac{\\mu v_s^2}{k} \\text{ for } \\gamma = 5/3)\n",
    "$$\n",
    "$$\n",
    "= 1.38\\cdot 10^5 v_{s7}^2 K     \\qquad (\\text{ for } \\mu= [1.4/2.3]m_H)\n",
    "$$\n",
    "-----> $\\mu$ is mass-per-particle and $v_{s7} \\equiv v_s/10^7 \\text{ cm s}^{-1}$\n",
    "\n",
    "**Case II: Weaker Shocks**\n",
    "\n",
    "- For $u_S < v_s < u_I$\n",
    "    - slow shock possible\n",
    "        - gas compressed and B-field strength decreases\n",
    "    - In limit of $v_s \\to u_I$, becomes *\"Switch-off shock*\n",
    "        - $B_{\\perp 2} \\to 0$\n",
    "- For $v_s = u_I$\n",
    "    - Admit finite amp., noncompressive, nondissipative Alfven wave\n",
    "    - This is reversible, so not bona fide shock\n",
    "- $u_{I1} < v_s < v_{crit}(\\theta_1)$\n",
    "    - jump conditions admit intermediate shocks\n",
    "        - $B_\\perp$ changes sign across the shock\n",
    "\n",
    "\n",
    "Intermediate shocks are much harder to find direct evidence of."
   ]
  },
  {
   "attachments": {},
   "cell_type": "markdown",
   "metadata": {},
   "source": [
    "<font size = 6> 2.3 - Collisionless Shocks </font>"
   ]
  },
  {
   "attachments": {},
   "cell_type": "markdown",
   "metadata": {},
   "source": [
    "Dissaption of the relative energy of shocked & unshocked gas occurs in shock front.\n",
    "\n",
    "- In ISM, distance a proton travels before $90^o$ deflection is large\n",
    "    - For solar wind, must travel farther than Earth-Sun-distance\n",
    "    - For young SNe in ISM, distance exceeds the thickness of the cold gas disk of Galaxy\n",
    "- In either case, the dissipation is effected by interaction between the particles and E&M fields \n",
    "    - Shocks form on much smaller length scales than described above\n",
    "    - Because particle-field interactions cause shocks, they are said to be collisionless"
   ]
  },
  {
   "attachments": {},
   "cell_type": "markdown",
   "metadata": {},
   "source": [
    "<font size = 5> 2.3.1 - Shock Structure </font>"
   ]
  },
  {
   "attachments": {},
   "cell_type": "markdown",
   "metadata": {},
   "source": [
    "The nature of the shock front in collisionless shock deteremined by $\\theta_1$ between the shock normal and preshock B-field\n",
    "\n",
    "- *Quasi-Perpendicular* ($\\theta_1 \\geq 45-50^o$)\n",
    "    - B-field insulates upstream region from downstream region\n",
    "    - Motion of charged particles is gyration around field (not along it)\n",
    "    - If $M_A$ exceeds a critical value between 1 & 3, then dissipation is associated with ions reflected by the compressed B-field before being transmitted downstream.\n",
    "- *Quasi-Parallel*\n",
    "    - Much thicker than quasi-perpendicular shocks\n",
    "    - generally unsteady\n",
    "\n",
    "Structure of shock is strongly connected with how the shock formed"
   ]
  },
  {
   "attachments": {},
   "cell_type": "markdown",
   "metadata": {},
   "source": [
    "<font size = 5> 2.3.2 - Electron/Ion Temperature Ratio </font>"
   ]
  },
  {
   "attachments": {},
   "cell_type": "markdown",
   "metadata": {},
   "source": [
    "The shock jump conditions determine the mean temp. behind the shock front ($T^{eq}_2$) but **not** the temp of individual species.\n",
    "\n",
    "Electrons are generally responsible for cooling plasma, so the electron temp $T_{e2}$ is critical to understanding shock dynamics\n",
    "\n",
    "- $T_e = T_i$: Plasma in *Equipartition*\n",
    "- Measure deviations from equipartition in fully ionized cosmic plasma via:\n",
    "$$\n",
    "\\frac{T_{e2}}{T^{eq}_2} = \\frac{2.09(T_{e2}/T_{i2})}{1 + 1.09(T_{e2}/T_{i2})}\n",
    "$$\n",
    "- Most energy in the preshock flow contained in the **ions**\n",
    "    - KE of electrons less than 1/2000 of total!\n",
    "- Min. energy transferred to electrons from ions is due to adiabatic compression of the electrons in the shock\n",
    "    - Greater heating possible if electrons interact w/ rapidly varying fields\n",
    "- In theory, collisionless heating could result in equipartition\n"
   ]
  },
  {
   "attachments": {},
   "cell_type": "markdown",
   "metadata": {},
   "source": [
    "<font size = 6> 2.4 - Radiative shocks </font>"
   ]
  },
  {
   "attachments": {},
   "cell_type": "markdown",
   "metadata": {},
   "source": [
    "A shock if *radiative* if a shock wave has propogated long enough that radiative losses have cooled the first-shocked material to a small fraction of its initial postshock temperature\n",
    "\n",
    "- For cooling function $\\Lambda \\propto \\rho^2 f(T)$:\n",
    "    - can show shock must propogate certain col. density $N_{rad}$ before it becomes *radiative*\n",
    "        - For strong shocks ($M, M_A >> 1$), increased preshock B-field (decreased $M_A$) leads to increased $N_{rad}$\n",
    "            - B/c magnetic pressure limits density increase in postshock zone, increasing radiative cooling time\n"
   ]
  },
  {
   "attachments": {},
   "cell_type": "markdown",
   "metadata": {},
   "source": [
    "<font size = 5> 2.4.1 - Radiative Precursors </font>"
   ]
  },
  {
   "attachments": {},
   "cell_type": "markdown",
   "metadata": {},
   "source": [
    "The *\"Radiative Precursor*\" is a region ahead of the shock where the gas temp. and composition is altered due to ionizing radiation created by the shocked gas\n",
    "\n",
    "Emission from the shocked gas depends upon the composition (and kinda temp.) of the material just ahead of the shock transition"
   ]
  },
  {
   "attachments": {},
   "cell_type": "markdown",
   "metadata": {},
   "source": [
    "<font size = 5> 2.4.2 - Isothermal Jump Conditions </font>"
   ]
  },
  {
   "attachments": {},
   "cell_type": "markdown",
   "metadata": {},
   "source": [
    "Once radiative cooling has removed the bulk of the thermal energy from the postshock fluid, often is useful to assume the postshock fluid has been cooled to a temperature equal to the *preshock* temp. $T_1$\n",
    "\n",
    "Cold Postshock fluid will have same density, pressure, and flow velocity as a fluid with the adiabatic index $\\gamma = 1$. Then the isothermal jump conditions for perpendicular shocks are:\n",
    "$$\n",
    "\\frac{\\rho_2}{\\rho_1} = \\frac{4}{2M^{-2} + M_A^{-2} + [(2M^{-2} + M_A^{-2})^2 + 8M_A^{-2}]^{1/2}}\n",
    "$$\n",
    "which reduces to:\n",
    "$$\n",
    "\\frac{\\rho_2}{\\rho_1} \\to\n",
    "\\begin{cases}\n",
    "2^{1/2}M_A & \\text{ for } 1 << M_A << M^2    \\\\\n",
    "M^2 & \\text{ for } 1 \\leq M^2 << M_A\n",
    "\\end{cases}\n",
    "$$"
   ]
  },
  {
   "attachments": {},
   "cell_type": "markdown",
   "metadata": {},
   "source": [
    "<font size = 5> 2.4.3 - Atomic and Molecular Processes </font>"
   ]
  },
  {
   "attachments": {},
   "cell_type": "markdown",
   "metadata": {},
   "source": [
    "- Structure of interstellar shock wave depends on atomic processes affecting composition of gas and energy content.\n",
    "    - Need to know the ionization, the molecular content, and the energy loss from the gas\n",
    "- Uncertainties in collisionless shocks have nothing to do with atomic processes, but rather\n",
    "    - unknown electron temp\n",
    "    - unknown fraction of shock energy going into particle acceleration\n",
    "    - uncertain degree to which grains have been vaporized\n"
   ]
  },
  {
   "attachments": {},
   "cell_type": "markdown",
   "metadata": {},
   "source": [
    "<font size = 5> 2.4.4 - Spectral Diagnostics </font>"
   ]
  },
  {
   "attachments": {},
   "cell_type": "markdown",
   "metadata": {},
   "source": [
    "Detailed emission spectrum of radiative shock depends on the shock speed and the physical conditions ofthe preshock material\n",
    "\n",
    "Therefore, emission lines can give important diagnostics about the shock and the preshock-material\n",
    "\n",
    "*This section lists spectal features important to shocks in different ISM phases*"
   ]
  },
  {
   "attachments": {},
   "cell_type": "markdown",
   "metadata": {},
   "source": [
    "<font size = 5> 2.4.5 - \"Incomplete\" or \"Truncated\" Shocks </font>"
   ]
  },
  {
   "attachments": {},
   "cell_type": "markdown",
   "metadata": {},
   "source": [
    "A shock which has not propogated long enough to become radiative will have a different emission spectrum\n",
    "\n",
    "If the shock has accumulated a col. density $N_H$, then to good approx. the emission can be taken to be same as the emission from the portion of the radiative shock having the same $N_H$\n",
    "\n",
    "------> Referred to as a **radiative** or **truncated** shock\n",
    "\n",
    "Cooling time to $10^4$ K is $t_{cool} = N_{rad}/n_0v_s \\approx 10^3v_{s7}^3/n_0 $\n",
    "\n",
    "------> Shocks younger than $t_{cool}$ will be incomplete"
   ]
  },
  {
   "attachments": {},
   "cell_type": "markdown",
   "metadata": {},
   "source": [
    "<font size = 5> 2.4.6 - Time-Dependent Shocks </font>"
   ]
  },
  {
   "attachments": {},
   "cell_type": "markdown",
   "metadata": {},
   "source": [
    "Assumption of a steady-state may not always be valid\n",
    "\n",
    "**Consider plane, perp. shock compressing gas by a factor $\\chi$:\n",
    "\n",
    "Shock vel. is $v_s$ and is time-dependent b/c the pressure driving the shock changes in a time $t_p$\n",
    "\n",
    "The assumption that the acceleration of the shocked gas is position-independent is valid if the shock waves are short compared to $t_p$ (i.e. fast waves)\n",
    "\n",
    "So, the momentum jump condition from **Equation (2.11)** becomes:\n",
    "$$\n",
    "\\left[ \\rho v_\\parallel^2 + P + \\frac{1}{8\\pi}B_\\perp^2  \\right ]  - \\dot{v}_s \\int_0^x \\rho(x')dx' =0\n",
    "$$\n",
    "----> Note that x=0 is the point just in front of the shock. So this is evaluated from just in front of the shock to just behind it\n",
    "\n",
    "In the usual case of a decelerating shock, the pressure drops behind the shock front in order to ensure the shocked gas decelerates at the same rate\n",
    "\n",
    "In steady shocks, the density increases behind the shock. But in non-steady cases, the density can decrease, increasing the cooling time thus the likelihood that the shock will be observed to be truncated"
   ]
  },
  {
   "attachments": {},
   "cell_type": "markdown",
   "metadata": {},
   "source": [
    "<font size = 5> 2.4.7 - Thermal Conduction </font>"
   ]
  },
  {
   "attachments": {},
   "cell_type": "markdown",
   "metadata": {},
   "source": [
    "Radiative cooling creates a thermal gradient behind the shock front, making it possible for thermal conduction to affect the structure/spectrum of radiative stellar shocks\n",
    "\n",
    "Condition for conduction to be imporant is $N_{cond} = n_2\\kappa_2 T_2/(\\rho_1v_s^3/2) > N_{rad}$\n",
    "\n",
    "------> Here, $N_{Cond}$ is the characteristic col. density for conduction behind the shock\n",
    "\n",
    "For normal abundances, $N_{cond}/N_{rad} \\approx 0.005$\n",
    "\n",
    "- Conduction can have a:\n",
    "    - Modest effect when nonequilibrium ionization is taken into account\n",
    "    - Major effect if cooling rate is enhanced by high metal abundaces\n",
    "    - Substantial effect on very fast shocks $v_s \\geq 3\\cdot 10^4$ km/s"
   ]
  },
  {
   "attachments": {},
   "cell_type": "markdown",
   "metadata": {},
   "source": [
    "<font size = 6> 2.5 - Example: Supernova Blast Wave </font>"
   ]
  },
  {
   "attachments": {},
   "cell_type": "markdown",
   "metadata": {},
   "source": [
    "Consider SNe w/ $E_0 = 10^{51} E_{51}$ ergs, where ejecta have rms velocity of $10^4 (E_{51}/M_0)^{1/2}$ km/s ($M_0$ is ejecta mass in solar units).\n",
    "\n",
    "By a few days, the ejecta are \"cold\" (cooled by adiabatic expansion)\n",
    "\n",
    "As the outer edge of ejecta run into ambient interstellar material, **two** shocks are formed\n",
    "\n",
    "-----> One shock propogating into ambient material, and one propogating back into the ejecta, heating it\n",
    "\n",
    "Outer shock decelerates as reverse shock decelerates more and more of the ejecta\n",
    "\n",
    "By time $t_M$, the blast will have shocked mass of ambient gas equal to mass of the ejecta, the bulk of the ejecta will have been decelerated by the reverse shock, and ~2/3 of the KE will have been thermalized\n",
    "\n",
    "During the \"Sedov-Taylor phase\", the shock is said to be \"non-radiative\"\n",
    "\n",
    "------> Non-radiative even though we can see significant emission to gain diagnostics\n",
    "\n",
    "The expansion velocity is $v_s \\propto (E_{51}n_0)^{1/5}t^{-3/5}$ and the mean temp. is $T\\propto (E_{51}/n_0)^{2/5}t^{-6/5}$ where $t$ is the age of the blast wave\n",
    "\n",
    "For $v_s \\leq 180(n_0^2 E_{51})^{1/14}$ km/s, radiative losses due to collisions are sufficient to cool some gas, and a dense shell forms\n",
    "\n",
    "------> At this point, the shock is \"radiative\""
   ]
  },
  {
   "attachments": {},
   "cell_type": "markdown",
   "metadata": {},
   "source": [
    "3| Multifluid Shocks in Weakly-Ionized Gas\n",
    "-----\n",
    "-----"
   ]
  },
  {
   "attachments": {},
   "cell_type": "markdown",
   "metadata": {},
   "source": [
    "<font size = 6> 3.1 - Fluid Equations </font>"
   ]
  },
  {
   "attachments": {},
   "cell_type": "markdown",
   "metadata": {},
   "source": [
    "Altough ionized particles in the ISM account for a small portion of the mass and pressure, they often affect the dynamics of the system because they couple to B-fields\n",
    "\n",
    "When fractional ionization is low enough, it is important to consider the ionized and neutral components of the plasma as distinct but interpentrating fluids.\n",
    "\n",
    "Fluid Equations written as:\n",
    "$$\n",
    "\\frac{\\partial}{\\partial t}\\rho^{(\\alpha)} + \\frac{\\partial}{\\partial x_k}[\\rho^{(\\alpha)}v_k^{(\\alpha)}] = S^{(\\alpha)}    \\qquad (3.1)\n",
    "$$\n",
    "$$\n",
    "\\frac{\\partial}{\\partial t} [\\rho^{(n)}v_j^{(n)}] + \\frac{\\partial}{\\partial x_k}[\\rho^{(n)}v_j^{(n)}v_k^{(n)} + P^{(n)}\\delta_{jk} - \\sigma_{jk}^{(n)}] = F_j^{(ni)} \\qquad (3.2)\n",
    "$$\n",
    "$$\n",
    "\\frac{\\partial}{\\partial t} [\\rho^{(i)}v_j^{(i)}] + \\frac{\\partial}{\\partial x_k}\\left[\\rho^{(i)}v_j^{(i)}v_k^{(i)} + (P^{(i)} + P^{(e)})\\delta_{jk} - \\sigma_{jk}^{(i)} + \\frac{B^2}{8\\pi}\\delta_{jk} - \\frac{1}{4\\pi}B_j B_k     \\right] = -F_j^{(ni)}        \\qquad (3.3)\n",
    "$$\n",
    "$$\n",
    "\\frac{\\partial}{\\partial t}u^{(\\alpha)} + \\frac{\\partial}{\\partial x_j}[u^{(\\alpha)}v_j^{(\\alpha)}] + [P^{(\\alpha)}\\delta_{jk} - \\sigma_{jk}^{(\\alpha)}]\\frac{\\partial v_j^{(\\alpha)}}{\\partial x_k} + \\Lambda^{(\\alpha)} = \\sum_{\\beta \\neq \\alpha} G^{(\\alpha\\beta)}      \\qquad (3.4)\n",
    "$$\n",
    "where $\\alpha$ labels the components (both neutral and charged).\n",
    "\n",
    "- Collisional coupling between the fluids is described by:\n",
    "    - $S^{(n)} = -S^{(i)}$\n",
    "        -  the net rate per vol. at which ion mass is converted to neutral mass\n",
    "    - $\\mathbf{F}^{(ni)}$\n",
    "        - rate per vol. of mom. transfer from ions to the neutrals\n",
    "    - $G^{(\\alpha\\beta)}$\n",
    "        - net rate per vol. at which the energy density $u^{(\\alpha)}$ is changed due to the effects of fluid $\\beta$\n",
    "\n"
   ]
  },
  {
   "attachments": {},
   "cell_type": "markdown",
   "metadata": {},
   "source": [
    "<font size = 6> 3.2 - Shock Structure </font>"
   ]
  },
  {
   "attachments": {},
   "cell_type": "markdown",
   "metadata": {},
   "source": [
    "- In Interstellar Molecular Clouds:\n",
    "    - $v_A \\approx 2$ km/s\n",
    "    - $B \\approx 1.1 (n_H/\\text{cm}^{-3})^{1/2} \\text{ }\\mu G$\n",
    "- In ionized component of plasma:\n",
    "    - $v_A^{(i)} = B/(4\\pi\\rho^{(i)})^{(1/2)} \\approx 100(x_e/10^{-4})^{-1/2}$ km/s\n",
    "\n",
    "For $\\theta \\neq 0$:\n",
    "\n",
    "--> Plasma supports compressive \"fast\" waves ($u_F^{i} \\approx v_A^{(i)}$)\n",
    "\n",
    "----------> Ion-neutral collisions damp these waves, but ions are able to communicate ahead of shocks with $v_s < u_{F1}^{(i)} \\approx v_{A1}^{(i)}$\n",
    "\n",
    "----------> From standpoint of ions, there is no hydrodynamic surprise and the shock *cannot* contain a discontinuity in the ion fluid.\n",
    "\n",
    "----------> These shocks are said to have a **magnetic precursor**\n",
    "\n",
    "Because of differential acceleration of neutrals/ions, they will have large relative streaming velocities\n",
    "\n",
    "----> Called ion-neutral *slip* or *ambipolar diffusion*\n",
    "\n",
    "Ion-neutral collisions heat and accelerate/decelerate both ions and neutrals in the fluid, and shock will take one of 3 forms.\n",
    "\n",
    "- **C-type**\n",
    "    - Neutral fluid remains cold and is thus everywhere supersonic\n",
    "        - Weak shock\n",
    "        - radiative cooling is able to remove heat dissipated by ion-neutral collisions\n",
    "    - Neither the neutral nor ion fluid have \"critical points\" where flow is transonic\n",
    "    - All flow variables are continuous\n",
    "- If heating by ion-neutral collisions raises neutral gas temp (and thus neutral sound speed), then the neutral flow (which is supersonic far upstream) becomes subsonic\n",
    "    - **J-Type**:\n",
    "        - neutral flow makes supersonic $\\to$ subsonic transition via a collisional \"subshock\"  \n",
    "            - subshock has thickness order of the neutral free mean path\n",
    "            - subshock has energy dissipation and entropy generation dominated by molecular viscosity\n",
    "        - Contains a \"jump\" in the neutral hydrodynamics\n",
    "    - **C\\*-type**:\n",
    "        - Sometimes, it is possible for the neutral fluid to make the supersonic $\\to$ subsonic transition smoothly\n",
    "\n",
    "\n",
    "Both upstream and downstream, the neutrals and ions are comoving and close to equipartition so that the multifluid shocks obey the same *overall* jump conditions as a single-fluid MHD shock\n",
    "\n",
    "-----------> Multifluid nature of shock only matters insofar as the structure of the shock matters\n",
    "\n",
    "The ion-neutral slip provides \"frictional\" mechanism which can convert directed KE of the upstream flow into heat at a rate which is low enough that radiative cooling may be able to maintain the fluids at temps. far below $T_2^{eq}$ which would've been attained in the absence of cooling\n",
    "\n",
    "- The situation above can mean the \"shock transition\" and \"radiative cooling zone\" coincide\n",
    "    - Molecules can be accelerated to high velocities w/o being dissociated\n",
    "    - The ower radiated by such shocks will largely appear in atomic and ionic fine structure lines, and in rotation-vibration transitions in molecules\n",
    "\n",
    "These are all charcteristics of **C-Type** shocks, so multifluid shocks in weakly ionized gas have been deemed **\"$C_{eff}$-shocks\"**, even though they may be C-type, C*-type, or even may have a small jump\n",
    "\n",
    "<img src=ShockStructures.png width = 700>"
   ]
  },
  {
   "attachments": {},
   "cell_type": "markdown",
   "metadata": {},
   "source": [
    "<font size = 6> 3.3 - Atomic and Molecular Processes </font>"
   ]
  },
  {
   "attachments": {},
   "cell_type": "markdown",
   "metadata": {},
   "source": [
    "- Three main processes allow for the coupling of the ion and neutral fluids\n",
    "    - ion-neutral elastic scattering\n",
    "    - charge exchange\n",
    "    - scattering by charged dust grains\n",
    "\n",
    "**Elastic Scattering**\n",
    "\n",
    "Force-density acting on species $\\alpha$ due to interaction with species $\\beta$ given by:\n",
    "$$\n",
    "F_j^{\\alpha\\beta} = \\frac{\\rho^{(\\alpha)}\\rho^{(\\beta)}}{(m_\\alpha + m_\\beta)}<\\sigma v>_{\\alpha\\beta}(v_j^{(\\beta)} - v_j^{\\alpha})\n",
    "$$\n",
    "where $<\\sigma v>_{\\alpha\\beta}$ is the \"momentum-transfer rate coeff.\" for $\\alpha-\\beta$ scattering. For ion-neutral scatter, $<\\sigma v>_{\\alpha\\beta} \\approx 1.9\\cdot 10^{-9}\\text{cm}^3$/s for $v_{rel} \\equiv |\\mathbf{v}^{(n)} - \\mathbf{v^{(i)}}| \\leq 15 \\text{km s}^{-1}$\n",
    "\n",
    "**Charge Exchange**\n",
    "\n",
    "Charge exchange of $H^+$ with H is important when $H^+$ makes up large fraction of ions\n",
    "\n",
    "This can be thought of as Elastic Scattering where $<\\sigma v> = 2<\\sigma_x v>$, where $<\\sigma_x v>\\approx 8.4\\cdot 10^{-9}T_4^{0.4} \\text{ cm}^{-3}$/s\n",
    "\n",
    "Elastic scarttering leads to heat exchange if the two species are at different temps.\n",
    "\n",
    "Results in source term:\n",
    "$$\n",
    "G^{(\\alpha\\beta)} = \\frac{\\rho^{(\\alpha)}\\rho^{(\\beta)}}{(m_\\alpha + m_\\beta)^2}<\\sigma v>_{\\alpha\\beta}[3A(s)k(T_\\beta - T_\\alpha) + m_\\beta v_{rel}^2]\n",
    "$$\n",
    "where $s^2 \\equiv m_\\alpha m_\\beta v_{rel}^2 / 2k(m_\\alpha T_\\beta + m_\\beta T_\\alpha)$. In general, $A(s) \\approx 1$ for $s^2 <<1$. When $<\\sigma v> = \\text{const.}$, then A(s) = 1 indepenedent of s\n",
    "\n",
    "B/c of low mass of elextrons, mom. transfer between neutrals and electrons are normally negligible. \n",
    "\n",
    "The structure of $C_{eff}$ waves depend on ability of the total cooling functon $\\Lambda^{(e)} + \\Lambda^{(i)} + \\Lambda^{(n)}$ to compete with the total heating rate, given by:\n",
    "$$\n",
    "G^{(in)} + G^{(ni)} = \\sum_{\\alpha \\in i}\\sum_{\\beta \\in n}\\frac{\\rho^{(\\alpha)}\\rho^{(\\beta)}}{m_\\alpha + m_\\beta}<\\sigma v>_{\\alpha\\beta}v_{rel}^2\n",
    "$$"
   ]
  },
  {
   "attachments": {},
   "cell_type": "markdown",
   "metadata": {},
   "source": [
    "<font size = 6> 3.4 - Role of Dust Grains </font>"
   ]
  },
  {
   "attachments": {},
   "cell_type": "markdown",
   "metadata": {},
   "source": [
    "Dust grains typically account for only ~0.6% of the total mass of the medium. They are typically charged (either positive or neg.).\n",
    "\n",
    "Because of charge, dust is coupled w/ B-field on time scale of $\\Omega_{gr}^{-1} = Mc/QB$ where $Q/M$ is the grain charge-to-mass ratio.\n",
    "\n",
    "Also coupled to the neutral gas due to ordinary gas drag on a timescale $\\tau_{drag}$\n",
    "\n",
    "grain charge also fluctuates on timescale $\\tau_Q$\n",
    "\n",
    "Grains have two different important effects:\n",
    "1. nonneglgible carrier of mom. and KE\n",
    "2. important source of mom. transfer between the magnetized plasma and neutral gas because they are coupled to both\n",
    "\n",
    "When the ion fraction is $x_e \\leq 10^{-6}$, Grains may be more important than ordinary ion-neutral scattering.\n",
    "\n",
    "Despite the low mass of the dust grains, they still account for more mass than the ions. Thus, if the dust could \"load\" the B-field, the Alfven vel. would be much lower than the Alfven vel. $B/(4\\pi \\rho^{(i)})^{1/2}$ predicted by the ion mass density.\n",
    "\n",
    "---------> If total grain mass included, then Alfven vel. would be $B(4\\pi\\rho)^{1/2} \\approx 10v_A$ ~ 20 km/s. \n",
    "\n",
    "----------------> Ion fluid couldn't sustain \"magnetic precursor\" in shocks with $v_s \\geq 20$ km/s"
   ]
  },
  {
   "attachments": {},
   "cell_type": "markdown",
   "metadata": {},
   "source": [
    "<font size = 6> 3.5 - Length Scales </font>"
   ]
  },
  {
   "attachments": {},
   "cell_type": "markdown",
   "metadata": {},
   "source": [
    "In the WIM:\n",
    "1. neutrals have much more inertia than ions\n",
    "2. B-field has much more pressure than ions\n",
    "\n",
    "Fore steady, perpendicular shock, overall jump condition is:\n",
    "$$\n",
    "\\Delta B_\\perp^2 \\approx 8\\pi \\rho_0 v_s^2\n",
    "$$\n",
    "where overall shock is strong and radiative s.t. $v_2 << v_s$\n",
    "\n",
    "From **Equation (3.3)**:\n",
    "$$\n",
    "\\frac{\\Delta B_\\perp^2}{8\\pi L} \\approx \\frac{\\rho^{(n)}\\rho^{(i)}}{m_n + m_i}<\\sigma v>v_{rel}\n",
    "$$\n",
    "which, after some approxes, gets:\n",
    "$$\n",
    "L \\approx \\frac{2^{1/2}(m_n + m_i)v_s}{M_A \\rho_1^{(i)}<\\sigma v>}\\left(  \\frac{v_s}{2v_{rel}}  \\right)\n",
    "$$\n",
    "which obviously depends on the slip velocity, which can be estimated as $v_{rel} \\approx v_s/2$. Thus:\n",
    "$$\n",
    "L \\approx 7\\cdot 10^{15} \\left(\\frac{v_{A1}}{\\text{ km s}^{-1}} \\right) \\left(\\frac{10^{-2} \\text{ cm}^{-3}}{n_1^{(i)}} \\right)\\text{cm}\n",
    "$$"
   ]
  },
  {
   "attachments": {},
   "cell_type": "markdown",
   "metadata": {},
   "source": [
    "<font size = 6> 3.6 - Critical Ionization Velocity </font>"
   ]
  },
  {
   "attachments": {},
   "cell_type": "markdown",
   "metadata": {},
   "source": [
    "Alfven proposed a neutral gas streaming across a magnetized plasma faster than a critical velocity\n",
    "$$\n",
    "\\frac{1}{2}m_n v_{crit}^2 = I\n",
    "$$\n",
    "where I is the ionization energy of the neutral species, would be rapidly ionized in processes akin to electrical discharge.\n",
    "\n",
    "Collisional ionization rates by electrons is much larger than that by ions, so this would transfer energy from ions to electrons, producing more ions, etc.\n",
    "\n",
    "$C_{eff}$ shocks can create conditions necessary for critical ionization since the shock drives the ionized component of the plasma through the neutrals at a vel. approaching the shock vel.\n",
    "\n",
    "If ionization of plasma rapidly rises, the shock becomes a strong J-type shock.\n",
    "\n",
    "----> rapid rise in ionization causes increase n heating rate, leading to dissociation of the gas, a corresponding drop in the cooling rate, and runaway heating and ionization (although the gas remains primarily neutral).\n"
   ]
  },
  {
   "attachments": {},
   "cell_type": "markdown",
   "metadata": {},
   "source": [
    "<font size = 6> 3.7 - Magnetic Precursors to J-Type Shocks </font>"
   ]
  },
  {
   "attachments": {},
   "cell_type": "markdown",
   "metadata": {},
   "source": [
    "Even if cooling not rapid enough to form a $C_{eff}$ shock, a shock with $v_s < u_{F1}^{(i)}$ will have a magnetic precursor region where ions and electrons stream through the neutral field.\n",
    "\n",
    "The length scale of the magnetic precursor can be estimated as $L_{mp} \\equiv |d\\ln v^{(i)}/dx|^{-1}$. Assuming a perpendicular shock with $v_s^{(i)} = v_s/2$ and $v^{(n)}\\approx v_s$, then:\n",
    "$$\n",
    "L_{mp} = \\frac{(m_n + m_i)B_1^2}{\\pi\\rho_1^{(i)}\\rho_1^{(n)}<\\sigma v>v_s}\\approx 2\\cdot 10^{14}\\left( \\frac{v_{A1}}{\\text{km s}^{-1}} \\right) \\left( \\frac{10^{-2}\\text{cm}^{-3}}{n_1^{(i)}}  \\right)v_{s7}^{-1} \\text{ cm}\n",
    "$$\n",
    "\n",
    "This precursor will be present so long as $v_rel$ does not exceed ~ 40 km/s, above which runaway ionization will occur and a vsicous subshock will develop.\n",
    "\n"
   ]
  },
  {
   "attachments": {},
   "cell_type": "markdown",
   "metadata": {},
   "source": [
    "4| Multifluid Shocks in Ionized Gas\n",
    "-----\n",
    "-----"
   ]
  },
  {
   "attachments": {},
   "cell_type": "markdown",
   "metadata": {},
   "source": [
    "<font size = 6> 4.1 - Nonradiative Shocks in Partially Neutral Gas </font>"
   ]
  },
  {
   "attachments": {},
   "cell_type": "markdown",
   "metadata": {},
   "source": [
    "In this case, C-shocks can be quite different. The shock is supersonic w.r.t both the ionized and neutral media.\n",
    "\n",
    "----> Ions undergo collisionless shock which heats/accelerates the ions/electrons in very short distance.\n",
    "\n",
    "----> Neutrals are unaffected by collisionless shock since they interact with the shocked plasma only via collisions\n",
    "\n",
    "Preshock-gas is only partially neutral if the radiative precursor hasn't already fully ionized it.\n",
    "\n",
    "-----> Usually satisfied by nonradiative shocks\n",
    "\n",
    "Neutral atoms behind the shock front will be subject to collisional excitations, producing narrow emission lines at the vel. of the unshocked gas\n",
    "\n",
    "-----> can produe H-atoms with broad emission, used to estimate distance to shock\n",
    "\n"
   ]
  },
  {
   "attachments": {},
   "cell_type": "markdown",
   "metadata": {},
   "source": [
    "<font size = 6> 4.2 - Particle Acceleration </font>"
   ]
  },
  {
   "attachments": {},
   "cell_type": "markdown",
   "metadata": {},
   "source": [
    "Cosmic rays have energy density comparable to that of the thermal gas and the B-field threading it."
   ]
  },
  {
   "attachments": {},
   "cell_type": "markdown",
   "metadata": {},
   "source": [
    "<font size = 5> 4.2.1 - Physics of shock acceleration </font>"
   ]
  },
  {
   "attachments": {},
   "cell_type": "markdown",
   "metadata": {},
   "source": [
    "Particles trapped in medium undergoing compression accelerate\n",
    "\n",
    "----> If they have a const. prob. of escaping, their mom. distribution follows a power law.\n",
    "\n",
    "For acceleration time $t_{acc}$, escape time $t_{esc}$, and momentum distribution $f(p)dp$, the distribution of particle momenta in a steady state is:\n",
    "$$\n",
    "f(p) \\propto p^{-(1+t_{acc}/t_{esc})} \\equiv p^{-\\alpha}\n",
    "$$\n",
    "\n",
    "In a shock, compression is due to the convergence of the flows of the shocked and unshocked plasmas at a relative vel. of $\\Delta v \\equiv v_1 - v_2$.\n",
    "\n",
    "Each time a particle with vel. $w >> v_1$ is reflected from the shock, momentum increases by $(4p\\Delta v/3w)$. If $t_{refl}$ is the time between reflections, then:\n",
    "$$\n",
    "t_{acc} \\equiv \\left( \\frac{d\\ln p}{dt}  \\right)^{-1} = t_{refl}\\left( \\frac{4\\Delta v}{3w} \\right)^{-1}\n",
    "$$\n",
    "\n",
    "**Let $r \\equiv v_1/v_2$ be the shock compression**. Then only $4v_2/w = 4v_1/rw$ of the particles can escape downstream at each reflection (most must go back upstream to undergo another step in the acceleration process). \n",
    "\n",
    "Then, because $t_{acc}/t_{esc} = 3/(r-1)$, the mom. dist. of the accelerated particles is:\n",
    "$$\n",
    "f(p) \\propto p^{-(r+2)/(r-1)}       \\qquad (4.3)\n",
    "$$\n",
    "\n",
    "**Key assumptions for Equation (4.3)**\n",
    "1. Shock must appear as a discountinuity\n",
    "    - thickness must be small compared to the m.f.p for scattering the superthermal particles in the fluctuating B-field\n",
    "2. M.f.p myst be small compared to the size of the sys. so that the shock is effectively planar and particles cannot escape\n",
    "3. particle velocities must be large compared to shock vel. so that they are approx. isotropic in the shock frame\n",
    "4. Asssumes the field is approx. parallel to the shock vel.\n",
    "\n",
    "\n",
    "Contribution to pressure from particles in the log-mom. range is:\n",
    "$$\n",
    "\\frac{dP_{cr}}{d\\ln p} = \\left(\\frac{pw}{3} \\right) pf(p) \\propto wp^{(r-4)/(r-1)}\n",
    "$$\n",
    "---> Can find partial pressures due to relativistic and nonrelativistic CRs"
   ]
  },
  {
   "attachments": {},
   "cell_type": "markdown",
   "metadata": {},
   "source": [
    "Scattering of accelerated particles can be modeled as diffusion process with diffusion coeff. $\\kappa$. CRs will be diffused upstream until the diffusion current equals the rate at which particles are being swept downstream.\n",
    "\n",
    "----> Thus, size of precursor is $L=\\kappa/v_s$\n",
    "\n",
    "Size of precursor determines reflection time, which determines accel. time.\n",
    "\n",
    "Can approx the time for particles to cross upstream to downstream as: $t_{1\\to 2} = 4\\kappa_1/wv_s$ and downstream to upstream as: $t_{2\\to 1} \\approx 4\\kappa_2/wv_s$\n",
    "\n",
    "Thus:\n",
    "$$\n",
    "t_{acc} = \\frac{3}{\\Delta v}\\left(\\frac{\\kappa_1}{v_s} + \\frac{\\kappa_2}{v_2}\\right)\n",
    "$$\n",
    "\n",
    "Plugging in numbers, can find minimum acceleration time:\n",
    "$$\n",
    "t_{acc, min} = \\frac{8\\kappa_{min,1}}{v_s^2} = 2.8\\left(\\frac{E_G}{v_{s7}^2}\\right)\\left( \\frac{3\\mu F}{B_0}  \\right) \\text{ yr}\n",
    "$$\n",
    "\n",
    "Also shows:\n",
    "$$\n",
    "\\kappa = \\frac{4}{3\\pi} \\frac{r_L \\omega}{I(p)}\n",
    "$$\n",
    "----> In general, $\\kappa$ (and thus size of CR-precursor) increases at least as rapidly as E. \n",
    "\n",
    "Plugging in numbers for a Sedov-Taylor blast around a SNe, can find:\n",
    "$$\n",
    "\\frac{L_{max}}{R} = \\frac{\\eta}{8} \\approx 0.05\n",
    "$$\n",
    "so accelerated particles are confined to thin shell outside the shock"
   ]
  },
  {
   "attachments": {},
   "cell_type": "markdown",
   "metadata": {},
   "source": [
    "The wave generated in a shock w/ particle accel. can be described by the wave-energy equation. for Alfven waves streaming opposite the flow:\n",
    "$$\n",
    "\\frac{\\partial}{\\partial t} W + \\frac{\\partial}{\\partial z} W(v-v_{Ai}) + \\frac{1}{2}W\\frac{\\partial}{\\partial z}v = v_{Ai}\\frac{\\partial}{\\partial z}P_{cr} - \\text{damping}\n",
    "$$\n",
    "-----> $W$ = the wave energy density and $v_{Ai} = v_A/x_i^{1/2}$ is the Alfven cel. in the ionized component of the plasma.\n",
    "\n",
    "\n",
    "**Uses the quasi-linear approx to find acceleration efficiency**\n",
    "\n",
    "----> Didn't take notes on this b/c seemed hard :(\n",
    "\n",
    "In hot regions of the ISM, shocks can easily produce high-energy CRs. However, in partially ionized regions, only very fast shocks can accelerate particles to relativistic energies.\n",
    "\n",
    "Possible for radiative shocks to produce a precursor which ionizes the preshock-gas sufficiently that relativistic particle acceleration is possible.\n",
    "\n",
    "------> Even here, energy of accelerated particles is limited"
   ]
  },
  {
   "attachments": {},
   "cell_type": "markdown",
   "metadata": {},
   "source": [
    "<font size = 5> 4.2.2 - Cosmic-Ray Mediated Shocks </font>"
   ]
  },
  {
   "attachments": {},
   "cell_type": "markdown",
   "metadata": {},
   "source": [
    "Unless inhibited, particle acceleration will continue until the CRs begin to affect the shock structure and regulate the accel. \n",
    "\n",
    "----> Thus, shocks are ionized gsa are expected to be multifold just like in weakly ionized gas\n",
    "\n",
    "In many cases when dealing with CRs, it is assumed to be dealing with steady shocks. This is invalid for evolving shocks when the max. energy is determined by the age of the shock.\n",
    "\n",
    "When $\\kappa$ is indepedent of mom., it is possible to treat the CRs as a fluid coupled to the thermal gas. Can then define an effective adiabatic index $\\gamma_{eff}$ which describes the spectrum of the downstream CRs.\n",
    "\n",
    "-----> Calculations suggest a smooth CR-dominated shock w/ no viscous subshock (a C-Shock) can occur for Mach numbers $M \\geq 6-12$, depending on $\\gamma_{eff}$. \n",
    "\n",
    "----------------> These shocks put most of their energy into CRs\n",
    "\n",
    "In the case where $\\kappa$ increases with energy, the energy density of CRs will diverge\n",
    "\n",
    "-----> To avoid the divergence, either set upper limit on Mach number or allow for escape of high-energy particles\n",
    "\n",
    "-----------> In many cases, in the absence of a preexisting population of CRs, these calculations lead to a J-type shock with a CR precursor\n",
    "\n",
    "There are several effects which extend the range of conditions for J-shocks and decrease the amount of energy going into superthermal particles:\n",
    "1. The waves with which the particles interact have finite phase vel.\n",
    "    - Reduces compression of CRs and softens their spectrum\n",
    "2. These waves may grow to large amplitude and damp by putting energy into thermal plasma\n",
    "3. The CR precursor itself is unstable\n",
    "    - sound waves propagating towards the shock are amplified provided the shock vel. is somewhat greater than the local sound speed\n",
    "\n",
    "Point 3. is particularly interesting because the accoustic instabilites lead to viscous subshocks, implying pure C-type shocks may not be a physical reality."
   ]
  },
  {
   "attachments": {},
   "cell_type": "markdown",
   "metadata": {},
   "source": [
    "<font size = 5> 4.2.3 - Observational Implications for shocks </font>"
   ]
  },
  {
   "attachments": {},
   "cell_type": "markdown",
   "metadata": {},
   "source": [
    "- x-ray observations of SNRs show evidence of strong shocks which are efficient in heating thermal electrons\n",
    "    - Shocks could have viscous subshocks with collisionless heating of the electrons\n",
    "    - could also have relativistic particles whih give a lot of energy to the plasma via wave damping"
   ]
  },
  {
   "attachments": {},
   "cell_type": "markdown",
   "metadata": {},
   "source": [
    "5| Instabilities in Shock Waves\n",
    "-----\n",
    "-----"
   ]
  },
  {
   "attachments": {},
   "cell_type": "markdown",
   "metadata": {},
   "source": [
    "<font size = 6> 5.1 - Thermal Instabilities </font>"
   ]
  },
  {
   "attachments": {},
   "cell_type": "markdown",
   "metadata": {},
   "source": [
    "Shocks are subject to thermal instabilities due to radiative cooling\n",
    "\n",
    "----> Results from when the cooling time of the gas decreases with decreasing temp (cold gas gets colder faster?) so that a temperature difference between a parcel of gas and its surrondings will increase with time\n",
    "\n",
    "In shocks, these can be:\n",
    "1. local instability\n",
    "    - scale is small enough that shock dynamics are unaffected\n",
    "2. global instability\n",
    "    - variations in the shock velocity play key role in instability\n",
    "\n",
    "The paper describes a sceneraio where global instability is present."
   ]
  },
  {
   "attachments": {},
   "cell_type": "markdown",
   "metadata": {},
   "source": [
    "<font size = 6> 5.2 - Ion-Neutral Streaming: Wardle Instability </font>"
   ]
  },
  {
   "attachments": {},
   "cell_type": "markdown",
   "metadata": {},
   "source": [
    "MHD shocks in gas with low fractional ionization are subject to dynamical instability involving deformation of the B-field\n",
    "\n",
    "Essentially, perturbations will mean the drag force will accelerate ions along the B-field lines so that they're collected into magnetic \"valleys\". This increases the density of ions in these \"valleys\" futher increasing the drag and thus the distortion of the B-field.\n",
    "\n",
    "<img src=Wardle.png width=700 />"
   ]
  },
  {
   "attachments": {},
   "cell_type": "markdown",
   "metadata": {},
   "source": [
    "<font size = 6> 5.3 - Cosmic-Ray-Mediated Shocks: Drury Instability </font>"
   ]
  },
  {
   "attachments": {},
   "cell_type": "markdown",
   "metadata": {},
   "source": [
    "Shocks efficient at CR-acceleration have a postshock CR pressure which is an appreciable fraction of the total mom. flux.\n",
    "\n",
    "-----> Thus, CR pressure gradient in the neighborhood of the shock is dynamically significant\n",
    "\n",
    "Drury noted acoustic waves propogating towards the shock may be amplfied in the region where the CR pressure gradient is present\n"
   ]
  },
  {
   "attachments": {},
   "cell_type": "markdown",
   "metadata": {},
   "source": [
    "<font size = 6> 5.4 - Blast Wave Instabilities </font>"
   ]
  },
  {
   "attachments": {},
   "cell_type": "markdown",
   "metadata": {},
   "source": [
    "Decelerating radiative shock waves are subject to a rippling instabilty"
   ]
  },
  {
   "attachments": {},
   "cell_type": "markdown",
   "metadata": {},
   "source": [
    "6| Dust in Shocks\n",
    "-----\n",
    "-----"
   ]
  },
  {
   "attachments": {},
   "cell_type": "markdown",
   "metadata": {},
   "source": [
    "<font size = 6> 6.1 - Physical Processes </font>"
   ]
  },
  {
   "attachments": {},
   "cell_type": "markdown",
   "metadata": {},
   "source": [
    "When a dusty plasma is overtaken by a shock, the grains are subject to destruction via grain-grain collisions and sputtering\n",
    "\n",
    "In unmagnetized gas, grain component will develop a postshock vel. dispersion as deceleration due to drag depends on grain size. In magnetized gas, large vel. dispersion develops b/c of gyration of charged grains around the field lines. \n",
    "\n",
    "In lower velocity shocks, grain-grain collisions are more important\n",
    "\n",
    "In shocks with $v_s \\geq 100$ km/s, sputtering dominates over grain-grain collisions\n",
    "\n",
    "----> Sputtering rates depend on gas temp. and on motion of the grains through the gas\n",
    "\n",
    "Grain destruction fractions of several to several 10s of percent are estimated for $v_s \\approx 50-200$ km/s shocks\n",
    "\n",
    "Inelastic collisions of electrons with dust grains can be an important cooling mechanism"
   ]
  },
  {
   "attachments": {},
   "cell_type": "markdown",
   "metadata": {},
   "source": [
    "<font size = 6> 6.2 - Observational Implications </font>"
   ]
  },
  {
   "attachments": {},
   "cell_type": "markdown",
   "metadata": {},
   "source": [
    "Infrared emission from shock-heated dust dominates the spctrum of SNRs\n",
    "\n",
    "Shocks are dominant destruction mechanism for interstellar dust grains, and thus have major effect on the gas-phase abundances of a number of elements in the ISM"
   ]
  },
  {
   "attachments": {},
   "cell_type": "markdown",
   "metadata": {},
   "source": [
    "7| Shock Chemistry\n",
    "-----\n",
    "-----"
   ]
  },
  {
   "attachments": {},
   "cell_type": "markdown",
   "metadata": {},
   "source": [
    "<font size = 6> 7.1 - Hot Chemistry in Molecular Gas </font>"
   ]
  },
  {
   "attachments": {},
   "cell_type": "markdown",
   "metadata": {},
   "source": [
    "Sufficiently fast shocks will destroy $H_2$ in molecular clouds, but slower shocks (generally $C_{eff}$) may heat the gas just enough so that a variety of reactions may occur.\n",
    "\n",
    "$CH^+$ may be produced via the endothermic reaction in shock waves:\n",
    "$$\n",
    "c^+ + H_2 + 0.40eV \\to CH^+ + H\n",
    "$$\n",
    "Although single fluid shocks do not appear suitable, the ion-neutral streaming in two-fluid MHD shocks helps overcome the energy barrier in the reaction above\n",
    "\n",
    "In both diffuse and dense clouds, the following are possible to produce OH and $H_2O$:\n",
    "$$\n",
    "O + H_2 + 0.08eV \\to OH + H\n",
    "$$\n",
    "$$\n",
    "OH + H_2 \\to H_2O + H + 0.64eV\n",
    "$$\n",
    "----> due to the significant activation energy, these reactions don't begin until temp reaches ~300 K.\n",
    "\n",
    "These reactions are important b/c\n",
    "1. They remove atomic oxygen (an important reactant)\n",
    "2. OH and $H_2O$ are powerful coolants and valuable diagnostics"
   ]
  },
  {
   "attachments": {},
   "cell_type": "markdown",
   "metadata": {},
   "source": [
    "<font size = 6> 7.2 - Dissociative Shocks </font>"
   ]
  },
  {
   "attachments": {},
   "cell_type": "markdown",
   "metadata": {},
   "source": [
    "For sufficiently high shock speeds (J-type shocks), conditions in the shocked gas will lead to the destruction of $H_2$, primarily via collisional dissociation\n",
    "\n",
    "----> Critical shock speed depends on B-field and fractional ionization of preshock gas\n",
    "\n",
    "Faster shocks will dissociate essentially all of the $H_2$, and cooling is then dominated by electronic transitions of atoms and ions\n",
    "\n",
    "Once the postshock gas cools, $H_2$ will begin to reform:\n",
    "1. via dissociative attachement: $H^- + H \\to H_2 + e^-$\n",
    "2. on the surface of surviving dust grains\n",
    "\n",
    "$H_2$ formation affects the postshock gas in different ways:\n",
    "1. heat release\n",
    "2. creation of a coolant\n",
    "3. introduction of a species which can subsequently react to form other molecules (i.e. OH or $H_2O$)\n",
    "\n"
   ]
  }
 ],
 "metadata": {
  "kernelspec": {
   "display_name": "py38",
   "language": "python",
   "name": "python3"
  },
  "language_info": {
   "name": "python",
   "version": "3.8.5"
  },
  "orig_nbformat": 4,
  "vscode": {
   "interpreter": {
    "hash": "dc221fe95b0e25ab6c5eabb7ae10620e452c9910b94a130be58d16d7a7abb398"
   }
  }
 },
 "nbformat": 4,
 "nbformat_minor": 2
}
