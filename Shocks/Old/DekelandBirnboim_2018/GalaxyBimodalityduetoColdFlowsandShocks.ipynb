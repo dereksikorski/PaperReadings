{
 "cells": [
  {
   "attachments": {},
   "cell_type": "markdown",
   "metadata": {},
   "source": [
    "<font size = 7>**Title**: Galaxy Bimodality due to Cold Flows and Shock Heating      </font>"
   ]
  },
  {
   "attachments": {},
   "cell_type": "markdown",
   "metadata": {},
   "source": [
    "<font size = 6>**Author(s)**: Avishai Dekel and Yuval Birnboim   </font>\n",
    "\n",
    "<font size = 6>**Date**:   2018    </font>\n",
    "\n",
    "______________"
   ]
  },
  {
   "attachments": {},
   "cell_type": "markdown",
   "metadata": {},
   "source": [
    "Abstract\n",
    "---"
   ]
  },
  {
   "attachments": {},
   "cell_type": "markdown",
   "metadata": {},
   "source": [
    "Less massive galaxies tend to be ungrouped\n",
    "blue star-forming discs, while more massive galaxies are typically grouped red old-star\n",
    "spheroids. \n",
    "\n",
    "We propose that these features are\n",
    "driven by the thermal properties of the inflowing gas and their interplay with the\n",
    "clustering and feedback processes, all functions of the dark-matter halo mass and associated with a similar characteristic scale"
   ]
  },
  {
   "attachments": {},
   "cell_type": "markdown",
   "metadata": {},
   "source": [
    "1|  Introduction\n",
    "---\n",
    "---"
   ]
  },
  {
   "attachments": {},
   "cell_type": "markdown",
   "metadata": {},
   "source": [
    "Observations reveal a robust bi-modality in the galaxy\n",
    "population, being divided into two classes, the “blue”\n",
    "and “red” sequences, at a characteristic stellar mass Ms,crit ≃ 3×1010M⊙. This corresponds to a dark-halo mass Mcrit <∼ 1012M⊙ and a virial velocity Vcrit ≃ 120 km s−1\n",
    "today. \n",
    "\n",
    "Current models of galaxy formation have difficulties in\n",
    "reproducing this bi-modality and the broad color distribution observed. In particular, the extremely red bright ellipticals which start showing up already at\n",
    "z\n",
    "∼ 1 are not\n",
    "predicted"
   ]
  },
  {
   "attachments": {},
   "cell_type": "markdown",
   "metadata": {},
   "source": [
    "<font size=6> 1.a - The Observed Bi-modality </font>"
   ]
  },
  {
   "attachments": {},
   "cell_type": "markdown",
   "metadata": {},
   "source": [
    "Features of bimodality:\n",
    "1. Luminosity Functions\n",
    "    -  Blue galaxies dominate the stellar mass function below $M_{s,crit}$ while red galaxies take over above it\n",
    "2. Color-Magnitude\n",
    "    - the galaxies are divided into a blue sequence and a red sequence separated by a gap\n",
    "3. SFR\n",
    "    - less massive galaxies dominated by younger pops\n",
    "4. Color-Mag at z~1\n",
    "5. Massive starbursts at high z\n",
    "6. Star-formation history\n",
    "7. Bulge-to-disk ratio\n",
    "8. Enviornmental dependence\n",
    "9. Halo Mass and HOD\n",
    "10. Hot halo gas\n",
    "11. Luminosity/mass functions\n",
    "12. Fundamental line vs. plane"
   ]
  },
  {
   "attachments": {},
   "cell_type": "markdown",
   "metadata": {},
   "source": [
    "<font size=6> 1.b - Key Physical Processes </font>"
   ]
  },
  {
   "attachments": {},
   "cell_type": "markdown",
   "metadata": {},
   "source": [
    "1. Cold infall vs hot medium\n",
    "2. Gravitational Clustering\n",
    "3. Feedback"
   ]
  },
  {
   "attachments": {},
   "cell_type": "markdown",
   "metadata": {},
   "source": [
    "2| Spherical shock stability analysis\n",
    "---\n",
    "---"
   ]
  },
  {
   "attachments": {},
   "cell_type": "markdown",
   "metadata": {},
   "source": [
    "while\n",
    "a DM halo relaxes to a virial equilibrium, the gas that\n",
    "falls in within it is shock heated near the halo virial radius\n",
    "Rv to the halo virial temperature. It is then assumed to\n",
    "cool radiatively from the inside out."
   ]
  },
  {
   "attachments": {},
   "cell_type": "markdown",
   "metadata": {},
   "source": [
    "<font size=6> 2.a - Spherical Simulations</font>"
   ]
  }
 ],
 "metadata": {
  "kernelspec": {
   "display_name": "py38",
   "language": "python",
   "name": "python3"
  },
  "language_info": {
   "name": "python",
   "version": "3.8.5"
  },
  "orig_nbformat": 4,
  "vscode": {
   "interpreter": {
    "hash": "dc221fe95b0e25ab6c5eabb7ae10620e452c9910b94a130be58d16d7a7abb398"
   }
  }
 },
 "nbformat": 4,
 "nbformat_minor": 2
}
