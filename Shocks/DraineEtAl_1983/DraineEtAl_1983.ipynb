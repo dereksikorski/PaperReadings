{
 "cells": [
  {
   "attachments": {},
   "cell_type": "markdown",
   "metadata": {},
   "source": [
    "<font size = 7>**Title**: Magnetohydrodynamic Shock Waves in Molecular Clouds      </font>"
   ]
  },
  {
   "attachments": {},
   "cell_type": "markdown",
   "metadata": {},
   "source": [
    "<font size = 6>**Author(s)**: B. T. Draine, W.G. Roberge, and A. Dalgarno      </font>\n",
    "\n",
    "<font size = 6>**Date**: 1983      </font>\n",
    "\n",
    "______________"
   ]
  },
  {
   "attachments": {},
   "cell_type": "markdown",
   "metadata": {},
   "source": [
    "Abstract\n",
    "---"
   ]
  },
  {
   "attachments": {},
   "cell_type": "markdown",
   "metadata": {},
   "source": [
    "- Structure of shock waves in molecular clouds is calculated\n",
    "    - Find waves are C-type, mediated entirely by dissipation accompanying ion-neutral streaming, and in which all hydrodynamic variables are continuous."
   ]
  },
  {
   "attachments": {},
   "cell_type": "markdown",
   "metadata": {},
   "source": [
    "1|  Introduction\n",
    "---\n",
    "---"
   ]
  },
  {
   "attachments": {},
   "cell_type": "markdown",
   "metadata": {},
   "source": [
    "There are many examples of hypersonic motion in molecular clouds\n",
    "\n",
    "If the fractional ionization is low, B-fields may substantially alter the shock structure\n",
    "\n",
    "-----> In particular, may lead to lower levels of excitation and dissociation in the shocked gas than in nomagnetic shock waves"
   ]
  },
  {
   "attachments": {},
   "cell_type": "markdown",
   "metadata": {},
   "source": [
    "2| Magnetohydrodynamics\n",
    "---\n",
    "---"
   ]
  },
  {
   "attachments": {},
   "cell_type": "markdown",
   "metadata": {},
   "source": [
    "Consider situation with:\n",
    "- plane-parallel steady shock w/ vel. $v_s$\n",
    "- uniform medium with preshock density of $n_H = n(H) + 2n(H_2)$\n",
    "    - gas has atomic H, molecular H, helium w/ $n_{He} = 0.1n_H$, electrons, and representative postive ion $I^+$ with $n(I^+) = n_e$ and mass $\\mu_i = 30m_H$\n",
    "- B-field of $B_0$ transverse to $v_s$\n",
    "- neutral specieis with total mass density $\\rho_n$, mean molec. weight $\\mu_n$, common temp $T_n$, common flow speed $v_n$\n",
    "- ions/electrons have total mass density $\\rho_i$ and flow together with speed $v_i$ w/ respective temps $T_i$ and $T_e$.\n",
    "    - electrical conductivity assumed to be high s.t. E-field is not important\n",
    "- B-field varies as $B = B_0v_s/v_i$\n",
    "\n",
    "<img src=ConservationLaws.png width=1000 />\n",
    "\n",
    "\n",
    "where:\n",
    "$$\n",
    "\\begin{cases}\n",
    "S_n = \\text{ net rate per vol. at which ion-electron mass converted to neutral mass}    \\\\\n",
    "F_n,F_i = \\text{ rates per vol. at which mom. added to neutral and ion fluids}  \\\\\n",
    "G_n,G_i,G_e = \\text{ rates per vol at which thermal energy is added to the neutral, ion, and electron fluids as result of interaction between }\\\\\n",
    "  \\qquad  \\text{different fluids, CRs, or emission/absorption of photons} \\\\\n",
    "u_n = \\text{ internal thermal energy per neutral particle}  \\\\\n",
    "N_n, N_i = \\text{ rater per vol. at which number of neutrals and ions chages as result of dissociation, ionization, or recombination}\n",
    "\\end{cases}\n",
    "$$\n",
    "\n",
    "\n",
    "There exists a \"magnetic precursor\" for MHD shock waves with $B_0 > B_{\\min}$, where:\n",
    "$$\n",
    "B_{\\min}^2 = 4\\pi\\left[\\rho_i v_s^2 - \\frac{5}{3}n_e k (T_i + T_e) \\right]\n",
    "$$\n",
    "\n",
    "When $B_0 > B_{\\min}$:\n",
    "1. There is a magnetic precursor\n",
    "2. ion-electron flow variables $\\rho_i, v_i, T_i, T_e$ are continuous through the shock\n",
    "\n",
    "When there is a magnetic precursor, you can have:\n",
    "1. J-type shock\n",
    "  - neutral flow variables undergo discontinuous change at a \"jump front\"\n",
    "    - when $B_{\\min} < B_0 < B_{crit}$\n",
    "2. C-type shock\n",
    "  - neutral flow variables are continuous functions of position\n",
    "  - $B_0 > B_{crit}$"
   ]
  },
  {
   "attachments": {},
   "cell_type": "markdown",
   "metadata": {},
   "source": [
    "3| Momentum Transfer Process\n",
    "---\n",
    "---"
   ]
  },
  {
   "attachments": {},
   "cell_type": "markdown",
   "metadata": {},
   "source": [
    "Mom. transfer between neutral/charged fluids occur via:\n",
    "1. ion-neutral scattering\n",
    "2. colisions of neutral atoms and molecules with charged dust grains\n",
    "\n",
    "Mom. transfer due to ion-neutral collisions is:\n",
    "$$\n",
    "(F_n)_{IN} = \\frac{\\mu_n\\mu_i}{(\\mu_n + \\mu_i)}n_en_n<\\sigma v>_{IN}(v_i - v_n)\n",
    "$$\n",
    "Electron-neutral mom. transfer is:\n",
    "$$\n",
    "(F_n)_{eN} = \\frac{\\mu_n m_e}{(\\mu_n + m_e)}n_en_n<\\sigma v>_{eN}(v_e - v_n)\n",
    "$$"
   ]
  },
  {
   "attachments": {},
   "cell_type": "markdown",
   "metadata": {},
   "source": [
    "4| Heating and Cooling Processes\n",
    "---\n",
    "---"
   ]
  },
  {
   "attachments": {},
   "cell_type": "markdown",
   "metadata": {},
   "source": [
    "The mom. transfer above has accompanying energy dissipation. Heating rates given via scattering given by:\n",
    "\n",
    "<img src=HeatingRates.png width=900 />\n",
    "\n",
    "\n",
    "Energy is deposited in the gas via CR ionization.\n",
    "\n",
    "---> Each ionization associated with 2.78 dissociations of $H_2$ and provides 4.8 eV of KE to dissociation products and 2.4 eV of KE to electron gas\n",
    "\n",
    "The neutral gas also loses energy via collisional excitations (see paper for estimates)\n",
    "\n",
    "If $T_e$ rises sufficiently in the shock, can have electron impact excitation with associated cooling rate (see paper for equations)"
   ]
  },
  {
   "attachments": {},
   "cell_type": "markdown",
   "metadata": {},
   "source": [
    "5| Ionization Processes\n",
    "---\n",
    "---"
   ]
  },
  {
   "attachments": {},
   "cell_type": "markdown",
   "metadata": {},
   "source": [
    "- Structure of MHD shock waves depends largely on fractional ionization $x_e \\equiv n_e/n_H$\n",
    "- Molecular Clouds have a very low preshock fractional ionization\n",
    "    - A possibility of a runaway -- Increase in ionization enhances heating rate via ion-neutral collisions, causing temp. to rise and again increasing ionization\n",
    "- Some metal ions (i.e. Na) have low enough ionization energy that electron impact ionization is possible\n",
    "- More effective ionization process may be emission of UV radiation in the shock\n",
    "    - principal source of UV radiation is electron impact excitation\n",
    "    - UV is preferntially absorbed by the dust (only ~ 1% absorbed by the metal atoms)\n",
    "- Ion-neutral collisions are important in ionization b/c ions may be streaming through the neutral gas at tens of km/s\n",
    "- neutral-neutral collisions also important because ions and electrons are rare in molecular cloud\n",
    "\n",
    "Note: Cross-sections are given for a variety of general collisional ionization reactions"
   ]
  },
  {
   "attachments": {},
   "cell_type": "markdown",
   "metadata": {},
   "source": [
    "6| Molecular Excitation, Dissociation, and Radiative Cooling\n",
    "---\n",
    "---"
   ]
  },
  {
   "attachments": {},
   "cell_type": "markdown",
   "metadata": {},
   "source": [
    "<font size = 5> 6.a - Excitation of Molecular Hydrogen </font>"
   ]
  },
  {
   "attachments": {},
   "cell_type": "markdown",
   "metadata": {},
   "source": [
    "Inelastic collisions of $H_2$ molecules with neutral particles remove thermal energy from the neutral fluid at a rate:\n",
    "$$\n",
    "(G_n)_{H_2} = -n(H_2)\\sum_i f_i\\left[ P_{ic}<E_{ic}>_n + \\sum_{j\\neq i}P_{ij}(E_j - E_i)  \\right]\n",
    "$$\n",
    "---> where $i$ runs over all rotation-vibration levels of $H_2$, $f_i$ is the fractional pop. of level $i$, and $E_i$ is its energy.\n",
    "\n",
    "Cooling of the electron-fluid via inelastic electron-$H_2$ collisions is given by:\n",
    "$$\n",
    "(G_e)_{H_2} = -n(H_2)\\sum_i f_i \\left[ Q_{ic}<E_{ic}>_e + \\sum_{i\\neq j}Q_{ij}(E_j - E_i) \\right]\n",
    "$$\n",
    "\n",
    "For the relavant preshock conditions, $H_2$ population attains steady state on a time scale much shorter than the average time between dissociative collisions\n",
    "\n",
    "<img src=Rates.png width = 600 />"
   ]
  },
  {
   "attachments": {},
   "cell_type": "markdown",
   "metadata": {},
   "source": [
    "<font size = 5> 6.b - Dissociation of Molecular Hydrogen </font>"
   ]
  },
  {
   "attachments": {},
   "cell_type": "markdown",
   "metadata": {},
   "source": [
    "Collision induced dissociation cools neutral gas and increases its number density at rate:\n",
    "$$\n",
    "(N_n)_{H_2} = n(H_2)\\sum_i f_i(Q_{ic} + P_{ic})\n",
    "$$\n",
    "\n",
    "There is dissociation due to thermal collisions with neutrals and electrons, collisions with streaming ions, and possibly collisions with streaming dust grains\n",
    "\n",
    "------> Calculations for all possibilities are presented"
   ]
  },
  {
   "attachments": {},
   "cell_type": "markdown",
   "metadata": {},
   "source": [
    "<font size = 5> 6.c - CO, OH, and  </font>$H_2O$"
   ]
  },
  {
   "attachments": {},
   "cell_type": "markdown",
   "metadata": {},
   "source": [
    "Permitted rotations from CO, OH and $H_2O$ make substantial contribution to cooling in the shocks considered here"
   ]
  },
  {
   "attachments": {},
   "cell_type": "markdown",
   "metadata": {},
   "source": [
    "7| Oxygen-based Chemistry\n",
    "---\n",
    "---"
   ]
  },
  {
   "attachments": {},
   "cell_type": "markdown",
   "metadata": {},
   "source": [
    "10| Model Shock Waves\n",
    "---\n",
    "---"
   ]
  },
  {
   "attachments": {},
   "cell_type": "markdown",
   "metadata": {},
   "source": [
    "<font size = 5> 10.b - Results and Discussion  </font>"
   ]
  },
  {
   "attachments": {},
   "cell_type": "markdown",
   "metadata": {},
   "source": [
    "**i) Shock Structures**\n",
    "\n",
    "<img src = Result1.png width = 700 />\n",
    "\n",
    "<img src = Result2.png width = 600>\n",
    "\n",
    "\n",
    "----------> *Note*: In all three cases, the max value of the neutral temp is far below the shock temp. Thus, there is negligible dissociation of molecular H in these shocks despite many previous models predicting complete dissociation."
   ]
  },
  {
   "attachments": {},
   "cell_type": "markdown",
   "metadata": {},
   "source": [
    "**ii) Cooling Mechanisms**\n",
    "\n",
    "<img src = Cooling.png width = 800 />\n",
    "\n",
    "---> Note, the plotted quantity is effectively the fraction of the total cooling contributed by each species.\n",
    "\n"
   ]
  },
  {
   "attachments": {},
   "cell_type": "markdown",
   "metadata": {},
   "source": [
    "<font size = 5> 10.d - Grain Mantle Erosion  </font>"
   ]
  },
  {
   "attachments": {},
   "cell_type": "markdown",
   "metadata": {},
   "source": [
    "**Molecular gas shocked with $v_s \\geq 20$ km/s may be rich in molecules resulting from the sputtering of grain mantles, a consequence which may be relevant to recenet observations of \"shock-enhanced\" chemical abundances**\n",
    "\n",
    "<img src = Sputtering.png width = 900 />"
   ]
  },
  {
   "attachments": {},
   "cell_type": "markdown",
   "metadata": {},
   "source": [
    "11| Summary\n",
    "---\n",
    "---"
   ]
  },
  {
   "attachments": {},
   "cell_type": "markdown",
   "metadata": {},
   "source": [
    "- B-field and fractional ionizations present in Molecular clouds are such that structure of shocks with $v_s < 50$ km/s will be dramatically different from normal one-fluid description of the hydrodynamics\n",
    "    - shocks in molecular clouds will be C-type MHD waves normally, and J-type as an exception (unless the B-field has been seriously overestimated)\n",
    "        - Note that C-type shocks will result in a gas temp. well below the one-fluid shock temp.\n",
    "- Numerical simulations show that shock waves produce intense $H_2$ emission, but the minimum speed $v_{dis}$ for $H_2$ dissociation is much greater than previously predicted ($v_{dis} \\approx 43$ km/s rather than $v_{dis} \\approx 24$ km/s for $n_H \\approx 10^6$ cm^-3)\n",
    "- Results here show chemical reactions which produce OH and $H_2O$ play important role in thermal structure\n",
    "    - For $n_H \\geq 10^4$ cm^-3 and $v_s \\geq 10$ km/s, $H_2O$ produced in the shock is abundant and a major coolant.\n",
    "- Grain mantle erosionmay contribute to \"shock-enhanced\" abundances of various molecules"
   ]
  }
 ],
 "metadata": {
  "kernelspec": {
   "display_name": "py38",
   "language": "python",
   "name": "python3"
  },
  "language_info": {
   "name": "python",
   "version": "3.8.5"
  },
  "orig_nbformat": 4,
  "vscode": {
   "interpreter": {
    "hash": "dc221fe95b0e25ab6c5eabb7ae10620e452c9910b94a130be58d16d7a7abb398"
   }
  }
 },
 "nbformat": 4,
 "nbformat_minor": 2
}
